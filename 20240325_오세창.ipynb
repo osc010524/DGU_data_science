{
 "cells": [
  {
   "cell_type": "code",
   "execution_count": 43,
   "outputs": [],
   "source": [
    "import numpy\n",
    "import pandas as pd\n",
    "import numpy as np\n",
    "csv = \"./data/train.csv\"\n",
    "dataframe = pd.read_csv(csv)"
   ],
   "metadata": {
    "collapsed": false
   }
  },
  {
   "cell_type": "markdown",
   "source": [
    "# 판다스 2\n",
    "## 정렬하기"
   ],
   "metadata": {
    "collapsed": false
   }
  },
  {
   "cell_type": "code",
   "execution_count": 44,
   "outputs": [
    {
     "data": {
      "text/plain": "     PassengerId  Survived  Pclass                                      Name  \\\n630          631         1       1      Barkworth, Mr. Algernon Henry Wilson   \n851          852         0       3                       Svensson, Mr. Johan   \n493          494         0       1                   Artagaveytia, Mr. Ramon   \n96            97         0       1                 Goldschmidt, Mr. George B   \n116          117         0       3                      Connors, Mr. Patrick   \n..           ...       ...     ...                                       ...   \n859          860         0       3                          Razi, Mr. Raihed   \n863          864         0       3         Sage, Miss. Dorothy Edith \"Dolly\"   \n868          869         0       3               van Melkebeke, Mr. Philemon   \n878          879         0       3                        Laleff, Mr. Kristo   \n888          889         0       3  Johnston, Miss. Catherine Helen \"Carrie\"   \n\n        Sex   Age  SibSp  Parch      Ticket     Fare Cabin Embarked  \n630    male  80.0      0      0       27042  30.0000   A23        S  \n851    male  74.0      0      0      347060   7.7750   NaN        S  \n493    male  71.0      0      0    PC 17609  49.5042   NaN        C  \n96     male  71.0      0      0    PC 17754  34.6542    A5        C  \n116    male  70.5      0      0      370369   7.7500   NaN        Q  \n..      ...   ...    ...    ...         ...      ...   ...      ...  \n859    male   NaN      0      0        2629   7.2292   NaN        C  \n863  female   NaN      8      2    CA. 2343  69.5500   NaN        S  \n868    male   NaN      0      0      345777   9.5000   NaN        S  \n878    male   NaN      0      0      349217   7.8958   NaN        S  \n888  female   NaN      1      2  W./C. 6607  23.4500   NaN        S  \n\n[891 rows x 12 columns]",
      "text/html": "<div>\n<style scoped>\n    .dataframe tbody tr th:only-of-type {\n        vertical-align: middle;\n    }\n\n    .dataframe tbody tr th {\n        vertical-align: top;\n    }\n\n    .dataframe thead th {\n        text-align: right;\n    }\n</style>\n<table border=\"1\" class=\"dataframe\">\n  <thead>\n    <tr style=\"text-align: right;\">\n      <th></th>\n      <th>PassengerId</th>\n      <th>Survived</th>\n      <th>Pclass</th>\n      <th>Name</th>\n      <th>Sex</th>\n      <th>Age</th>\n      <th>SibSp</th>\n      <th>Parch</th>\n      <th>Ticket</th>\n      <th>Fare</th>\n      <th>Cabin</th>\n      <th>Embarked</th>\n    </tr>\n  </thead>\n  <tbody>\n    <tr>\n      <th>630</th>\n      <td>631</td>\n      <td>1</td>\n      <td>1</td>\n      <td>Barkworth, Mr. Algernon Henry Wilson</td>\n      <td>male</td>\n      <td>80.0</td>\n      <td>0</td>\n      <td>0</td>\n      <td>27042</td>\n      <td>30.0000</td>\n      <td>A23</td>\n      <td>S</td>\n    </tr>\n    <tr>\n      <th>851</th>\n      <td>852</td>\n      <td>0</td>\n      <td>3</td>\n      <td>Svensson, Mr. Johan</td>\n      <td>male</td>\n      <td>74.0</td>\n      <td>0</td>\n      <td>0</td>\n      <td>347060</td>\n      <td>7.7750</td>\n      <td>NaN</td>\n      <td>S</td>\n    </tr>\n    <tr>\n      <th>493</th>\n      <td>494</td>\n      <td>0</td>\n      <td>1</td>\n      <td>Artagaveytia, Mr. Ramon</td>\n      <td>male</td>\n      <td>71.0</td>\n      <td>0</td>\n      <td>0</td>\n      <td>PC 17609</td>\n      <td>49.5042</td>\n      <td>NaN</td>\n      <td>C</td>\n    </tr>\n    <tr>\n      <th>96</th>\n      <td>97</td>\n      <td>0</td>\n      <td>1</td>\n      <td>Goldschmidt, Mr. George B</td>\n      <td>male</td>\n      <td>71.0</td>\n      <td>0</td>\n      <td>0</td>\n      <td>PC 17754</td>\n      <td>34.6542</td>\n      <td>A5</td>\n      <td>C</td>\n    </tr>\n    <tr>\n      <th>116</th>\n      <td>117</td>\n      <td>0</td>\n      <td>3</td>\n      <td>Connors, Mr. Patrick</td>\n      <td>male</td>\n      <td>70.5</td>\n      <td>0</td>\n      <td>0</td>\n      <td>370369</td>\n      <td>7.7500</td>\n      <td>NaN</td>\n      <td>Q</td>\n    </tr>\n    <tr>\n      <th>...</th>\n      <td>...</td>\n      <td>...</td>\n      <td>...</td>\n      <td>...</td>\n      <td>...</td>\n      <td>...</td>\n      <td>...</td>\n      <td>...</td>\n      <td>...</td>\n      <td>...</td>\n      <td>...</td>\n      <td>...</td>\n    </tr>\n    <tr>\n      <th>859</th>\n      <td>860</td>\n      <td>0</td>\n      <td>3</td>\n      <td>Razi, Mr. Raihed</td>\n      <td>male</td>\n      <td>NaN</td>\n      <td>0</td>\n      <td>0</td>\n      <td>2629</td>\n      <td>7.2292</td>\n      <td>NaN</td>\n      <td>C</td>\n    </tr>\n    <tr>\n      <th>863</th>\n      <td>864</td>\n      <td>0</td>\n      <td>3</td>\n      <td>Sage, Miss. Dorothy Edith \"Dolly\"</td>\n      <td>female</td>\n      <td>NaN</td>\n      <td>8</td>\n      <td>2</td>\n      <td>CA. 2343</td>\n      <td>69.5500</td>\n      <td>NaN</td>\n      <td>S</td>\n    </tr>\n    <tr>\n      <th>868</th>\n      <td>869</td>\n      <td>0</td>\n      <td>3</td>\n      <td>van Melkebeke, Mr. Philemon</td>\n      <td>male</td>\n      <td>NaN</td>\n      <td>0</td>\n      <td>0</td>\n      <td>345777</td>\n      <td>9.5000</td>\n      <td>NaN</td>\n      <td>S</td>\n    </tr>\n    <tr>\n      <th>878</th>\n      <td>879</td>\n      <td>0</td>\n      <td>3</td>\n      <td>Laleff, Mr. Kristo</td>\n      <td>male</td>\n      <td>NaN</td>\n      <td>0</td>\n      <td>0</td>\n      <td>349217</td>\n      <td>7.8958</td>\n      <td>NaN</td>\n      <td>S</td>\n    </tr>\n    <tr>\n      <th>888</th>\n      <td>889</td>\n      <td>0</td>\n      <td>3</td>\n      <td>Johnston, Miss. Catherine Helen \"Carrie\"</td>\n      <td>female</td>\n      <td>NaN</td>\n      <td>1</td>\n      <td>2</td>\n      <td>W./C. 6607</td>\n      <td>23.4500</td>\n      <td>NaN</td>\n      <td>S</td>\n    </tr>\n  </tbody>\n</table>\n<p>891 rows × 12 columns</p>\n</div>"
     },
     "execution_count": 44,
     "metadata": {},
     "output_type": "execute_result"
    }
   ],
   "source": [
    "# 정렬하기\n",
    "dataframe.sort_values(by='Age', ascending=False)"
   ],
   "metadata": {
    "collapsed": false,
    "pycharm": {
     "name": "#%%ㅈ\n"
    }
   }
  },
  {
   "cell_type": "markdown",
   "source": [
    "## 고유한 값 찾기"
   ],
   "metadata": {
    "collapsed": false
   }
  },
  {
   "cell_type": "code",
   "execution_count": 45,
   "outputs": [
    {
     "data": {
      "text/plain": "male      577\nfemale    314\nName: Sex, dtype: int64"
     },
     "execution_count": 45,
     "metadata": {},
     "output_type": "execute_result"
    }
   ],
   "source": [
    "# 고유한 값 찾기\n",
    "dataframe['Sex'].unique()\n",
    "# 카운트를 출력합니다.\n",
    "dataframe['Sex'].value_counts()"
   ],
   "metadata": {
    "collapsed": false
   }
  },
  {
   "cell_type": "code",
   "execution_count": 46,
   "outputs": [
    {
     "data": {
      "text/plain": "3"
     },
     "execution_count": 46,
     "metadata": {},
     "output_type": "execute_result"
    }
   ],
   "source": [
    "# 고유한 값의 개수를 출력합니다.\n",
    "dataframe['Pclass'].nunique()"
   ],
   "metadata": {
    "collapsed": false
   }
  },
  {
   "cell_type": "code",
   "execution_count": 47,
   "outputs": [
    {
     "data": {
      "text/plain": "PassengerId    891\nSurvived         2\nPclass           3\nName           891\nSex              2\nAge             88\nSibSp            7\nParch            7\nTicket         681\nFare           248\nCabin          147\nEmbarked         3\ndtype: int64"
     },
     "execution_count": 47,
     "metadata": {},
     "output_type": "execute_result"
    }
   ],
   "source": [
    "# 전체 칼럼의 값의 개수를 출력합니다.\n",
    "dataframe.nunique()"
   ],
   "metadata": {
    "collapsed": false
   }
  },
  {
   "cell_type": "markdown",
   "source": [
    "## 누락된 값 다루기"
   ],
   "metadata": {
    "collapsed": false
   }
  },
  {
   "cell_type": "code",
   "execution_count": 48,
   "outputs": [
    {
     "data": {
      "text/plain": "    PassengerId  Survived  Pclass                          Name   Sex  Age  \\\n5             6         0       3              Moran, Mr. James  male  NaN   \n17           18         1       2  Williams, Mr. Charles Eugene  male  NaN   \n\n    SibSp  Parch  Ticket     Fare Cabin Embarked  \n5       0      0  330877   8.4583   NaN        Q  \n17      0      0  244373  13.0000   NaN        S  ",
      "text/html": "<div>\n<style scoped>\n    .dataframe tbody tr th:only-of-type {\n        vertical-align: middle;\n    }\n\n    .dataframe tbody tr th {\n        vertical-align: top;\n    }\n\n    .dataframe thead th {\n        text-align: right;\n    }\n</style>\n<table border=\"1\" class=\"dataframe\">\n  <thead>\n    <tr style=\"text-align: right;\">\n      <th></th>\n      <th>PassengerId</th>\n      <th>Survived</th>\n      <th>Pclass</th>\n      <th>Name</th>\n      <th>Sex</th>\n      <th>Age</th>\n      <th>SibSp</th>\n      <th>Parch</th>\n      <th>Ticket</th>\n      <th>Fare</th>\n      <th>Cabin</th>\n      <th>Embarked</th>\n    </tr>\n  </thead>\n  <tbody>\n    <tr>\n      <th>5</th>\n      <td>6</td>\n      <td>0</td>\n      <td>3</td>\n      <td>Moran, Mr. James</td>\n      <td>male</td>\n      <td>NaN</td>\n      <td>0</td>\n      <td>0</td>\n      <td>330877</td>\n      <td>8.4583</td>\n      <td>NaN</td>\n      <td>Q</td>\n    </tr>\n    <tr>\n      <th>17</th>\n      <td>18</td>\n      <td>1</td>\n      <td>2</td>\n      <td>Williams, Mr. Charles Eugene</td>\n      <td>male</td>\n      <td>NaN</td>\n      <td>0</td>\n      <td>0</td>\n      <td>244373</td>\n      <td>13.0000</td>\n      <td>NaN</td>\n      <td>S</td>\n    </tr>\n  </tbody>\n</table>\n</div>"
     },
     "execution_count": 48,
     "metadata": {},
     "output_type": "execute_result"
    }
   ],
   "source": [
    "dataframe[dataframe['Age'].isnull()].head(2)"
   ],
   "metadata": {
    "collapsed": false
   }
  },
  {
   "cell_type": "markdown",
   "source": [
    "NaN을 tkdydgkfuaus numpy 라이브러리의 numpy.nan 사용"
   ],
   "metadata": {
    "collapsed": false
   }
  },
  {
   "cell_type": "code",
   "execution_count": 49,
   "outputs": [
    {
     "data": {
      "text/plain": "   PassengerId  Survived  Pclass  \\\n0            1         0       3   \n1            2         1       1   \n\n                                                Name     Sex   Age  SibSp  \\\n0                            Braund, Mr. Owen Harris     NaN  22.0      1   \n1  Cumings, Mrs. John Bradley (Florence Briggs Th...  female  38.0      1   \n\n   Parch     Ticket     Fare Cabin Embarked  \n0      0  A/5 21171   7.2500   NaN        S  \n1      0   PC 17599  71.2833   C85        C  ",
      "text/html": "<div>\n<style scoped>\n    .dataframe tbody tr th:only-of-type {\n        vertical-align: middle;\n    }\n\n    .dataframe tbody tr th {\n        vertical-align: top;\n    }\n\n    .dataframe thead th {\n        text-align: right;\n    }\n</style>\n<table border=\"1\" class=\"dataframe\">\n  <thead>\n    <tr style=\"text-align: right;\">\n      <th></th>\n      <th>PassengerId</th>\n      <th>Survived</th>\n      <th>Pclass</th>\n      <th>Name</th>\n      <th>Sex</th>\n      <th>Age</th>\n      <th>SibSp</th>\n      <th>Parch</th>\n      <th>Ticket</th>\n      <th>Fare</th>\n      <th>Cabin</th>\n      <th>Embarked</th>\n    </tr>\n  </thead>\n  <tbody>\n    <tr>\n      <th>0</th>\n      <td>1</td>\n      <td>0</td>\n      <td>3</td>\n      <td>Braund, Mr. Owen Harris</td>\n      <td>NaN</td>\n      <td>22.0</td>\n      <td>1</td>\n      <td>0</td>\n      <td>A/5 21171</td>\n      <td>7.2500</td>\n      <td>NaN</td>\n      <td>S</td>\n    </tr>\n    <tr>\n      <th>1</th>\n      <td>2</td>\n      <td>1</td>\n      <td>1</td>\n      <td>Cumings, Mrs. John Bradley (Florence Briggs Th...</td>\n      <td>female</td>\n      <td>38.0</td>\n      <td>1</td>\n      <td>0</td>\n      <td>PC 17599</td>\n      <td>71.2833</td>\n      <td>C85</td>\n      <td>C</td>\n    </tr>\n  </tbody>\n</table>\n</div>"
     },
     "execution_count": 49,
     "metadata": {},
     "output_type": "execute_result"
    }
   ],
   "source": [
    "# NaN으로 값을 바꾸려고 합니다.\n",
    "dataframe['Sex'] = dataframe['Sex'].replace('male',numpy.NaN)\n",
    "dataframe.head(2)"
   ],
   "metadata": {
    "collapsed": false
   }
  },
  {
   "cell_type": "code",
   "execution_count": 50,
   "outputs": [
    {
     "data": {
      "text/plain": "   PassengerId  Survived  Pclass  \\\n0            1         0       3   \n1            2         1       1   \n\n                                                Name     Sex   Age  SibSp  \\\n0                            Braund, Mr. Owen Harris    male  22.0      1   \n1  Cumings, Mrs. John Bradley (Florence Briggs Th...  female  38.0      1   \n\n   Parch     Ticket     Fare Cabin Embarked  \n0      0  A/5 21171   7.2500   NaN        S  \n1      0   PC 17599  71.2833   C85        C  ",
      "text/html": "<div>\n<style scoped>\n    .dataframe tbody tr th:only-of-type {\n        vertical-align: middle;\n    }\n\n    .dataframe tbody tr th {\n        vertical-align: top;\n    }\n\n    .dataframe thead th {\n        text-align: right;\n    }\n</style>\n<table border=\"1\" class=\"dataframe\">\n  <thead>\n    <tr style=\"text-align: right;\">\n      <th></th>\n      <th>PassengerId</th>\n      <th>Survived</th>\n      <th>Pclass</th>\n      <th>Name</th>\n      <th>Sex</th>\n      <th>Age</th>\n      <th>SibSp</th>\n      <th>Parch</th>\n      <th>Ticket</th>\n      <th>Fare</th>\n      <th>Cabin</th>\n      <th>Embarked</th>\n    </tr>\n  </thead>\n  <tbody>\n    <tr>\n      <th>0</th>\n      <td>1</td>\n      <td>0</td>\n      <td>3</td>\n      <td>Braund, Mr. Owen Harris</td>\n      <td>male</td>\n      <td>22.0</td>\n      <td>1</td>\n      <td>0</td>\n      <td>A/5 21171</td>\n      <td>7.2500</td>\n      <td>NaN</td>\n      <td>S</td>\n    </tr>\n    <tr>\n      <th>1</th>\n      <td>2</td>\n      <td>1</td>\n      <td>1</td>\n      <td>Cumings, Mrs. John Bradley (Florence Briggs Th...</td>\n      <td>female</td>\n      <td>38.0</td>\n      <td>1</td>\n      <td>0</td>\n      <td>PC 17599</td>\n      <td>71.2833</td>\n      <td>C85</td>\n      <td>C</td>\n    </tr>\n  </tbody>\n</table>\n</div>"
     },
     "execution_count": 50,
     "metadata": {},
     "output_type": "execute_result"
    }
   ],
   "source": [
    "# 데이터를 적재하고 누랃된 값을 설정합니다.\n",
    "dataframe = pd.read_csv(csv, na_values=[np.nan, 'NONE', -999])\n",
    "dataframe.head(2)"
   ],
   "metadata": {
    "collapsed": false
   }
  },
  {
   "cell_type": "code",
   "execution_count": 51,
   "outputs": [
    {
     "data": {
      "text/plain": "    PassengerId  Survived  Pclass                            Name   Sex Age  \\\n12           13         0       3  Saundercock, Mr. William Henry  male  20   \n13           14         0       3     Andersson, Mr. Anders Johan  male  39   \n\n    SibSp  Parch     Ticket    Fare Cabin Embarked  \n12      0      0  A/5. 2151   8.050              S  \n13      1      5     347082  31.275              S  ",
      "text/html": "<div>\n<style scoped>\n    .dataframe tbody tr th:only-of-type {\n        vertical-align: middle;\n    }\n\n    .dataframe tbody tr th {\n        vertical-align: top;\n    }\n\n    .dataframe thead th {\n        text-align: right;\n    }\n</style>\n<table border=\"1\" class=\"dataframe\">\n  <thead>\n    <tr style=\"text-align: right;\">\n      <th></th>\n      <th>PassengerId</th>\n      <th>Survived</th>\n      <th>Pclass</th>\n      <th>Name</th>\n      <th>Sex</th>\n      <th>Age</th>\n      <th>SibSp</th>\n      <th>Parch</th>\n      <th>Ticket</th>\n      <th>Fare</th>\n      <th>Cabin</th>\n      <th>Embarked</th>\n    </tr>\n  </thead>\n  <tbody>\n    <tr>\n      <th>12</th>\n      <td>13</td>\n      <td>0</td>\n      <td>3</td>\n      <td>Saundercock, Mr. William Henry</td>\n      <td>male</td>\n      <td>20</td>\n      <td>0</td>\n      <td>0</td>\n      <td>A/5. 2151</td>\n      <td>8.050</td>\n      <td></td>\n      <td>S</td>\n    </tr>\n    <tr>\n      <th>13</th>\n      <td>14</td>\n      <td>0</td>\n      <td>3</td>\n      <td>Andersson, Mr. Anders Johan</td>\n      <td>male</td>\n      <td>39</td>\n      <td>1</td>\n      <td>5</td>\n      <td>347082</td>\n      <td>31.275</td>\n      <td></td>\n      <td>S</td>\n    </tr>\n  </tbody>\n</table>\n</div>"
     },
     "execution_count": 51,
     "metadata": {},
     "output_type": "execute_result"
    }
   ],
   "source": [
    "dataframe = pd.read_csv(csv, na_values=['female'], keep_default_na=False)\n",
    "dataframe[12:14]"
   ],
   "metadata": {
    "collapsed": false
   }
  },
  {
   "cell_type": "markdown",
   "source": [
    "## 열 삭제하기"
   ],
   "metadata": {
    "collapsed": false
   }
  },
  {
   "cell_type": "code",
   "execution_count": 52,
   "outputs": [
    {
     "data": {
      "text/plain": "   PassengerId  Survived  Pclass  \\\n0            1         0       3   \n1            2         1       1   \n\n                                                Name   Sex  SibSp  Parch  \\\n0                            Braund, Mr. Owen Harris  male      1      0   \n1  Cumings, Mrs. John Bradley (Florence Briggs Th...   NaN      1      0   \n\n      Ticket     Fare Cabin Embarked  \n0  A/5 21171   7.2500              S  \n1   PC 17599  71.2833   C85        C  ",
      "text/html": "<div>\n<style scoped>\n    .dataframe tbody tr th:only-of-type {\n        vertical-align: middle;\n    }\n\n    .dataframe tbody tr th {\n        vertical-align: top;\n    }\n\n    .dataframe thead th {\n        text-align: right;\n    }\n</style>\n<table border=\"1\" class=\"dataframe\">\n  <thead>\n    <tr style=\"text-align: right;\">\n      <th></th>\n      <th>PassengerId</th>\n      <th>Survived</th>\n      <th>Pclass</th>\n      <th>Name</th>\n      <th>Sex</th>\n      <th>SibSp</th>\n      <th>Parch</th>\n      <th>Ticket</th>\n      <th>Fare</th>\n      <th>Cabin</th>\n      <th>Embarked</th>\n    </tr>\n  </thead>\n  <tbody>\n    <tr>\n      <th>0</th>\n      <td>1</td>\n      <td>0</td>\n      <td>3</td>\n      <td>Braund, Mr. Owen Harris</td>\n      <td>male</td>\n      <td>1</td>\n      <td>0</td>\n      <td>A/5 21171</td>\n      <td>7.2500</td>\n      <td></td>\n      <td>S</td>\n    </tr>\n    <tr>\n      <th>1</th>\n      <td>2</td>\n      <td>1</td>\n      <td>1</td>\n      <td>Cumings, Mrs. John Bradley (Florence Briggs Th...</td>\n      <td>NaN</td>\n      <td>1</td>\n      <td>0</td>\n      <td>PC 17599</td>\n      <td>71.2833</td>\n      <td>C85</td>\n      <td>C</td>\n    </tr>\n  </tbody>\n</table>\n</div>"
     },
     "execution_count": 52,
     "metadata": {},
     "output_type": "execute_result"
    }
   ],
   "source": [
    "# 열을 삭제합니다.\n",
    "dataframe.drop('Age', axis=1).head(2)"
   ],
   "metadata": {
    "collapsed": false
   }
  },
  {
   "cell_type": "code",
   "execution_count": 53,
   "outputs": [
    {
     "data": {
      "text/plain": "   PassengerId  Survived  Pclass  \\\n0            1         0       3   \n1            2         1       1   \n\n                                                Name  SibSp  Parch     Ticket  \\\n0                            Braund, Mr. Owen Harris      1      0  A/5 21171   \n1  Cumings, Mrs. John Bradley (Florence Briggs Th...      1      0   PC 17599   \n\n      Fare Cabin Embarked  \n0   7.2500              S  \n1  71.2833   C85        C  ",
      "text/html": "<div>\n<style scoped>\n    .dataframe tbody tr th:only-of-type {\n        vertical-align: middle;\n    }\n\n    .dataframe tbody tr th {\n        vertical-align: top;\n    }\n\n    .dataframe thead th {\n        text-align: right;\n    }\n</style>\n<table border=\"1\" class=\"dataframe\">\n  <thead>\n    <tr style=\"text-align: right;\">\n      <th></th>\n      <th>PassengerId</th>\n      <th>Survived</th>\n      <th>Pclass</th>\n      <th>Name</th>\n      <th>SibSp</th>\n      <th>Parch</th>\n      <th>Ticket</th>\n      <th>Fare</th>\n      <th>Cabin</th>\n      <th>Embarked</th>\n    </tr>\n  </thead>\n  <tbody>\n    <tr>\n      <th>0</th>\n      <td>1</td>\n      <td>0</td>\n      <td>3</td>\n      <td>Braund, Mr. Owen Harris</td>\n      <td>1</td>\n      <td>0</td>\n      <td>A/5 21171</td>\n      <td>7.2500</td>\n      <td></td>\n      <td>S</td>\n    </tr>\n    <tr>\n      <th>1</th>\n      <td>2</td>\n      <td>1</td>\n      <td>1</td>\n      <td>Cumings, Mrs. John Bradley (Florence Briggs Th...</td>\n      <td>1</td>\n      <td>0</td>\n      <td>PC 17599</td>\n      <td>71.2833</td>\n      <td>C85</td>\n      <td>C</td>\n    </tr>\n  </tbody>\n</table>\n</div>"
     },
     "execution_count": 53,
     "metadata": {},
     "output_type": "execute_result"
    }
   ],
   "source": [
    "# 여러 열을 삭제합니다.\n",
    "dataframe.drop(['Age','Sex'], axis=1).head(2)"
   ],
   "metadata": {
    "collapsed": false
   }
  },
  {
   "cell_type": "code",
   "execution_count": 54,
   "outputs": [
    {
     "data": {
      "text/plain": "   PassengerId  Pclass                                               Name  \\\n0            1       3                            Braund, Mr. Owen Harris   \n1            2       1  Cumings, Mrs. John Bradley (Florence Briggs Th...   \n\n    Sex Age  SibSp  Parch     Ticket     Fare Cabin Embarked  \n0  male  22      1      0  A/5 21171   7.2500              S  \n1   NaN  38      1      0   PC 17599  71.2833   C85        C  ",
      "text/html": "<div>\n<style scoped>\n    .dataframe tbody tr th:only-of-type {\n        vertical-align: middle;\n    }\n\n    .dataframe tbody tr th {\n        vertical-align: top;\n    }\n\n    .dataframe thead th {\n        text-align: right;\n    }\n</style>\n<table border=\"1\" class=\"dataframe\">\n  <thead>\n    <tr style=\"text-align: right;\">\n      <th></th>\n      <th>PassengerId</th>\n      <th>Pclass</th>\n      <th>Name</th>\n      <th>Sex</th>\n      <th>Age</th>\n      <th>SibSp</th>\n      <th>Parch</th>\n      <th>Ticket</th>\n      <th>Fare</th>\n      <th>Cabin</th>\n      <th>Embarked</th>\n    </tr>\n  </thead>\n  <tbody>\n    <tr>\n      <th>0</th>\n      <td>1</td>\n      <td>3</td>\n      <td>Braund, Mr. Owen Harris</td>\n      <td>male</td>\n      <td>22</td>\n      <td>1</td>\n      <td>0</td>\n      <td>A/5 21171</td>\n      <td>7.2500</td>\n      <td></td>\n      <td>S</td>\n    </tr>\n    <tr>\n      <th>1</th>\n      <td>2</td>\n      <td>1</td>\n      <td>Cumings, Mrs. John Bradley (Florence Briggs Th...</td>\n      <td>NaN</td>\n      <td>38</td>\n      <td>1</td>\n      <td>0</td>\n      <td>PC 17599</td>\n      <td>71.2833</td>\n      <td>C85</td>\n      <td>C</td>\n    </tr>\n  </tbody>\n</table>\n</div>"
     },
     "execution_count": 54,
     "metadata": {},
     "output_type": "execute_result"
    }
   ],
   "source": [
    "# 열인덱스 지정하여 PClass 열을 삭제합니다.\n",
    "dataframe.drop(dataframe.columns[1], axis=1).head(2)"
   ],
   "metadata": {
    "collapsed": false
   }
  },
  {
   "cell_type": "markdown",
   "source": [
    "## 행삭제"
   ],
   "metadata": {
    "collapsed": false
   }
  },
  {
   "cell_type": "code",
   "execution_count": 55,
   "outputs": [
    {
     "data": {
      "text/plain": "   PassengerId  Survived  Pclass  \\\n1            2         1       1   \n2            3         1       3   \n\n                                                Name  Sex Age  SibSp  Parch  \\\n1  Cumings, Mrs. John Bradley (Florence Briggs Th...  NaN  38      1      0   \n2                             Heikkinen, Miss. Laina  NaN  26      0      0   \n\n             Ticket     Fare Cabin Embarked  \n1          PC 17599  71.2833   C85        C  \n2  STON/O2. 3101282   7.9250              S  ",
      "text/html": "<div>\n<style scoped>\n    .dataframe tbody tr th:only-of-type {\n        vertical-align: middle;\n    }\n\n    .dataframe tbody tr th {\n        vertical-align: top;\n    }\n\n    .dataframe thead th {\n        text-align: right;\n    }\n</style>\n<table border=\"1\" class=\"dataframe\">\n  <thead>\n    <tr style=\"text-align: right;\">\n      <th></th>\n      <th>PassengerId</th>\n      <th>Survived</th>\n      <th>Pclass</th>\n      <th>Name</th>\n      <th>Sex</th>\n      <th>Age</th>\n      <th>SibSp</th>\n      <th>Parch</th>\n      <th>Ticket</th>\n      <th>Fare</th>\n      <th>Cabin</th>\n      <th>Embarked</th>\n    </tr>\n  </thead>\n  <tbody>\n    <tr>\n      <th>1</th>\n      <td>2</td>\n      <td>1</td>\n      <td>1</td>\n      <td>Cumings, Mrs. John Bradley (Florence Briggs Th...</td>\n      <td>NaN</td>\n      <td>38</td>\n      <td>1</td>\n      <td>0</td>\n      <td>PC 17599</td>\n      <td>71.2833</td>\n      <td>C85</td>\n      <td>C</td>\n    </tr>\n    <tr>\n      <th>2</th>\n      <td>3</td>\n      <td>1</td>\n      <td>3</td>\n      <td>Heikkinen, Miss. Laina</td>\n      <td>NaN</td>\n      <td>26</td>\n      <td>0</td>\n      <td>0</td>\n      <td>STON/O2. 3101282</td>\n      <td>7.9250</td>\n      <td></td>\n      <td>S</td>\n    </tr>\n  </tbody>\n</table>\n</div>"
     },
     "execution_count": 55,
     "metadata": {},
     "output_type": "execute_result"
    }
   ],
   "source": [
    "# 행을 삭제하고 처음 두 개의 행을 출력합니다.\n",
    "dataframe[dataframe['Sex'] != 'male'].head(2)"
   ],
   "metadata": {
    "collapsed": false
   }
  },
  {
   "cell_type": "code",
   "execution_count": 56,
   "outputs": [
    {
     "data": {
      "text/plain": "   PassengerId  Survived  Pclass  \\\n0            1         0       3   \n1            2         1       1   \n\n                                                Name   Sex Age  SibSp  Parch  \\\n0                            Braund, Mr. Owen Harris  male  22      1      0   \n1  Cumings, Mrs. John Bradley (Florence Briggs Th...   NaN  38      1      0   \n\n      Ticket     Fare Cabin Embarked  \n0  A/5 21171   7.2500              S  \n1   PC 17599  71.2833   C85        C  ",
      "text/html": "<div>\n<style scoped>\n    .dataframe tbody tr th:only-of-type {\n        vertical-align: middle;\n    }\n\n    .dataframe tbody tr th {\n        vertical-align: top;\n    }\n\n    .dataframe thead th {\n        text-align: right;\n    }\n</style>\n<table border=\"1\" class=\"dataframe\">\n  <thead>\n    <tr style=\"text-align: right;\">\n      <th></th>\n      <th>PassengerId</th>\n      <th>Survived</th>\n      <th>Pclass</th>\n      <th>Name</th>\n      <th>Sex</th>\n      <th>Age</th>\n      <th>SibSp</th>\n      <th>Parch</th>\n      <th>Ticket</th>\n      <th>Fare</th>\n      <th>Cabin</th>\n      <th>Embarked</th>\n    </tr>\n  </thead>\n  <tbody>\n    <tr>\n      <th>0</th>\n      <td>1</td>\n      <td>0</td>\n      <td>3</td>\n      <td>Braund, Mr. Owen Harris</td>\n      <td>male</td>\n      <td>22</td>\n      <td>1</td>\n      <td>0</td>\n      <td>A/5 21171</td>\n      <td>7.2500</td>\n      <td></td>\n      <td>S</td>\n    </tr>\n    <tr>\n      <th>1</th>\n      <td>2</td>\n      <td>1</td>\n      <td>1</td>\n      <td>Cumings, Mrs. John Bradley (Florence Briggs Th...</td>\n      <td>NaN</td>\n      <td>38</td>\n      <td>1</td>\n      <td>0</td>\n      <td>PC 17599</td>\n      <td>71.2833</td>\n      <td>C85</td>\n      <td>C</td>\n    </tr>\n  </tbody>\n</table>\n</div>"
     },
     "execution_count": 56,
     "metadata": {},
     "output_type": "execute_result"
    }
   ],
   "source": [
    "# 중복 행을 삭제하고 처음 두개의 행을 출력합니다.\n",
    "dataframe.drop_duplicates().head(2)"
   ],
   "metadata": {
    "collapsed": false
   }
  },
  {
   "cell_type": "code",
   "execution_count": 57,
   "outputs": [
    {
     "name": "stdout",
     "output_type": "stream",
     "text": [
      "원본 데이터프레임 행의 갯수: 891\n",
      "중복 제거 후 행의 갯수: 891\n"
     ]
    }
   ],
   "source": [
    "# 행의 갯수를 출력합니다.\n",
    "print(\"원본 데이터프레임 행의 갯수:\",len(dataframe))\n",
    "print(\"중복 제거 후 행의 갯수:\",len(dataframe.drop_duplicates()))"
   ],
   "metadata": {
    "collapsed": false
   }
  },
  {
   "cell_type": "code",
   "execution_count": 58,
   "outputs": [
    {
     "data": {
      "text/plain": "   PassengerId  Survived  Pclass  \\\n0            1         0       3   \n1            2         1       1   \n\n                                                Name   Sex Age  SibSp  Parch  \\\n0                            Braund, Mr. Owen Harris  male  22      1      0   \n1  Cumings, Mrs. John Bradley (Florence Briggs Th...   NaN  38      1      0   \n\n      Ticket     Fare Cabin Embarked  \n0  A/5 21171   7.2500              S  \n1   PC 17599  71.2833   C85        C  ",
      "text/html": "<div>\n<style scoped>\n    .dataframe tbody tr th:only-of-type {\n        vertical-align: middle;\n    }\n\n    .dataframe tbody tr th {\n        vertical-align: top;\n    }\n\n    .dataframe thead th {\n        text-align: right;\n    }\n</style>\n<table border=\"1\" class=\"dataframe\">\n  <thead>\n    <tr style=\"text-align: right;\">\n      <th></th>\n      <th>PassengerId</th>\n      <th>Survived</th>\n      <th>Pclass</th>\n      <th>Name</th>\n      <th>Sex</th>\n      <th>Age</th>\n      <th>SibSp</th>\n      <th>Parch</th>\n      <th>Ticket</th>\n      <th>Fare</th>\n      <th>Cabin</th>\n      <th>Embarked</th>\n    </tr>\n  </thead>\n  <tbody>\n    <tr>\n      <th>0</th>\n      <td>1</td>\n      <td>0</td>\n      <td>3</td>\n      <td>Braund, Mr. Owen Harris</td>\n      <td>male</td>\n      <td>22</td>\n      <td>1</td>\n      <td>0</td>\n      <td>A/5 21171</td>\n      <td>7.2500</td>\n      <td></td>\n      <td>S</td>\n    </tr>\n    <tr>\n      <th>1</th>\n      <td>2</td>\n      <td>1</td>\n      <td>1</td>\n      <td>Cumings, Mrs. John Bradley (Florence Briggs Th...</td>\n      <td>NaN</td>\n      <td>38</td>\n      <td>1</td>\n      <td>0</td>\n      <td>PC 17599</td>\n      <td>71.2833</td>\n      <td>C85</td>\n      <td>C</td>\n    </tr>\n  </tbody>\n</table>\n</div>"
     },
     "execution_count": 58,
     "metadata": {},
     "output_type": "execute_result"
    }
   ],
   "source": [
    "# 중복된 행을 삭제합니다. 처음 나타난 것 유지\n",
    "dataframe.drop_duplicates(subset=['Sex'])"
   ],
   "metadata": {
    "collapsed": false
   }
  },
  {
   "cell_type": "code",
   "execution_count": 59,
   "outputs": [
    {
     "data": {
      "text/plain": "     PassengerId  Survived  Pclass                                      Name  \\\n888          889         0       3  Johnston, Miss. Catherine Helen \"Carrie\"   \n890          891         0       3                       Dooley, Mr. Patrick   \n\n      Sex Age  SibSp  Parch      Ticket   Fare Cabin Embarked  \n888   NaN          1      2  W./C. 6607  23.45              S  \n890  male  32      0      0      370376   7.75              Q  ",
      "text/html": "<div>\n<style scoped>\n    .dataframe tbody tr th:only-of-type {\n        vertical-align: middle;\n    }\n\n    .dataframe tbody tr th {\n        vertical-align: top;\n    }\n\n    .dataframe thead th {\n        text-align: right;\n    }\n</style>\n<table border=\"1\" class=\"dataframe\">\n  <thead>\n    <tr style=\"text-align: right;\">\n      <th></th>\n      <th>PassengerId</th>\n      <th>Survived</th>\n      <th>Pclass</th>\n      <th>Name</th>\n      <th>Sex</th>\n      <th>Age</th>\n      <th>SibSp</th>\n      <th>Parch</th>\n      <th>Ticket</th>\n      <th>Fare</th>\n      <th>Cabin</th>\n      <th>Embarked</th>\n    </tr>\n  </thead>\n  <tbody>\n    <tr>\n      <th>888</th>\n      <td>889</td>\n      <td>0</td>\n      <td>3</td>\n      <td>Johnston, Miss. Catherine Helen \"Carrie\"</td>\n      <td>NaN</td>\n      <td></td>\n      <td>1</td>\n      <td>2</td>\n      <td>W./C. 6607</td>\n      <td>23.45</td>\n      <td></td>\n      <td>S</td>\n    </tr>\n    <tr>\n      <th>890</th>\n      <td>891</td>\n      <td>0</td>\n      <td>3</td>\n      <td>Dooley, Mr. Patrick</td>\n      <td>male</td>\n      <td>32</td>\n      <td>0</td>\n      <td>0</td>\n      <td>370376</td>\n      <td>7.75</td>\n      <td></td>\n      <td>Q</td>\n    </tr>\n  </tbody>\n</table>\n</div>"
     },
     "execution_count": 59,
     "metadata": {},
     "output_type": "execute_result"
    }
   ],
   "source": [
    "# 중복된 행을 삭제합니다. 마지막에 나타난 것 유지\n",
    "dataframe.drop_duplicates(subset=['Sex'], keep='last')"
   ],
   "metadata": {
    "collapsed": false
   }
  },
  {
   "cell_type": "markdown",
   "source": [
    "## 값에 따라 그룹핑"
   ],
   "metadata": {
    "collapsed": false
   }
  },
  {
   "cell_type": "code",
   "execution_count": 60,
   "outputs": [
    {
     "data": {
      "text/plain": "      PassengerId  Survived    Pclass     SibSp     Parch       Fare\nSex                                                                 \nmale   454.147314  0.188908  2.389948  0.429809  0.235702  25.523893",
      "text/html": "<div>\n<style scoped>\n    .dataframe tbody tr th:only-of-type {\n        vertical-align: middle;\n    }\n\n    .dataframe tbody tr th {\n        vertical-align: top;\n    }\n\n    .dataframe thead th {\n        text-align: right;\n    }\n</style>\n<table border=\"1\" class=\"dataframe\">\n  <thead>\n    <tr style=\"text-align: right;\">\n      <th></th>\n      <th>PassengerId</th>\n      <th>Survived</th>\n      <th>Pclass</th>\n      <th>SibSp</th>\n      <th>Parch</th>\n      <th>Fare</th>\n    </tr>\n    <tr>\n      <th>Sex</th>\n      <th></th>\n      <th></th>\n      <th></th>\n      <th></th>\n      <th></th>\n      <th></th>\n    </tr>\n  </thead>\n  <tbody>\n    <tr>\n      <th>male</th>\n      <td>454.147314</td>\n      <td>0.188908</td>\n      <td>2.389948</td>\n      <td>0.429809</td>\n      <td>0.235702</td>\n      <td>25.523893</td>\n    </tr>\n  </tbody>\n</table>\n</div>"
     },
     "execution_count": 60,
     "metadata": {},
     "output_type": "execute_result"
    }
   ],
   "source": [
    "#sex 열릐 값으로 행을 그룹핑하고 평균을 계산합니다.\n",
    "dataframe.groupby('Sex').mean()"
   ],
   "metadata": {
    "collapsed": false
   }
  },
  {
   "cell_type": "code",
   "execution_count": 61,
   "outputs": [
    {
     "data": {
      "text/plain": "<pandas.core.groupby.generic.DataFrameGroupBy object at 0x000002282D519358>"
     },
     "execution_count": 61,
     "metadata": {},
     "output_type": "execute_result"
    }
   ],
   "source": [
    "# 행을 그룹핑합니다.\n",
    "dataframe.groupby('Sex')"
   ],
   "metadata": {
    "collapsed": false
   }
  },
  {
   "cell_type": "code",
   "execution_count": 62,
   "outputs": [
    {
     "data": {
      "text/plain": "Survived\n0    549\n1    342\nName: Name, dtype: int64"
     },
     "execution_count": 62,
     "metadata": {},
     "output_type": "execute_result"
    }
   ],
   "source": [
    "# 행을 그룹핑하고 카운트를 출력합니다.\n",
    "dataframe.groupby('Survived')['Name'].count()"
   ],
   "metadata": {
    "collapsed": false
   }
  },
  {
   "cell_type": "code",
   "execution_count": 68,
   "outputs": [],
   "source": [
    "# 'Age' 열을 숫자 형식으로 변환하고, 숫자가 아닌 값은 NaN으로 설정합니다.\n",
    "dataframe['Age'] = pd.to_numeric(dataframe['Age'], errors='coerce')\n",
    "# 'Age' 열에 NaN 값이 있는 행을 제거합니다.\n",
    "dataframe.dropna(subset=['Age'], inplace=True)"
   ],
   "metadata": {
    "collapsed": false
   }
  },
  {
   "cell_type": "code",
   "execution_count": 69,
   "outputs": [
    {
     "data": {
      "text/plain": "Sex   Survived\nmale  0           31.618056\n      1           27.276022\nName: Age, dtype: float64"
     },
     "execution_count": 69,
     "metadata": {},
     "output_type": "execute_result"
    }
   ],
   "source": [
    "dataframe.groupby(['Sex','Survived'])['Age'].mean()"
   ],
   "metadata": {
    "collapsed": false
   }
  },
  {
   "cell_type": "markdown",
   "source": [
    "## 열 반복하기"
   ],
   "metadata": {
    "collapsed": false
   }
  },
  {
   "cell_type": "code",
   "execution_count": 70,
   "outputs": [
    {
     "name": "stdout",
     "output_type": "stream",
     "text": [
      "BRAUND, MR. OWEN HARRIS\n",
      "CUMINGS, MRS. JOHN BRADLEY (FLORENCE BRIGGS THAYER)\n"
     ]
    }
   ],
   "source": [
    "# 처음 두 이름을 대문자로 바꾸어 출력합니다.\n",
    "for name in dataframe['Name'][0:2]:\n",
    "    print(name.upper())"
   ],
   "metadata": {
    "collapsed": false
   }
  },
  {
   "cell_type": "code",
   "execution_count": 71,
   "outputs": [
    {
     "data": {
      "text/plain": "['BRAUND, MR. OWEN HARRIS',\n 'CUMINGS, MRS. JOHN BRADLEY (FLORENCE BRIGGS THAYER)']"
     },
     "execution_count": 71,
     "metadata": {},
     "output_type": "execute_result"
    }
   ],
   "source": [
    "# 처음 두 이름을 대문자로 바꾸어 출력합니다. 2\n",
    "[name.upper() for name in dataframe['Name'][0:2]]"
   ],
   "metadata": {
    "collapsed": false
   }
  },
  {
   "cell_type": "markdown",
   "source": [
    "## 모든 열 원소에 함수 적용"
   ],
   "metadata": {
    "collapsed": false
   }
  },
  {
   "cell_type": "code",
   "execution_count": 72,
   "outputs": [
    {
     "data": {
      "text/plain": "0                              BRAUND, MR. OWEN HARRIS\n1    CUMINGS, MRS. JOHN BRADLEY (FLORENCE BRIGGS TH...\nName: Name, dtype: object"
     },
     "execution_count": 72,
     "metadata": {},
     "output_type": "execute_result"
    }
   ],
   "source": [
    "# 함수를 만듭니다.\n",
    "def uppercase(x):\n",
    "    return x.upper()\n",
    "\n",
    "# 함수를 적용하고 두 개의 행을 출력합니다.\n",
    "dataframe['Name'].apply(uppercase)[0:2]"
   ],
   "metadata": {
    "collapsed": false
   }
  },
  {
   "cell_type": "code",
   "execution_count": 73,
   "outputs": [
    {
     "data": {
      "text/plain": "0    Dead\n1    Live\n2    Live\n3    Live\n4    Dead\nName: Survived, dtype: object"
     },
     "execution_count": 73,
     "metadata": {},
     "output_type": "execute_result"
    }
   ],
   "source": [
    "#Servived 열의 1을 Live로, 0을 Dead로 바꾸어 출력합니다.\n",
    "dataframe['Survived'].map({1:'Live',0:'Dead'})[:5]"
   ],
   "metadata": {
    "collapsed": false
   }
  },
  {
   "cell_type": "code",
   "execution_count": 75,
   "outputs": [
    {
     "data": {
      "text/plain": "0     True\n1    False\n2     True\n3    False\n4    False\nName: Age, dtype: bool"
     },
     "execution_count": 75,
     "metadata": {},
     "output_type": "execute_result"
    }
   ],
   "source": [
    "# 함수의 매개 변수(age)를 apply 메서드를 호출할 때 전달할 수 있습니다.\n",
    "dataframe['Age'].apply(lambda x, age: x < age, age=30)[:5]"
   ],
   "metadata": {
    "collapsed": false
   }
  },
  {
   "cell_type": "code",
   "execution_count": 77,
   "outputs": [
    {
     "data": {
      "text/plain": "PassengerId    891.0000\nSurvived         1.0000\nPclass           3.0000\nName                NaN\nSex                 NaN\nAge             80.0000\nSibSp            5.0000\nParch            6.0000\nTicket              NaN\nFare           512.3292\nCabin               NaN\nEmbarked            NaN\ndtype: float64"
     },
     "execution_count": 77,
     "metadata": {},
     "output_type": "execute_result"
    }
   ],
   "source": [
    "# 각 열에서 가장 큰 값을 뽑습니다.\n",
    "# 숫자로 변환할 수 있는 값만을 남기고 나머지는 NaN으로 설정\n",
    "df = dataframe.apply(pd.to_numeric, errors='coerce')\n",
    "df.apply(lambda x: max(x))"
   ],
   "metadata": {
    "collapsed": false
   }
  },
  {
   "cell_type": "code",
   "execution_count": 80,
   "outputs": [
    {
     "data": {
      "text/plain": "   PassengerId  Survived  Pclass                  Name   Sex   Age  SibSp  \\\n0            1         0       3  Braund, Mr. Owen Har  male  22.0      1   \n1            2         1       1  Cumings, Mrs. John B   NaN  38.0      1   \n2            3         1       3  Heikkinen, Miss. Lai   NaN  26.0      0   \n3            4         1       1  Futrelle, Mrs. Jacqu   NaN  35.0      1   \n4            5         0       3  Allen, Mr. William H  male  35.0      0   \n\n   Parch            Ticket     Fare Cabin Embarked  \n0      0         A/5 21171   7.2500              S  \n1      0          PC 17599  71.2833   C85        C  \n2      0  STON/O2. 3101282   7.9250              S  \n3      0            113803  53.1000  C123        S  \n4      0            373450   8.0500              S  ",
      "text/html": "<div>\n<style scoped>\n    .dataframe tbody tr th:only-of-type {\n        vertical-align: middle;\n    }\n\n    .dataframe tbody tr th {\n        vertical-align: top;\n    }\n\n    .dataframe thead th {\n        text-align: right;\n    }\n</style>\n<table border=\"1\" class=\"dataframe\">\n  <thead>\n    <tr style=\"text-align: right;\">\n      <th></th>\n      <th>PassengerId</th>\n      <th>Survived</th>\n      <th>Pclass</th>\n      <th>Name</th>\n      <th>Sex</th>\n      <th>Age</th>\n      <th>SibSp</th>\n      <th>Parch</th>\n      <th>Ticket</th>\n      <th>Fare</th>\n      <th>Cabin</th>\n      <th>Embarked</th>\n    </tr>\n  </thead>\n  <tbody>\n    <tr>\n      <th>0</th>\n      <td>1</td>\n      <td>0</td>\n      <td>3</td>\n      <td>Braund, Mr. Owen Har</td>\n      <td>male</td>\n      <td>22.0</td>\n      <td>1</td>\n      <td>0</td>\n      <td>A/5 21171</td>\n      <td>7.2500</td>\n      <td></td>\n      <td>S</td>\n    </tr>\n    <tr>\n      <th>1</th>\n      <td>2</td>\n      <td>1</td>\n      <td>1</td>\n      <td>Cumings, Mrs. John B</td>\n      <td>NaN</td>\n      <td>38.0</td>\n      <td>1</td>\n      <td>0</td>\n      <td>PC 17599</td>\n      <td>71.2833</td>\n      <td>C85</td>\n      <td>C</td>\n    </tr>\n    <tr>\n      <th>2</th>\n      <td>3</td>\n      <td>1</td>\n      <td>3</td>\n      <td>Heikkinen, Miss. Lai</td>\n      <td>NaN</td>\n      <td>26.0</td>\n      <td>0</td>\n      <td>0</td>\n      <td>STON/O2. 3101282</td>\n      <td>7.9250</td>\n      <td></td>\n      <td>S</td>\n    </tr>\n    <tr>\n      <th>3</th>\n      <td>4</td>\n      <td>1</td>\n      <td>1</td>\n      <td>Futrelle, Mrs. Jacqu</td>\n      <td>NaN</td>\n      <td>35.0</td>\n      <td>1</td>\n      <td>0</td>\n      <td>113803</td>\n      <td>53.1000</td>\n      <td>C123</td>\n      <td>S</td>\n    </tr>\n    <tr>\n      <th>4</th>\n      <td>5</td>\n      <td>0</td>\n      <td>3</td>\n      <td>Allen, Mr. William H</td>\n      <td>male</td>\n      <td>35.0</td>\n      <td>0</td>\n      <td>0</td>\n      <td>373450</td>\n      <td>8.0500</td>\n      <td></td>\n      <td>S</td>\n    </tr>\n  </tbody>\n</table>\n</div>"
     },
     "execution_count": 80,
     "metadata": {},
     "output_type": "execute_result"
    }
   ],
   "source": [
    "#applymap 메서드는 map 매서드와 비슷하게 열의 각 원소에 적용\n",
    "def truncate_string(x):\n",
    "    if type(x) == str:\n",
    "        return x[:20]\n",
    "    return x\n",
    "# 문자열의 길이를 최대 20자로 줄입니다.\n",
    "dataframe.applymap(truncate_string)[:5]"
   ],
   "metadata": {
    "collapsed": false
   }
  },
  {
   "cell_type": "markdown",
   "source": [
    "## 그룹에 함수 적용"
   ],
   "metadata": {
    "collapsed": false
   }
  },
  {
   "cell_type": "code",
   "execution_count": 81,
   "outputs": [
    {
     "data": {
      "text/plain": "      PassengerId  Survived  Pclass  Name  Sex  Age  SibSp  Parch  Ticket  \\\nSex                                                                         \nmale          453       453     453   453  453  453    453    453     453   \n\n      Fare  Cabin  Embarked  \nSex                          \nmale   453    453       453  ",
      "text/html": "<div>\n<style scoped>\n    .dataframe tbody tr th:only-of-type {\n        vertical-align: middle;\n    }\n\n    .dataframe tbody tr th {\n        vertical-align: top;\n    }\n\n    .dataframe thead th {\n        text-align: right;\n    }\n</style>\n<table border=\"1\" class=\"dataframe\">\n  <thead>\n    <tr style=\"text-align: right;\">\n      <th></th>\n      <th>PassengerId</th>\n      <th>Survived</th>\n      <th>Pclass</th>\n      <th>Name</th>\n      <th>Sex</th>\n      <th>Age</th>\n      <th>SibSp</th>\n      <th>Parch</th>\n      <th>Ticket</th>\n      <th>Fare</th>\n      <th>Cabin</th>\n      <th>Embarked</th>\n    </tr>\n    <tr>\n      <th>Sex</th>\n      <th></th>\n      <th></th>\n      <th></th>\n      <th></th>\n      <th></th>\n      <th></th>\n      <th></th>\n      <th></th>\n      <th></th>\n      <th></th>\n      <th></th>\n      <th></th>\n    </tr>\n  </thead>\n  <tbody>\n    <tr>\n      <th>male</th>\n      <td>453</td>\n      <td>453</td>\n      <td>453</td>\n      <td>453</td>\n      <td>453</td>\n      <td>453</td>\n      <td>453</td>\n      <td>453</td>\n      <td>453</td>\n      <td>453</td>\n      <td>453</td>\n      <td>453</td>\n    </tr>\n  </tbody>\n</table>\n</div>"
     },
     "execution_count": 81,
     "metadata": {},
     "output_type": "execute_result"
    }
   ],
   "source": [
    "# 행을 그룹핑한 다음 함수를 적용합니다.\n",
    "dataframe.groupby('Sex').apply(lambda x: x.count())"
   ],
   "metadata": {
    "collapsed": false
   }
  },
  {
   "cell_type": "markdown",
   "source": [
    "## 데이터 프레임 연결"
   ],
   "metadata": {
    "collapsed": false
   }
  },
  {
   "cell_type": "code",
   "execution_count": 82,
   "outputs": [
    {
     "data": {
      "text/plain": "    A   B   C\n0  A0  B0  C0\n1  A1  B1  C1\n2  A2  B2  C2\n3  A3  B3  C3\n4  A4  B4  C4\n5  A5  B5  C5",
      "text/html": "<div>\n<style scoped>\n    .dataframe tbody tr th:only-of-type {\n        vertical-align: middle;\n    }\n\n    .dataframe tbody tr th {\n        vertical-align: top;\n    }\n\n    .dataframe thead th {\n        text-align: right;\n    }\n</style>\n<table border=\"1\" class=\"dataframe\">\n  <thead>\n    <tr style=\"text-align: right;\">\n      <th></th>\n      <th>A</th>\n      <th>B</th>\n      <th>C</th>\n    </tr>\n  </thead>\n  <tbody>\n    <tr>\n      <th>0</th>\n      <td>A0</td>\n      <td>B0</td>\n      <td>C0</td>\n    </tr>\n    <tr>\n      <th>1</th>\n      <td>A1</td>\n      <td>B1</td>\n      <td>C1</td>\n    </tr>\n    <tr>\n      <th>2</th>\n      <td>A2</td>\n      <td>B2</td>\n      <td>C2</td>\n    </tr>\n    <tr>\n      <th>3</th>\n      <td>A3</td>\n      <td>B3</td>\n      <td>C3</td>\n    </tr>\n    <tr>\n      <th>4</th>\n      <td>A4</td>\n      <td>B4</td>\n      <td>C4</td>\n    </tr>\n    <tr>\n      <th>5</th>\n      <td>A5</td>\n      <td>B5</td>\n      <td>C5</td>\n    </tr>\n  </tbody>\n</table>\n</div>"
     },
     "execution_count": 82,
     "metadata": {},
     "output_type": "execute_result"
    }
   ],
   "source": [
    "# 행방향으로 데티어 프레임을 연결합니다.\n",
    "df1 = pd.DataFrame({'A': ['A0', 'A1', 'A2'],\n",
    "                    'B': ['B0', 'B1', 'B2'],\n",
    "                    'C': ['C0', 'C1', 'C2']},\n",
    "                   index=[0, 1, 2])\n",
    "df2 = pd.DataFrame({'A': ['A3', 'A4', 'A5'],\n",
    "                    'B': ['B3', 'B4', 'B5'],\n",
    "                    'C': ['C3', 'C4', 'C5']},\n",
    "                     index=[3, 4, 5])\n",
    "pd.concat([df1, df2], axis=0)"
   ],
   "metadata": {
    "collapsed": false
   }
  },
  {
   "cell_type": "code",
   "execution_count": 83,
   "outputs": [
    {
     "data": {
      "text/plain": "     A    B    C    A    B    C\n0   A0   B0   C0  NaN  NaN  NaN\n1   A1   B1   C1  NaN  NaN  NaN\n2   A2   B2   C2  NaN  NaN  NaN\n3  NaN  NaN  NaN   A3   B3   C3\n4  NaN  NaN  NaN   A4   B4   C4\n5  NaN  NaN  NaN   A5   B5   C5",
      "text/html": "<div>\n<style scoped>\n    .dataframe tbody tr th:only-of-type {\n        vertical-align: middle;\n    }\n\n    .dataframe tbody tr th {\n        vertical-align: top;\n    }\n\n    .dataframe thead th {\n        text-align: right;\n    }\n</style>\n<table border=\"1\" class=\"dataframe\">\n  <thead>\n    <tr style=\"text-align: right;\">\n      <th></th>\n      <th>A</th>\n      <th>B</th>\n      <th>C</th>\n      <th>A</th>\n      <th>B</th>\n      <th>C</th>\n    </tr>\n  </thead>\n  <tbody>\n    <tr>\n      <th>0</th>\n      <td>A0</td>\n      <td>B0</td>\n      <td>C0</td>\n      <td>NaN</td>\n      <td>NaN</td>\n      <td>NaN</td>\n    </tr>\n    <tr>\n      <th>1</th>\n      <td>A1</td>\n      <td>B1</td>\n      <td>C1</td>\n      <td>NaN</td>\n      <td>NaN</td>\n      <td>NaN</td>\n    </tr>\n    <tr>\n      <th>2</th>\n      <td>A2</td>\n      <td>B2</td>\n      <td>C2</td>\n      <td>NaN</td>\n      <td>NaN</td>\n      <td>NaN</td>\n    </tr>\n    <tr>\n      <th>3</th>\n      <td>NaN</td>\n      <td>NaN</td>\n      <td>NaN</td>\n      <td>A3</td>\n      <td>B3</td>\n      <td>C3</td>\n    </tr>\n    <tr>\n      <th>4</th>\n      <td>NaN</td>\n      <td>NaN</td>\n      <td>NaN</td>\n      <td>A4</td>\n      <td>B4</td>\n      <td>C4</td>\n    </tr>\n    <tr>\n      <th>5</th>\n      <td>NaN</td>\n      <td>NaN</td>\n      <td>NaN</td>\n      <td>A5</td>\n      <td>B5</td>\n      <td>C5</td>\n    </tr>\n  </tbody>\n</table>\n</div>"
     },
     "execution_count": 83,
     "metadata": {},
     "output_type": "execute_result"
    }
   ],
   "source": [
    "# 열방향으로 데이터 프레임을 연결합니다.\n",
    "pd.concat([df1, df2], axis=1)"
   ],
   "metadata": {
    "collapsed": false
   }
  },
  {
   "cell_type": "markdown",
   "source": [
    "## 데이터 프레임 병합"
   ],
   "metadata": {
    "collapsed": false
   }
  },
  {
   "cell_type": "code",
   "execution_count": 84,
   "outputs": [
    {
     "data": {
      "text/plain": "  employee_id        name  total_sales\n0           3  Alice Bees        23456\n1           4  Tim Horton         2512",
      "text/html": "<div>\n<style scoped>\n    .dataframe tbody tr th:only-of-type {\n        vertical-align: middle;\n    }\n\n    .dataframe tbody tr th {\n        vertical-align: top;\n    }\n\n    .dataframe thead th {\n        text-align: right;\n    }\n</style>\n<table border=\"1\" class=\"dataframe\">\n  <thead>\n    <tr style=\"text-align: right;\">\n      <th></th>\n      <th>employee_id</th>\n      <th>name</th>\n      <th>total_sales</th>\n    </tr>\n  </thead>\n  <tbody>\n    <tr>\n      <th>0</th>\n      <td>3</td>\n      <td>Alice Bees</td>\n      <td>23456</td>\n    </tr>\n    <tr>\n      <th>1</th>\n      <td>4</td>\n      <td>Tim Horton</td>\n      <td>2512</td>\n    </tr>\n  </tbody>\n</table>\n</div>"
     },
     "execution_count": 84,
     "metadata": {},
     "output_type": "execute_result"
    }
   ],
   "source": [
    "# 데이터프레임을 생성\n",
    "employee_data = {'employee_id': ['1', '2', '3', '4'],\n",
    "                 'name': ['Amy Jones', 'Allen Keys', 'Alice Bees',\n",
    "                          'Tim Horton']}\n",
    "dataframe_employees = pd.DataFrame(employee_data, columns = ['employee_id',\n",
    "                                                             'name'])\n",
    "# 데이터프레임을 생성\n",
    "sales_data = {'employee_id': ['3', '4', '5', '6'],\n",
    "              'total_sales': [23456, 2512, 2345, 1455]}\n",
    "dataframe_sales = pd.DataFrame(sales_data, columns = ['employee_id',\n",
    "                                                       'total_sales'])\n",
    "# 데이터프레임을 병합합니다.\n",
    "pd.merge(dataframe_employees, dataframe_sales, on='employee_id')"
   ],
   "metadata": {
    "collapsed": false
   }
  },
  {
   "cell_type": "markdown",
   "source": [
    "외부 조인(outer join) 은 how 매개변수로 지정"
   ],
   "metadata": {
    "collapsed": false
   }
  },
  {
   "cell_type": "code",
   "execution_count": 85,
   "outputs": [
    {
     "data": {
      "text/plain": "  employee_id        name  total_sales\n0           1   Amy Jones          NaN\n1           2  Allen Keys          NaN\n2           3  Alice Bees      23456.0\n3           4  Tim Horton       2512.0\n4           5         NaN       2345.0\n5           6         NaN       1455.0",
      "text/html": "<div>\n<style scoped>\n    .dataframe tbody tr th:only-of-type {\n        vertical-align: middle;\n    }\n\n    .dataframe tbody tr th {\n        vertical-align: top;\n    }\n\n    .dataframe thead th {\n        text-align: right;\n    }\n</style>\n<table border=\"1\" class=\"dataframe\">\n  <thead>\n    <tr style=\"text-align: right;\">\n      <th></th>\n      <th>employee_id</th>\n      <th>name</th>\n      <th>total_sales</th>\n    </tr>\n  </thead>\n  <tbody>\n    <tr>\n      <th>0</th>\n      <td>1</td>\n      <td>Amy Jones</td>\n      <td>NaN</td>\n    </tr>\n    <tr>\n      <th>1</th>\n      <td>2</td>\n      <td>Allen Keys</td>\n      <td>NaN</td>\n    </tr>\n    <tr>\n      <th>2</th>\n      <td>3</td>\n      <td>Alice Bees</td>\n      <td>23456.0</td>\n    </tr>\n    <tr>\n      <th>3</th>\n      <td>4</td>\n      <td>Tim Horton</td>\n      <td>2512.0</td>\n    </tr>\n    <tr>\n      <th>4</th>\n      <td>5</td>\n      <td>NaN</td>\n      <td>2345.0</td>\n    </tr>\n    <tr>\n      <th>5</th>\n      <td>6</td>\n      <td>NaN</td>\n      <td>1455.0</td>\n    </tr>\n  </tbody>\n</table>\n</div>"
     },
     "execution_count": 85,
     "metadata": {},
     "output_type": "execute_result"
    }
   ],
   "source": [
    "# 데이터프레임을 병합합니다.\n",
    "pd.merge(dataframe_employees, dataframe_sales, on='employee_id', how='outer')"
   ],
   "metadata": {
    "collapsed": false
   }
  },
  {
   "cell_type": "code",
   "execution_count": 86,
   "outputs": [
    {
     "data": {
      "text/plain": "  employee_id        name  total_sales\n0           1   Amy Jones          NaN\n1           2  Allen Keys          NaN\n2           3  Alice Bees      23456.0\n3           4  Tim Horton       2512.0",
      "text/html": "<div>\n<style scoped>\n    .dataframe tbody tr th:only-of-type {\n        vertical-align: middle;\n    }\n\n    .dataframe tbody tr th {\n        vertical-align: top;\n    }\n\n    .dataframe thead th {\n        text-align: right;\n    }\n</style>\n<table border=\"1\" class=\"dataframe\">\n  <thead>\n    <tr style=\"text-align: right;\">\n      <th></th>\n      <th>employee_id</th>\n      <th>name</th>\n      <th>total_sales</th>\n    </tr>\n  </thead>\n  <tbody>\n    <tr>\n      <th>0</th>\n      <td>1</td>\n      <td>Amy Jones</td>\n      <td>NaN</td>\n    </tr>\n    <tr>\n      <th>1</th>\n      <td>2</td>\n      <td>Allen Keys</td>\n      <td>NaN</td>\n    </tr>\n    <tr>\n      <th>2</th>\n      <td>3</td>\n      <td>Alice Bees</td>\n      <td>23456.0</td>\n    </tr>\n    <tr>\n      <th>3</th>\n      <td>4</td>\n      <td>Tim Horton</td>\n      <td>2512.0</td>\n    </tr>\n  </tbody>\n</table>\n</div>"
     },
     "execution_count": 86,
     "metadata": {},
     "output_type": "execute_result"
    }
   ],
   "source": [
    "# 왼쪽 조인\n",
    "pd.merge(dataframe_employees, dataframe_sales, on='employee_id', how='left')"
   ],
   "metadata": {
    "collapsed": false
   }
  },
  {
   "cell_type": "code",
   "execution_count": 87,
   "outputs": [
    {
     "data": {
      "text/plain": "  employee_id        name  total_sales\n0           3  Alice Bees        23456\n1           4  Tim Horton         2512\n2           5         NaN         2345\n3           6         NaN         1455",
      "text/html": "<div>\n<style scoped>\n    .dataframe tbody tr th:only-of-type {\n        vertical-align: middle;\n    }\n\n    .dataframe tbody tr th {\n        vertical-align: top;\n    }\n\n    .dataframe thead th {\n        text-align: right;\n    }\n</style>\n<table border=\"1\" class=\"dataframe\">\n  <thead>\n    <tr style=\"text-align: right;\">\n      <th></th>\n      <th>employee_id</th>\n      <th>name</th>\n      <th>total_sales</th>\n    </tr>\n  </thead>\n  <tbody>\n    <tr>\n      <th>0</th>\n      <td>3</td>\n      <td>Alice Bees</td>\n      <td>23456</td>\n    </tr>\n    <tr>\n      <th>1</th>\n      <td>4</td>\n      <td>Tim Horton</td>\n      <td>2512</td>\n    </tr>\n    <tr>\n      <th>2</th>\n      <td>5</td>\n      <td>NaN</td>\n      <td>2345</td>\n    </tr>\n    <tr>\n      <th>3</th>\n      <td>6</td>\n      <td>NaN</td>\n      <td>1455</td>\n    </tr>\n  </tbody>\n</table>\n</div>"
     },
     "execution_count": 87,
     "metadata": {},
     "output_type": "execute_result"
    }
   ],
   "source": [
    "# 오른쪽 조인\n",
    "pd.merge(dataframe_employees, dataframe_sales, on='employee_id', how='right')"
   ],
   "metadata": {
    "collapsed": false
   }
  },
  {
   "cell_type": "code",
   "execution_count": 88,
   "outputs": [
    {
     "data": {
      "text/plain": "  employee_id        name  total_sales\n0           3  Alice Bees        23456\n1           4  Tim Horton         2512",
      "text/html": "<div>\n<style scoped>\n    .dataframe tbody tr th:only-of-type {\n        vertical-align: middle;\n    }\n\n    .dataframe tbody tr th {\n        vertical-align: top;\n    }\n\n    .dataframe thead th {\n        text-align: right;\n    }\n</style>\n<table border=\"1\" class=\"dataframe\">\n  <thead>\n    <tr style=\"text-align: right;\">\n      <th></th>\n      <th>employee_id</th>\n      <th>name</th>\n      <th>total_sales</th>\n    </tr>\n  </thead>\n  <tbody>\n    <tr>\n      <th>0</th>\n      <td>3</td>\n      <td>Alice Bees</td>\n      <td>23456</td>\n    </tr>\n    <tr>\n      <th>1</th>\n      <td>4</td>\n      <td>Tim Horton</td>\n      <td>2512</td>\n    </tr>\n  </tbody>\n</table>\n</div>"
     },
     "execution_count": 88,
     "metadata": {},
     "output_type": "execute_result"
    }
   ],
   "source": [
    "# 각 데이터 프레임에서 병합하기 위한 열 이름 지정 가능\n",
    "pd.merge(dataframe_employees, dataframe_sales, left_on='employee_id', right_on='employee_id')"
   ],
   "metadata": {
    "collapsed": false
   }
  },
  {
   "cell_type": "markdown",
   "source": [
    "pandas는 numpy와 같이 데이터를 다루는데 유용한 기능을 많이 제공합니다.\n",
    "다음과 같이 random 한 숫자로 Dataframe을 생성이 가능하며,"
   ],
   "metadata": {
    "collapsed": false
   }
  },
  {
   "cell_type": "code",
   "execution_count": 90,
   "outputs": [
    {
     "data": {
      "text/plain": "          0         1         2         3\n0  0.071981  0.340708  0.957743  0.404697\n1  0.042904  0.972910  0.801551  0.071919\n2  0.858565  0.419731  0.175053  0.134239",
      "text/html": "<div>\n<style scoped>\n    .dataframe tbody tr th:only-of-type {\n        vertical-align: middle;\n    }\n\n    .dataframe tbody tr th {\n        vertical-align: top;\n    }\n\n    .dataframe thead th {\n        text-align: right;\n    }\n</style>\n<table border=\"1\" class=\"dataframe\">\n  <thead>\n    <tr style=\"text-align: right;\">\n      <th></th>\n      <th>0</th>\n      <th>1</th>\n      <th>2</th>\n      <th>3</th>\n    </tr>\n  </thead>\n  <tbody>\n    <tr>\n      <th>0</th>\n      <td>0.071981</td>\n      <td>0.340708</td>\n      <td>0.957743</td>\n      <td>0.404697</td>\n    </tr>\n    <tr>\n      <th>1</th>\n      <td>0.042904</td>\n      <td>0.972910</td>\n      <td>0.801551</td>\n      <td>0.071919</td>\n    </tr>\n    <tr>\n      <th>2</th>\n      <td>0.858565</td>\n      <td>0.419731</td>\n      <td>0.175053</td>\n      <td>0.134239</td>\n    </tr>\n  </tbody>\n</table>\n</div>"
     },
     "execution_count": 90,
     "metadata": {},
     "output_type": "execute_result"
    }
   ],
   "source": [
    "# random 한 3행 4열의 DataFrame을 생성합니다.\n",
    "data_frame = pd.DataFrame(np.random.rand(3,4))\n",
    "data_frame"
   ],
   "metadata": {
    "collapsed": false
   }
  },
  {
   "cell_type": "markdown",
   "source": [
    "numpy 에서 제공하는 함수를 바로 적용 할 수도 있다."
   ],
   "metadata": {
    "collapsed": false
   }
  },
  {
   "cell_type": "code",
   "execution_count": 91,
   "outputs": [],
   "source": [
    "# data_frame의 각 원소에 log를 적용합니다."
   ],
   "metadata": {
    "collapsed": false
   }
  },
  {
   "cell_type": "code",
   "execution_count": 92,
   "outputs": [
    {
     "data": {
      "text/plain": "          0         1         2         3\n0 -2.631352 -1.076728 -0.043176 -0.904615\n1 -3.148791 -0.027463 -0.221206 -2.632216\n2 -0.152493 -0.868142 -1.742668 -2.008133",
      "text/html": "<div>\n<style scoped>\n    .dataframe tbody tr th:only-of-type {\n        vertical-align: middle;\n    }\n\n    .dataframe tbody tr th {\n        vertical-align: top;\n    }\n\n    .dataframe thead th {\n        text-align: right;\n    }\n</style>\n<table border=\"1\" class=\"dataframe\">\n  <thead>\n    <tr style=\"text-align: right;\">\n      <th></th>\n      <th>0</th>\n      <th>1</th>\n      <th>2</th>\n      <th>3</th>\n    </tr>\n  </thead>\n  <tbody>\n    <tr>\n      <th>0</th>\n      <td>-2.631352</td>\n      <td>-1.076728</td>\n      <td>-0.043176</td>\n      <td>-0.904615</td>\n    </tr>\n    <tr>\n      <th>1</th>\n      <td>-3.148791</td>\n      <td>-0.027463</td>\n      <td>-0.221206</td>\n      <td>-2.632216</td>\n    </tr>\n    <tr>\n      <th>2</th>\n      <td>-0.152493</td>\n      <td>-0.868142</td>\n      <td>-1.742668</td>\n      <td>-2.008133</td>\n    </tr>\n  </tbody>\n</table>\n</div>"
     },
     "execution_count": 92,
     "metadata": {},
     "output_type": "execute_result"
    }
   ],
   "source": [
    "new_data_frame = np.log(data_frame)\n",
    "new_data_frame"
   ],
   "metadata": {
    "collapsed": false
   }
  },
  {
   "cell_type": "markdown",
   "source": [
    "또한 ndarray로 간편한 변환도 재공한다."
   ],
   "metadata": {
    "collapsed": false
   }
  },
  {
   "cell_type": "code",
   "execution_count": 94,
   "outputs": [
    {
     "data": {
      "text/plain": "array([[0.07198105, 0.3407085 , 0.95774283, 0.40469747],\n       [0.04290396, 0.9729104 , 0.80155145, 0.07191893],\n       [0.85856489, 0.41973051, 0.17505266, 0.13423903]])"
     },
     "execution_count": 94,
     "metadata": {},
     "output_type": "execute_result"
    }
   ],
   "source": [
    "# DataFrame을 ndarray로 변환합니다.\n",
    "nparray = np.array(data_frame)\n",
    "nparray"
   ],
   "metadata": {
    "collapsed": false
   }
  },
  {
   "cell_type": "markdown",
   "source": [
    "## Treatment with NaN\n",
    " Pandas는 NaN(누락값)에 대해 적절한 처리를 제공한다.\n",
    " 다음과 같이 NaN이 존재하는 모든 행을 삭제할 수 있다.\n"
   ],
   "metadata": {
    "collapsed": false
   }
  },
  {
   "cell_type": "code",
   "execution_count": 95,
   "outputs": [
    {
     "data": {
      "text/plain": "          0         1         2         3\n0  0.071981  0.340708  0.957743  0.404697\n1  0.042904  0.972910  0.801551  0.071919\n2  0.858565  0.419731  0.175053  0.134239",
      "text/html": "<div>\n<style scoped>\n    .dataframe tbody tr th:only-of-type {\n        vertical-align: middle;\n    }\n\n    .dataframe tbody tr th {\n        vertical-align: top;\n    }\n\n    .dataframe thead th {\n        text-align: right;\n    }\n</style>\n<table border=\"1\" class=\"dataframe\">\n  <thead>\n    <tr style=\"text-align: right;\">\n      <th></th>\n      <th>0</th>\n      <th>1</th>\n      <th>2</th>\n      <th>3</th>\n    </tr>\n  </thead>\n  <tbody>\n    <tr>\n      <th>0</th>\n      <td>0.071981</td>\n      <td>0.340708</td>\n      <td>0.957743</td>\n      <td>0.404697</td>\n    </tr>\n    <tr>\n      <th>1</th>\n      <td>0.042904</td>\n      <td>0.972910</td>\n      <td>0.801551</td>\n      <td>0.071919</td>\n    </tr>\n    <tr>\n      <th>2</th>\n      <td>0.858565</td>\n      <td>0.419731</td>\n      <td>0.175053</td>\n      <td>0.134239</td>\n    </tr>\n  </tbody>\n</table>\n</div>"
     },
     "execution_count": 95,
     "metadata": {},
     "output_type": "execute_result"
    }
   ],
   "source": [
    "data_frame.dropna()"
   ],
   "metadata": {
    "collapsed": false
   }
  },
  {
   "cell_type": "markdown",
   "source": [
    " 혹은 아래와 같이 NaN이 존재하는 모든 열을 삭제할 수도 있다."
   ],
   "metadata": {
    "collapsed": false
   }
  },
  {
   "cell_type": "code",
   "execution_count": 96,
   "outputs": [
    {
     "data": {
      "text/plain": "          0         1         2         3\n0  0.071981  0.340708  0.957743  0.404697\n1  0.042904  0.972910  0.801551  0.071919\n2  0.858565  0.419731  0.175053  0.134239",
      "text/html": "<div>\n<style scoped>\n    .dataframe tbody tr th:only-of-type {\n        vertical-align: middle;\n    }\n\n    .dataframe tbody tr th {\n        vertical-align: top;\n    }\n\n    .dataframe thead th {\n        text-align: right;\n    }\n</style>\n<table border=\"1\" class=\"dataframe\">\n  <thead>\n    <tr style=\"text-align: right;\">\n      <th></th>\n      <th>0</th>\n      <th>1</th>\n      <th>2</th>\n      <th>3</th>\n    </tr>\n  </thead>\n  <tbody>\n    <tr>\n      <th>0</th>\n      <td>0.071981</td>\n      <td>0.340708</td>\n      <td>0.957743</td>\n      <td>0.404697</td>\n    </tr>\n    <tr>\n      <th>1</th>\n      <td>0.042904</td>\n      <td>0.972910</td>\n      <td>0.801551</td>\n      <td>0.071919</td>\n    </tr>\n    <tr>\n      <th>2</th>\n      <td>0.858565</td>\n      <td>0.419731</td>\n      <td>0.175053</td>\n      <td>0.134239</td>\n    </tr>\n  </tbody>\n</table>\n</div>"
     },
     "execution_count": 96,
     "metadata": {},
     "output_type": "execute_result"
    }
   ],
   "source": [
    "data_frame.dropna(axis=1)"
   ],
   "metadata": {
    "collapsed": false
   }
  },
  {
   "cell_type": "markdown",
   "source": [
    " 특정 행이나 열에서 NaN을 제거하고 싶다면 아래와 같이 처리 가능하다."
   ],
   "metadata": {
    "collapsed": false
   }
  },
  {
   "cell_type": "code",
   "execution_count": 102,
   "outputs": [
    {
     "data": {
      "text/plain": "   col1  col2 col3  col4\n0   1.0   1.0    A   1.0\n1   2.0   2.0    B   NaN\n2   NaN   NaN  NaN   3.0\n3   4.0   4.0    C   4.0\n4   5.0   5.0    D   5.0",
      "text/html": "<div>\n<style scoped>\n    .dataframe tbody tr th:only-of-type {\n        vertical-align: middle;\n    }\n\n    .dataframe tbody tr th {\n        vertical-align: top;\n    }\n\n    .dataframe thead th {\n        text-align: right;\n    }\n</style>\n<table border=\"1\" class=\"dataframe\">\n  <thead>\n    <tr style=\"text-align: right;\">\n      <th></th>\n      <th>col1</th>\n      <th>col2</th>\n      <th>col3</th>\n      <th>col4</th>\n    </tr>\n  </thead>\n  <tbody>\n    <tr>\n      <th>0</th>\n      <td>1.0</td>\n      <td>1.0</td>\n      <td>A</td>\n      <td>1.0</td>\n    </tr>\n    <tr>\n      <th>1</th>\n      <td>2.0</td>\n      <td>2.0</td>\n      <td>B</td>\n      <td>NaN</td>\n    </tr>\n    <tr>\n      <th>2</th>\n      <td>NaN</td>\n      <td>NaN</td>\n      <td>NaN</td>\n      <td>3.0</td>\n    </tr>\n    <tr>\n      <th>3</th>\n      <td>4.0</td>\n      <td>4.0</td>\n      <td>C</td>\n      <td>4.0</td>\n    </tr>\n    <tr>\n      <th>4</th>\n      <td>5.0</td>\n      <td>5.0</td>\n      <td>D</td>\n      <td>5.0</td>\n    </tr>\n  </tbody>\n</table>\n</div>"
     },
     "execution_count": 102,
     "metadata": {},
     "output_type": "execute_result"
    }
   ],
   "source": [
    "dataframe_2 = pd.DataFrame({'col1':[1,2,np.NaN,4,5],\n",
    "                            'col2':[1,2,np.NaN,4,5],\n",
    "                            'col3':['A','B',np.nan,'C','D'],\n",
    "                            'col4':[1,np.NaN,3,4,5],\n",
    "                            'col5':[1,2,3,np.NaN,5]})\n",
    "#col1, col2 열에 NaN이 포함된 행을 삭제\n",
    "dataframe_2.dropna(subset=['col1','col2'])\n",
    "#3행과 5행에 NaN이 포함된 열을 삭제\n",
    "dataframe_2.dropna(axis=1, subset=[3, 4])"
   ],
   "metadata": {
    "collapsed": false
   }
  },
  {
   "cell_type": "markdown",
   "source": [
    " 혹은 NaN을 다른 값으로 모두 대체하거나\n"
   ],
   "metadata": {
    "collapsed": false
   }
  },
  {
   "cell_type": "code",
   "execution_count": 103,
   "outputs": [
    {
     "data": {
      "text/plain": "   col1  col2 col3  col4  col5\n0   1.0   1.0    A   1.0   1.0\n1   2.0   2.0    B   0.0   2.0\n2   0.0   0.0    0   3.0   3.0\n3   4.0   4.0    C   4.0   0.0\n4   5.0   5.0    D   5.0   5.0",
      "text/html": "<div>\n<style scoped>\n    .dataframe tbody tr th:only-of-type {\n        vertical-align: middle;\n    }\n\n    .dataframe tbody tr th {\n        vertical-align: top;\n    }\n\n    .dataframe thead th {\n        text-align: right;\n    }\n</style>\n<table border=\"1\" class=\"dataframe\">\n  <thead>\n    <tr style=\"text-align: right;\">\n      <th></th>\n      <th>col1</th>\n      <th>col2</th>\n      <th>col3</th>\n      <th>col4</th>\n      <th>col5</th>\n    </tr>\n  </thead>\n  <tbody>\n    <tr>\n      <th>0</th>\n      <td>1.0</td>\n      <td>1.0</td>\n      <td>A</td>\n      <td>1.0</td>\n      <td>1.0</td>\n    </tr>\n    <tr>\n      <th>1</th>\n      <td>2.0</td>\n      <td>2.0</td>\n      <td>B</td>\n      <td>0.0</td>\n      <td>2.0</td>\n    </tr>\n    <tr>\n      <th>2</th>\n      <td>0.0</td>\n      <td>0.0</td>\n      <td>0</td>\n      <td>3.0</td>\n      <td>3.0</td>\n    </tr>\n    <tr>\n      <th>3</th>\n      <td>4.0</td>\n      <td>4.0</td>\n      <td>C</td>\n      <td>4.0</td>\n      <td>0.0</td>\n    </tr>\n    <tr>\n      <th>4</th>\n      <td>5.0</td>\n      <td>5.0</td>\n      <td>D</td>\n      <td>5.0</td>\n      <td>5.0</td>\n    </tr>\n  </tbody>\n</table>\n</div>"
     },
     "execution_count": 103,
     "metadata": {},
     "output_type": "execute_result"
    }
   ],
   "source": [
    "#모든 NaN을 0으로 치환한다\n",
    "dataframe_2.fillna(0)"
   ],
   "metadata": {
    "collapsed": false
   }
  },
  {
   "cell_type": "markdown",
   "source": [
    " 특정 열의 NaN을 다른 값으로 대체할 수도 있다."
   ],
   "metadata": {
    "collapsed": false
   }
  },
  {
   "cell_type": "code",
   "execution_count": 104,
   "outputs": [
    {
     "data": {
      "text/plain": "    col1   col2   col3   col4   col5\n0  False  False  False  False  False\n1  False  False  False   True  False\n2   True   True   True  False  False\n3  False  False  False  False   True\n4  False  False  False  False  False",
      "text/html": "<div>\n<style scoped>\n    .dataframe tbody tr th:only-of-type {\n        vertical-align: middle;\n    }\n\n    .dataframe tbody tr th {\n        vertical-align: top;\n    }\n\n    .dataframe thead th {\n        text-align: right;\n    }\n</style>\n<table border=\"1\" class=\"dataframe\">\n  <thead>\n    <tr style=\"text-align: right;\">\n      <th></th>\n      <th>col1</th>\n      <th>col2</th>\n      <th>col3</th>\n      <th>col4</th>\n      <th>col5</th>\n    </tr>\n  </thead>\n  <tbody>\n    <tr>\n      <th>0</th>\n      <td>False</td>\n      <td>False</td>\n      <td>False</td>\n      <td>False</td>\n      <td>False</td>\n    </tr>\n    <tr>\n      <th>1</th>\n      <td>False</td>\n      <td>False</td>\n      <td>False</td>\n      <td>True</td>\n      <td>False</td>\n    </tr>\n    <tr>\n      <th>2</th>\n      <td>True</td>\n      <td>True</td>\n      <td>True</td>\n      <td>False</td>\n      <td>False</td>\n    </tr>\n    <tr>\n      <th>3</th>\n      <td>False</td>\n      <td>False</td>\n      <td>False</td>\n      <td>False</td>\n      <td>True</td>\n    </tr>\n    <tr>\n      <th>4</th>\n      <td>False</td>\n      <td>False</td>\n      <td>False</td>\n      <td>False</td>\n      <td>False</td>\n    </tr>\n  </tbody>\n</table>\n</div>"
     },
     "execution_count": 104,
     "metadata": {},
     "output_type": "execute_result"
    }
   ],
   "source": [
    "dataframe_2.isnull()"
   ],
   "metadata": {
    "collapsed": false
   }
  },
  {
   "cell_type": "markdown",
   "source": [
    "특정 조건을 만족할 때 대체하도록 설정할 수 있다."
   ],
   "metadata": {
    "collapsed": false
   }
  },
  {
   "cell_type": "code",
   "execution_count": 107,
   "outputs": [
    {
     "data": {
      "text/plain": "   col1  col2 col3  col4  col5\n0   1.0   1.0    A   1.0   1.0\n1   2.0   2.0    B   3.0   2.0\n2   4.0   4.0    C   3.0   3.0\n3   4.0   4.0    C   4.0   5.0\n4   5.0   5.0    D   5.0   5.0",
      "text/html": "<div>\n<style scoped>\n    .dataframe tbody tr th:only-of-type {\n        vertical-align: middle;\n    }\n\n    .dataframe tbody tr th {\n        vertical-align: top;\n    }\n\n    .dataframe thead th {\n        text-align: right;\n    }\n</style>\n<table border=\"1\" class=\"dataframe\">\n  <thead>\n    <tr style=\"text-align: right;\">\n      <th></th>\n      <th>col1</th>\n      <th>col2</th>\n      <th>col3</th>\n      <th>col4</th>\n      <th>col5</th>\n    </tr>\n  </thead>\n  <tbody>\n    <tr>\n      <th>0</th>\n      <td>1.0</td>\n      <td>1.0</td>\n      <td>A</td>\n      <td>1.0</td>\n      <td>1.0</td>\n    </tr>\n    <tr>\n      <th>1</th>\n      <td>2.0</td>\n      <td>2.0</td>\n      <td>B</td>\n      <td>3.0</td>\n      <td>2.0</td>\n    </tr>\n    <tr>\n      <th>2</th>\n      <td>4.0</td>\n      <td>4.0</td>\n      <td>C</td>\n      <td>3.0</td>\n      <td>3.0</td>\n    </tr>\n    <tr>\n      <th>3</th>\n      <td>4.0</td>\n      <td>4.0</td>\n      <td>C</td>\n      <td>4.0</td>\n      <td>5.0</td>\n    </tr>\n    <tr>\n      <th>4</th>\n      <td>5.0</td>\n      <td>5.0</td>\n      <td>D</td>\n      <td>5.0</td>\n      <td>5.0</td>\n    </tr>\n  </tbody>\n</table>\n</div>"
     },
     "execution_count": 107,
     "metadata": {},
     "output_type": "execute_result"
    }
   ],
   "source": [
    "#NaN을 같은 열의 바로 위의 행 값으로 대체\n",
    "dataframe_2.fillna(method='ffill')\n",
    "#NaN을 같은 열의 바로 아래 행 값으로 대체\n",
    "dataframe_2.fillna(method='bfill')\n"
   ],
   "metadata": {
    "collapsed": false
   }
  },
  {
   "cell_type": "code",
   "execution_count": null,
   "outputs": [],
   "source": [],
   "metadata": {
    "collapsed": false
   }
  }
 ],
 "metadata": {
  "kernelspec": {
   "display_name": "Python 3",
   "language": "python",
   "name": "python3"
  },
  "language_info": {
   "codemirror_mode": {
    "name": "ipython",
    "version": 2
   },
   "file_extension": ".py",
   "mimetype": "text/x-python",
   "name": "python",
   "nbconvert_exporter": "python",
   "pygments_lexer": "ipython2",
   "version": "2.7.6"
  }
 },
 "nbformat": 4,
 "nbformat_minor": 0
}
