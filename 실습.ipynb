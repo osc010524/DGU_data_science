{
  "nbformat": 4,
  "nbformat_minor": 0,
  "metadata": {
    "colab": {
      "provenance": [],
      "toc_visible": true,
      "authorship_tag": "ABX9TyMbtRE6IQ3W8VdpH9FPSy9K",
      "include_colab_link": true
    },
    "kernelspec": {
      "name": "python3",
      "display_name": "Python 3"
    },
    "language_info": {
      "name": "python"
    }
  },
  "cells": [
    {
      "cell_type": "markdown",
      "metadata": {
        "id": "view-in-github",
        "colab_type": "text"
      },
      "source": [
        "<a href=\"https://colab.research.google.com/github/osc010524/DGU_data_science/blob/main/%EC%8B%A4%EC%8A%B5.ipynb\" target=\"_parent\"><img src=\"https://colab.research.google.com/assets/colab-badge.svg\" alt=\"Open In Colab\"/></a>"
      ]
    },
    {
      "cell_type": "markdown",
      "source": [
        "#step1\n",
        "1. 키보드 input을 받을것\n",
        "2. stop을 입력받으면 멈출것"
      ],
      "metadata": {
        "id": "QwSsouFB805u"
      }
    },
    {
      "cell_type": "code",
      "execution_count": null,
      "metadata": {
        "id": "aSiZJaoQ3D-i"
      },
      "outputs": [],
      "source": [
        "def grade(score: int) -> str:\n",
        "    \"\"\"\n",
        "    점수에 따라 학점을 리턴해주는 함수\n",
        "    :param score: 0~100의 점수\n",
        "    :return: grade(A+, A, B+, B, C+, C, D+, D, F)\n",
        "    \"\"\"\n",
        "    if score <= 100 and score >= 95:\n",
        "        return \"A+\"\n",
        "    elif score <= 94 and score >= 90:\n",
        "        return \"A\"\n",
        "    elif score <= 89 and score >= 85:\n",
        "        return \"B+\"\n",
        "    elif score <= 84 and score >= 80:\n",
        "        return \"B\"\n",
        "    elif score <= 79 and score >= 75:\n",
        "        return \"C+\"\n",
        "    elif score <= 74 and score >= 70:\n",
        "        return \"C\"\n",
        "    elif score <= 69 and score >= 65:\n",
        "        return \"D+\"\n",
        "    elif score <= 64 and score >= 60:\n",
        "        return \"D\"\n",
        "    else: # elif score < 60:\n",
        "        return \"F\"\n",
        "\n",
        "def run_test():\n",
        "    \"\"\"\n",
        "    테스트를 진행하고 점수를 출력하는 함수\n",
        "    \"\"\"\n",
        "    while True:\n",
        "        score = input(\"점수를 입력하세요: \")\n",
        "        if score == \"stop\":\n",
        "            break\n",
        "        else:\n",
        "            print(grade(int(score)))\n",
        "\n",
        "run_test()"
      ]
    },
    {
      "cell_type": "markdown",
      "source": [
        "#step2"
      ],
      "metadata": {
        "id": "GUaRNhDG9rmZ"
      }
    },
    {
      "cell_type": "code",
      "source": [
        "x = -3\n",
        "if x < 0:\n",
        "    print(\"it's negative\")"
      ],
      "metadata": {
        "id": "2ILeNdhv9tdt"
      },
      "execution_count": null,
      "outputs": []
    },
    {
      "cell_type": "code",
      "source": [
        "if x<0:\n",
        "    print(\"it's negative\")\n",
        "elif x == 0:\n",
        "    print(\"it's zero\")\n",
        "elif 0 < x < 5:\n",
        "    print(\"Positive but smaller than 5\")\n",
        "else:\n",
        "    print(\"Positive and larger than or equal to 5\")"
      ],
      "metadata": {
        "id": "RxRzXCmT9unX"
      },
      "execution_count": null,
      "outputs": []
    }
  ]
}