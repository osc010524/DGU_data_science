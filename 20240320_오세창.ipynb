{
 "cells": [
  {
   "cell_type": "markdown",
   "source": [
    "# 2024-03-20 수업내용\n",
    "\n",
    "## numpy test"
   ],
   "metadata": {
    "collapsed": false
   }
  },
  {
   "cell_type": "code",
   "execution_count": 2,
   "outputs": [],
   "source": [
    "import numpy as np"
   ],
   "metadata": {
    "collapsed": false
   }
  },
  {
   "cell_type": "code",
   "execution_count": 4,
   "outputs": [
    {
     "name": "stdout",
     "output_type": "stream",
     "text": [
      "[[1 2 3]\n",
      " [4 5 6]]\n",
      "[[4 5 6]\n",
      " [7 8 9]]\n",
      "[[1 2 3]\n",
      " [4 3 6]]\n",
      "[[4 5 6]\n",
      " [7 3 9]]\n"
     ]
    }
   ],
   "source": [
    "a = np.array(([1,2,3],[4,5,6]))\n",
    "b = np.array(((4,5,6),(7,8,9)))\n",
    "print(a)\n",
    "print(b)\n",
    "a[1][1] = 3\n",
    "b[1][1] = 3\n",
    "print(a)\n",
    "print(b)"
   ],
   "metadata": {
    "collapsed": false
   }
  },
  {
   "cell_type": "markdown",
   "source": [
    "## 판다스 테스트"
   ],
   "metadata": {
    "collapsed": false
   }
  },
  {
   "cell_type": "code",
   "execution_count": 4,
   "outputs": [
    {
     "data": {
      "text/plain": "   PassengerId  Pclass                                          Name     Sex  \\\n0          892       3                              Kelly, Mr. James    male   \n1          893       3              Wilkes, Mrs. James (Ellen Needs)  female   \n2          894       2                     Myles, Mr. Thomas Francis    male   \n3          895       3                              Wirz, Mr. Albert    male   \n4          896       3  Hirvonen, Mrs. Alexander (Helga E Lindqvist)  female   \n\n    Age  SibSp  Parch   Ticket     Fare Cabin Embarked  \n0  34.5      0      0   330911   7.8292   NaN        Q  \n1  47.0      1      0   363272   7.0000   NaN        S  \n2  62.0      0      0   240276   9.6875   NaN        Q  \n3  27.0      0      0   315154   8.6625   NaN        S  \n4  22.0      1      1  3101298  12.2875   NaN        S  ",
      "text/html": "<div>\n<style scoped>\n    .dataframe tbody tr th:only-of-type {\n        vertical-align: middle;\n    }\n\n    .dataframe tbody tr th {\n        vertical-align: top;\n    }\n\n    .dataframe thead th {\n        text-align: right;\n    }\n</style>\n<table border=\"1\" class=\"dataframe\">\n  <thead>\n    <tr style=\"text-align: right;\">\n      <th></th>\n      <th>PassengerId</th>\n      <th>Pclass</th>\n      <th>Name</th>\n      <th>Sex</th>\n      <th>Age</th>\n      <th>SibSp</th>\n      <th>Parch</th>\n      <th>Ticket</th>\n      <th>Fare</th>\n      <th>Cabin</th>\n      <th>Embarked</th>\n    </tr>\n  </thead>\n  <tbody>\n    <tr>\n      <th>0</th>\n      <td>892</td>\n      <td>3</td>\n      <td>Kelly, Mr. James</td>\n      <td>male</td>\n      <td>34.5</td>\n      <td>0</td>\n      <td>0</td>\n      <td>330911</td>\n      <td>7.8292</td>\n      <td>NaN</td>\n      <td>Q</td>\n    </tr>\n    <tr>\n      <th>1</th>\n      <td>893</td>\n      <td>3</td>\n      <td>Wilkes, Mrs. James (Ellen Needs)</td>\n      <td>female</td>\n      <td>47.0</td>\n      <td>1</td>\n      <td>0</td>\n      <td>363272</td>\n      <td>7.0000</td>\n      <td>NaN</td>\n      <td>S</td>\n    </tr>\n    <tr>\n      <th>2</th>\n      <td>894</td>\n      <td>2</td>\n      <td>Myles, Mr. Thomas Francis</td>\n      <td>male</td>\n      <td>62.0</td>\n      <td>0</td>\n      <td>0</td>\n      <td>240276</td>\n      <td>9.6875</td>\n      <td>NaN</td>\n      <td>Q</td>\n    </tr>\n    <tr>\n      <th>3</th>\n      <td>895</td>\n      <td>3</td>\n      <td>Wirz, Mr. Albert</td>\n      <td>male</td>\n      <td>27.0</td>\n      <td>0</td>\n      <td>0</td>\n      <td>315154</td>\n      <td>8.6625</td>\n      <td>NaN</td>\n      <td>S</td>\n    </tr>\n    <tr>\n      <th>4</th>\n      <td>896</td>\n      <td>3</td>\n      <td>Hirvonen, Mrs. Alexander (Helga E Lindqvist)</td>\n      <td>female</td>\n      <td>22.0</td>\n      <td>1</td>\n      <td>1</td>\n      <td>3101298</td>\n      <td>12.2875</td>\n      <td>NaN</td>\n      <td>S</td>\n    </tr>\n  </tbody>\n</table>\n</div>"
     },
     "execution_count": 4,
     "metadata": {},
     "output_type": "execute_result"
    }
   ],
   "source": [
    "import pandas as pd\n",
    "url = './data/test.csv'\n",
    "# csv 파일을 읽어서 데이터프레임으로 변환\n",
    "df = pd.read_csv(url)\n",
    "# 데이터프레임의 내용 5줄 출력\n",
    "df.head(5)"
   ],
   "metadata": {
    "collapsed": false
   }
  },
  {
   "cell_type": "markdown",
   "source": [
    "## 데이터프레임의 내용 뒤에 5줄 출력"
   ],
   "metadata": {
    "collapsed": false
   }
  },
  {
   "cell_type": "code",
   "execution_count": 5,
   "outputs": [
    {
     "data": {
      "text/plain": "     PassengerId  Pclass                          Name     Sex   Age  SibSp  \\\n413         1305       3            Spector, Mr. Woolf    male   NaN      0   \n414         1306       1  Oliva y Ocana, Dona. Fermina  female  39.0      0   \n415         1307       3  Saether, Mr. Simon Sivertsen    male  38.5      0   \n416         1308       3           Ware, Mr. Frederick    male   NaN      0   \n417         1309       3      Peter, Master. Michael J    male   NaN      1   \n\n     Parch              Ticket      Fare Cabin Embarked  \n413      0           A.5. 3236    8.0500   NaN        S  \n414      0            PC 17758  108.9000  C105        C  \n415      0  SOTON/O.Q. 3101262    7.2500   NaN        S  \n416      0              359309    8.0500   NaN        S  \n417      1                2668   22.3583   NaN        C  ",
      "text/html": "<div>\n<style scoped>\n    .dataframe tbody tr th:only-of-type {\n        vertical-align: middle;\n    }\n\n    .dataframe tbody tr th {\n        vertical-align: top;\n    }\n\n    .dataframe thead th {\n        text-align: right;\n    }\n</style>\n<table border=\"1\" class=\"dataframe\">\n  <thead>\n    <tr style=\"text-align: right;\">\n      <th></th>\n      <th>PassengerId</th>\n      <th>Pclass</th>\n      <th>Name</th>\n      <th>Sex</th>\n      <th>Age</th>\n      <th>SibSp</th>\n      <th>Parch</th>\n      <th>Ticket</th>\n      <th>Fare</th>\n      <th>Cabin</th>\n      <th>Embarked</th>\n    </tr>\n  </thead>\n  <tbody>\n    <tr>\n      <th>413</th>\n      <td>1305</td>\n      <td>3</td>\n      <td>Spector, Mr. Woolf</td>\n      <td>male</td>\n      <td>NaN</td>\n      <td>0</td>\n      <td>0</td>\n      <td>A.5. 3236</td>\n      <td>8.0500</td>\n      <td>NaN</td>\n      <td>S</td>\n    </tr>\n    <tr>\n      <th>414</th>\n      <td>1306</td>\n      <td>1</td>\n      <td>Oliva y Ocana, Dona. Fermina</td>\n      <td>female</td>\n      <td>39.0</td>\n      <td>0</td>\n      <td>0</td>\n      <td>PC 17758</td>\n      <td>108.9000</td>\n      <td>C105</td>\n      <td>C</td>\n    </tr>\n    <tr>\n      <th>415</th>\n      <td>1307</td>\n      <td>3</td>\n      <td>Saether, Mr. Simon Sivertsen</td>\n      <td>male</td>\n      <td>38.5</td>\n      <td>0</td>\n      <td>0</td>\n      <td>SOTON/O.Q. 3101262</td>\n      <td>7.2500</td>\n      <td>NaN</td>\n      <td>S</td>\n    </tr>\n    <tr>\n      <th>416</th>\n      <td>1308</td>\n      <td>3</td>\n      <td>Ware, Mr. Frederick</td>\n      <td>male</td>\n      <td>NaN</td>\n      <td>0</td>\n      <td>0</td>\n      <td>359309</td>\n      <td>8.0500</td>\n      <td>NaN</td>\n      <td>S</td>\n    </tr>\n    <tr>\n      <th>417</th>\n      <td>1309</td>\n      <td>3</td>\n      <td>Peter, Master. Michael J</td>\n      <td>male</td>\n      <td>NaN</td>\n      <td>1</td>\n      <td>1</td>\n      <td>2668</td>\n      <td>22.3583</td>\n      <td>NaN</td>\n      <td>C</td>\n    </tr>\n  </tbody>\n</table>\n</div>"
     },
     "execution_count": 5,
     "metadata": {},
     "output_type": "execute_result"
    }
   ],
   "source": [
    "# 데이터프레임의 내용 5줄 출력\n",
    "df.tail(5)"
   ],
   "metadata": {
    "collapsed": false
   }
  },
  {
   "cell_type": "markdown",
   "source": [
    "## 데이터프레임의 요약 정보 출력"
   ],
   "metadata": {
    "collapsed": false
   }
  },
  {
   "cell_type": "code",
   "execution_count": 6,
   "outputs": [
    {
     "data": {
      "text/plain": "       PassengerId      Pclass         Age       SibSp       Parch        Fare\ncount   418.000000  418.000000  332.000000  418.000000  418.000000  417.000000\nmean   1100.500000    2.265550   30.272590    0.447368    0.392344   35.627188\nstd     120.810458    0.841838   14.181209    0.896760    0.981429   55.907576\nmin     892.000000    1.000000    0.170000    0.000000    0.000000    0.000000\n25%     996.250000    1.000000   21.000000    0.000000    0.000000    7.895800\n50%    1100.500000    3.000000   27.000000    0.000000    0.000000   14.454200\n75%    1204.750000    3.000000   39.000000    1.000000    0.000000   31.500000\nmax    1309.000000    3.000000   76.000000    8.000000    9.000000  512.329200",
      "text/html": "<div>\n<style scoped>\n    .dataframe tbody tr th:only-of-type {\n        vertical-align: middle;\n    }\n\n    .dataframe tbody tr th {\n        vertical-align: top;\n    }\n\n    .dataframe thead th {\n        text-align: right;\n    }\n</style>\n<table border=\"1\" class=\"dataframe\">\n  <thead>\n    <tr style=\"text-align: right;\">\n      <th></th>\n      <th>PassengerId</th>\n      <th>Pclass</th>\n      <th>Age</th>\n      <th>SibSp</th>\n      <th>Parch</th>\n      <th>Fare</th>\n    </tr>\n  </thead>\n  <tbody>\n    <tr>\n      <th>count</th>\n      <td>418.000000</td>\n      <td>418.000000</td>\n      <td>332.000000</td>\n      <td>418.000000</td>\n      <td>418.000000</td>\n      <td>417.000000</td>\n    </tr>\n    <tr>\n      <th>mean</th>\n      <td>1100.500000</td>\n      <td>2.265550</td>\n      <td>30.272590</td>\n      <td>0.447368</td>\n      <td>0.392344</td>\n      <td>35.627188</td>\n    </tr>\n    <tr>\n      <th>std</th>\n      <td>120.810458</td>\n      <td>0.841838</td>\n      <td>14.181209</td>\n      <td>0.896760</td>\n      <td>0.981429</td>\n      <td>55.907576</td>\n    </tr>\n    <tr>\n      <th>min</th>\n      <td>892.000000</td>\n      <td>1.000000</td>\n      <td>0.170000</td>\n      <td>0.000000</td>\n      <td>0.000000</td>\n      <td>0.000000</td>\n    </tr>\n    <tr>\n      <th>25%</th>\n      <td>996.250000</td>\n      <td>1.000000</td>\n      <td>21.000000</td>\n      <td>0.000000</td>\n      <td>0.000000</td>\n      <td>7.895800</td>\n    </tr>\n    <tr>\n      <th>50%</th>\n      <td>1100.500000</td>\n      <td>3.000000</td>\n      <td>27.000000</td>\n      <td>0.000000</td>\n      <td>0.000000</td>\n      <td>14.454200</td>\n    </tr>\n    <tr>\n      <th>75%</th>\n      <td>1204.750000</td>\n      <td>3.000000</td>\n      <td>39.000000</td>\n      <td>1.000000</td>\n      <td>0.000000</td>\n      <td>31.500000</td>\n    </tr>\n    <tr>\n      <th>max</th>\n      <td>1309.000000</td>\n      <td>3.000000</td>\n      <td>76.000000</td>\n      <td>8.000000</td>\n      <td>9.000000</td>\n      <td>512.329200</td>\n    </tr>\n  </tbody>\n</table>\n</div>"
     },
     "execution_count": 6,
     "metadata": {},
     "output_type": "execute_result"
    }
   ],
   "source": [
    "# 데이터프레임의 요약 정보 출력\n",
    "df.describe()"
   ],
   "metadata": {
    "collapsed": false
   }
  },
  {
   "cell_type": "markdown",
   "source": [
    "# 판다스로 직접 데이터프레임 생성"
   ],
   "metadata": {
    "collapsed": false
   }
  },
  {
   "cell_type": "code",
   "execution_count": 7,
   "outputs": [
    {
     "data": {
      "text/plain": "   name  age dept\n0   kim   20   컴공\n1   lee   30   통계\n2  park   40   수학\n3  song   50   국어\n4  yoon   60   영어",
      "text/html": "<div>\n<style scoped>\n    .dataframe tbody tr th:only-of-type {\n        vertical-align: middle;\n    }\n\n    .dataframe tbody tr th {\n        vertical-align: top;\n    }\n\n    .dataframe thead th {\n        text-align: right;\n    }\n</style>\n<table border=\"1\" class=\"dataframe\">\n  <thead>\n    <tr style=\"text-align: right;\">\n      <th></th>\n      <th>name</th>\n      <th>age</th>\n      <th>dept</th>\n    </tr>\n  </thead>\n  <tbody>\n    <tr>\n      <th>0</th>\n      <td>kim</td>\n      <td>20</td>\n      <td>컴공</td>\n    </tr>\n    <tr>\n      <th>1</th>\n      <td>lee</td>\n      <td>30</td>\n      <td>통계</td>\n    </tr>\n    <tr>\n      <th>2</th>\n      <td>park</td>\n      <td>40</td>\n      <td>수학</td>\n    </tr>\n    <tr>\n      <th>3</th>\n      <td>song</td>\n      <td>50</td>\n      <td>국어</td>\n    </tr>\n    <tr>\n      <th>4</th>\n      <td>yoon</td>\n      <td>60</td>\n      <td>영어</td>\n    </tr>\n  </tbody>\n</table>\n</div>"
     },
     "execution_count": 7,
     "metadata": {},
     "output_type": "execute_result"
    }
   ],
   "source": [
    "#새로운 데이터 프레임 생성\n",
    "df2 = pd.DataFrame()\n",
    "\n",
    "#열을 추가한다.\n",
    "df2['name'] = ['kim', 'lee', 'park', 'song', 'yoon']\n",
    "df2['age'] = [20, 30, 40, 50, 60]\n",
    "df2['dept'] = ['컴공', '통계', '수학', '국어', '영어']\n",
    "\n",
    "#데이터프레임의 내용 출력\n",
    "df2"
   ],
   "metadata": {
    "collapsed": false
   }
  },
  {
   "cell_type": "code",
   "execution_count": 8,
   "outputs": [
    {
     "data": {
      "text/plain": "   name  age dept\n0   kim   20   컴공\n1   lee   30   통계\n2  park   40   수학\n3  song   50   국어\n4  yoon   60   영어\n5  choi   70   물리",
      "text/html": "<div>\n<style scoped>\n    .dataframe tbody tr th:only-of-type {\n        vertical-align: middle;\n    }\n\n    .dataframe tbody tr th {\n        vertical-align: top;\n    }\n\n    .dataframe thead th {\n        text-align: right;\n    }\n</style>\n<table border=\"1\" class=\"dataframe\">\n  <thead>\n    <tr style=\"text-align: right;\">\n      <th></th>\n      <th>name</th>\n      <th>age</th>\n      <th>dept</th>\n    </tr>\n  </thead>\n  <tbody>\n    <tr>\n      <th>0</th>\n      <td>kim</td>\n      <td>20</td>\n      <td>컴공</td>\n    </tr>\n    <tr>\n      <th>1</th>\n      <td>lee</td>\n      <td>30</td>\n      <td>통계</td>\n    </tr>\n    <tr>\n      <th>2</th>\n      <td>park</td>\n      <td>40</td>\n      <td>수학</td>\n    </tr>\n    <tr>\n      <th>3</th>\n      <td>song</td>\n      <td>50</td>\n      <td>국어</td>\n    </tr>\n    <tr>\n      <th>4</th>\n      <td>yoon</td>\n      <td>60</td>\n      <td>영어</td>\n    </tr>\n    <tr>\n      <th>5</th>\n      <td>choi</td>\n      <td>70</td>\n      <td>물리</td>\n    </tr>\n  </tbody>\n</table>\n</div>"
     },
     "execution_count": 8,
     "metadata": {},
     "output_type": "execute_result"
    }
   ],
   "source": [
    "# 행을 만듭니다.\n",
    "new_row = pd.Series(['choi', 70, '물리'], index=['name', 'age', 'dept'])\n",
    "# 데이터프레임에 행을 추가합니다.\n",
    "df2 = df2.append(new_row, ignore_index=True)\n",
    "# 데이터프레임의 내용 출력\n",
    "df2"
   ],
   "metadata": {
    "collapsed": false
   }
  },
  {
   "cell_type": "markdown",
   "source": [
    "## 리스트나 튜플을 이용해서 생성"
   ],
   "metadata": {
    "collapsed": false
   }
  },
  {
   "cell_type": "code",
   "execution_count": 9,
   "outputs": [
    {
     "data": {
      "text/plain": "   name  age dept\n0   kim   20   컴공\n1   lee   30   통계\n2  park   40   수학\n3  song   50   국어\n4  yoon   60   영어",
      "text/html": "<div>\n<style scoped>\n    .dataframe tbody tr th:only-of-type {\n        vertical-align: middle;\n    }\n\n    .dataframe tbody tr th {\n        vertical-align: top;\n    }\n\n    .dataframe thead th {\n        text-align: right;\n    }\n</style>\n<table border=\"1\" class=\"dataframe\">\n  <thead>\n    <tr style=\"text-align: right;\">\n      <th></th>\n      <th>name</th>\n      <th>age</th>\n      <th>dept</th>\n    </tr>\n  </thead>\n  <tbody>\n    <tr>\n      <th>0</th>\n      <td>kim</td>\n      <td>20</td>\n      <td>컴공</td>\n    </tr>\n    <tr>\n      <th>1</th>\n      <td>lee</td>\n      <td>30</td>\n      <td>통계</td>\n    </tr>\n    <tr>\n      <th>2</th>\n      <td>park</td>\n      <td>40</td>\n      <td>수학</td>\n    </tr>\n    <tr>\n      <th>3</th>\n      <td>song</td>\n      <td>50</td>\n      <td>국어</td>\n    </tr>\n    <tr>\n      <th>4</th>\n      <td>yoon</td>\n      <td>60</td>\n      <td>영어</td>\n    </tr>\n  </tbody>\n</table>\n</div>"
     },
     "execution_count": 9,
     "metadata": {},
     "output_type": "execute_result"
    }
   ],
   "source": [
    "# 리스트나 튜플로 부터 생성\n",
    "data = {'name': ['kim', 'lee', 'park', 'song', 'yoon'],\n",
    "        'age': [20, 30, 40, 50, 60],\n",
    "        'dept': ['컴공', '통계', '수학', '국어', '영어']}\n",
    "df3 = pd.DataFrame(data)\n",
    "# 데이터프레임의 내용 출력\n",
    "df3"
   ],
   "metadata": {
    "collapsed": false
   }
  },
  {
   "cell_type": "markdown",
   "source": [
    "#ndarray로 부터 생성"
   ],
   "metadata": {
    "collapsed": false
   }
  },
  {
   "cell_type": "code",
   "execution_count": 10,
   "outputs": [],
   "source": [
    "import numpy as np"
   ],
   "metadata": {
    "collapsed": false
   }
  },
  {
   "cell_type": "code",
   "execution_count": 11,
   "outputs": [
    {
     "data": {
      "text/plain": "   name age Driver\n0   kim  38   True\n1   lee  45  False\n2  park  13   True\n3  song  33  False\n4  yoon  25   True",
      "text/html": "<div>\n<style scoped>\n    .dataframe tbody tr th:only-of-type {\n        vertical-align: middle;\n    }\n\n    .dataframe tbody tr th {\n        vertical-align: top;\n    }\n\n    .dataframe thead th {\n        text-align: right;\n    }\n</style>\n<table border=\"1\" class=\"dataframe\">\n  <thead>\n    <tr style=\"text-align: right;\">\n      <th></th>\n      <th>name</th>\n      <th>age</th>\n      <th>Driver</th>\n    </tr>\n  </thead>\n  <tbody>\n    <tr>\n      <th>0</th>\n      <td>kim</td>\n      <td>38</td>\n      <td>True</td>\n    </tr>\n    <tr>\n      <th>1</th>\n      <td>lee</td>\n      <td>45</td>\n      <td>False</td>\n    </tr>\n    <tr>\n      <th>2</th>\n      <td>park</td>\n      <td>13</td>\n      <td>True</td>\n    </tr>\n    <tr>\n      <th>3</th>\n      <td>song</td>\n      <td>33</td>\n      <td>False</td>\n    </tr>\n    <tr>\n      <th>4</th>\n      <td>yoon</td>\n      <td>25</td>\n      <td>True</td>\n    </tr>\n  </tbody>\n</table>\n</div>"
     },
     "execution_count": 11,
     "metadata": {},
     "output_type": "execute_result"
    }
   ],
   "source": [
    "#ndarray로 부터 생성\n",
    "data = [['kim',38,True],['lee',45,False],['park',13,True],['song',33,False],['yoon',25,True]]\n",
    "matrix = np.array(data)\n",
    "df4 = pd.DataFrame(matrix, columns=['name','age','Driver'])\n",
    "# 데이터프레임의 내용 출력\n",
    "df4"
   ],
   "metadata": {
    "collapsed": false
   }
  },
  {
   "cell_type": "markdown",
   "source": [
    "## 딕셔너리로부터 생성"
   ],
   "metadata": {
    "collapsed": false
   }
  },
  {
   "cell_type": "code",
   "execution_count": 12,
   "outputs": [
    {
     "data": {
      "text/plain": "   name  age  Driver\n0   kim   20    True\n1   lee   30   False\n2  park   40    True\n3  song   50   False\n4  yoon   60    True",
      "text/html": "<div>\n<style scoped>\n    .dataframe tbody tr th:only-of-type {\n        vertical-align: middle;\n    }\n\n    .dataframe tbody tr th {\n        vertical-align: top;\n    }\n\n    .dataframe thead th {\n        text-align: right;\n    }\n</style>\n<table border=\"1\" class=\"dataframe\">\n  <thead>\n    <tr style=\"text-align: right;\">\n      <th></th>\n      <th>name</th>\n      <th>age</th>\n      <th>Driver</th>\n    </tr>\n  </thead>\n  <tbody>\n    <tr>\n      <th>0</th>\n      <td>kim</td>\n      <td>20</td>\n      <td>True</td>\n    </tr>\n    <tr>\n      <th>1</th>\n      <td>lee</td>\n      <td>30</td>\n      <td>False</td>\n    </tr>\n    <tr>\n      <th>2</th>\n      <td>park</td>\n      <td>40</td>\n      <td>True</td>\n    </tr>\n    <tr>\n      <th>3</th>\n      <td>song</td>\n      <td>50</td>\n      <td>False</td>\n    </tr>\n    <tr>\n      <th>4</th>\n      <td>yoon</td>\n      <td>60</td>\n      <td>True</td>\n    </tr>\n  </tbody>\n</table>\n</div>"
     },
     "execution_count": 12,
     "metadata": {},
     "output_type": "execute_result"
    }
   ],
   "source": [
    "# 딕셔너리로부터 생성\n",
    "data = {'name': ['kim', 'lee', 'park', 'song', 'yoon'],\n",
    "        'age': [20, 30, 40, 50, 60],\n",
    "        'Driver': [True, False, True, False, True]}\n",
    "df5 = pd.DataFrame(data)\n",
    "# 데이터프레임의 내용 출력\n",
    "df5"
   ],
   "metadata": {
    "collapsed": false
   }
  },
  {
   "cell_type": "markdown",
   "source": [
    "## 딕셔너리로 이루어진 리스트로부터 생성"
   ],
   "metadata": {
    "collapsed": false
   }
  },
  {
   "cell_type": "code",
   "execution_count": 13,
   "outputs": [
    {
     "data": {
      "text/plain": "   name  age  Driver\n0   kim   20    True\n1   lee   30   False\n2  park   40    True\n3  song   50   False\n4  yoon   60    True",
      "text/html": "<div>\n<style scoped>\n    .dataframe tbody tr th:only-of-type {\n        vertical-align: middle;\n    }\n\n    .dataframe tbody tr th {\n        vertical-align: top;\n    }\n\n    .dataframe thead th {\n        text-align: right;\n    }\n</style>\n<table border=\"1\" class=\"dataframe\">\n  <thead>\n    <tr style=\"text-align: right;\">\n      <th></th>\n      <th>name</th>\n      <th>age</th>\n      <th>Driver</th>\n    </tr>\n  </thead>\n  <tbody>\n    <tr>\n      <th>0</th>\n      <td>kim</td>\n      <td>20</td>\n      <td>True</td>\n    </tr>\n    <tr>\n      <th>1</th>\n      <td>lee</td>\n      <td>30</td>\n      <td>False</td>\n    </tr>\n    <tr>\n      <th>2</th>\n      <td>park</td>\n      <td>40</td>\n      <td>True</td>\n    </tr>\n    <tr>\n      <th>3</th>\n      <td>song</td>\n      <td>50</td>\n      <td>False</td>\n    </tr>\n    <tr>\n      <th>4</th>\n      <td>yoon</td>\n      <td>60</td>\n      <td>True</td>\n    </tr>\n  </tbody>\n</table>\n</div>"
     },
     "execution_count": 13,
     "metadata": {},
     "output_type": "execute_result"
    }
   ],
   "source": [
    "# 딕셔너리로 이루어진 리스트로부터 생성\n",
    "data = [{'name': 'kim', 'age': 20, 'Driver': True},\n",
    "        {'name': 'lee', 'age': 30, 'Driver': False},\n",
    "        {'name': 'park', 'age': 40, 'Driver': True},\n",
    "        {'name': 'song', 'age': 50, 'Driver': False},\n",
    "        {'name': 'yoon', 'age': 60, 'Driver': True}]\n",
    "df6 = pd.DataFrame(data)\n",
    "# 데이터프레임의 내용 출력\n",
    "df6"
   ],
   "metadata": {
    "collapsed": false
   }
  },
  {
   "cell_type": "markdown",
   "source": [
    "# Series\n",
    "## 시리즈는 1차원 데이터를 저장하기 위한 데이터 구조 이다."
   ],
   "metadata": {
    "collapsed": false
   }
  },
  {
   "cell_type": "code",
   "execution_count": 14,
   "outputs": [
    {
     "data": {
      "text/plain": "0    1\n1    3\n2    5\n3    7\n4    9\ndtype: int64"
     },
     "execution_count": 14,
     "metadata": {},
     "output_type": "execute_result"
    }
   ],
   "source": [
    "import pandas as pd\n",
    "# 시리즈 생성\n",
    "dat = pd.Series([1, 3, 5, 7, 9])\n",
    "# 시리즈의 내용 출력\n",
    "dat"
   ],
   "metadata": {
    "collapsed": false
   }
  },
  {
   "cell_type": "markdown",
   "source": [
    "## 시리즈로 저장된 데이터의 내용은 다음과 같이 value로 확인할 수있다."
   ],
   "metadata": {
    "collapsed": false
   }
  },
  {
   "cell_type": "code",
   "execution_count": 15,
   "outputs": [
    {
     "data": {
      "text/plain": "array([1, 3, 5, 7, 9], dtype=int64)"
     },
     "execution_count": 15,
     "metadata": {},
     "output_type": "execute_result"
    }
   ],
   "source": [
    "dat.values"
   ],
   "metadata": {
    "collapsed": false
   }
  },
  {
   "cell_type": "markdown",
   "source": [
    "Series는 다양한 객체를 데이터로 저장할 수 있다. 또한 모든 요소가 같은 데이터 타입일 필요도 없다."
   ],
   "metadata": {
    "collapsed": false
   }
  },
  {
   "cell_type": "code",
   "execution_count": 16,
   "outputs": [],
   "source": [
    "import numpy as np\n",
    "# 시리즈 생성\n",
    "dat2 = pd.Series(np.array([1,3,np.nan,12]))\n",
    "dat3 = pd.Series(['aa', 'bb', 'c', 'd'])\n",
    "dat4 = pd.Series([1, 'aa', 2.34, 'd'])"
   ],
   "metadata": {
    "collapsed": false
   }
  },
  {
   "cell_type": "markdown",
   "source": [
    "아래와 같은 방법으로 레이블을 지정해줄 수 있다."
   ],
   "metadata": {
    "collapsed": false
   }
  },
  {
   "cell_type": "code",
   "execution_count": 17,
   "outputs": [],
   "source": [
    "dat5 = pd.Series([1, 3, 6, 12], index=[1,10,20,33])\n",
    "dat6 = pd.Series([1, 3, 6, 12], index=['a','b','c','a'])\n",
    "dat7 = pd.Series({'a':1, 'b':3, 'c':6, 'd':12})"
   ],
   "metadata": {
    "collapsed": false
   }
  },
  {
   "cell_type": "markdown",
   "source": [
    "출력"
   ],
   "metadata": {
    "collapsed": false
   }
  },
  {
   "cell_type": "code",
   "execution_count": 18,
   "outputs": [
    {
     "name": "stdout",
     "output_type": "stream",
     "text": [
      "0     1.0\n",
      "1     3.0\n",
      "2     NaN\n",
      "3    12.0\n",
      "dtype: float64\n",
      "0    aa\n",
      "1    bb\n",
      "2     c\n",
      "3     d\n",
      "dtype: object\n",
      "0       1\n",
      "1      aa\n",
      "2    2.34\n",
      "3       d\n",
      "dtype: object\n",
      "1      1\n",
      "10     3\n",
      "20     6\n",
      "33    12\n",
      "dtype: int64\n",
      "a     1\n",
      "b     3\n",
      "c     6\n",
      "a    12\n",
      "dtype: int64\n",
      "a     1\n",
      "b     3\n",
      "c     6\n",
      "d    12\n",
      "dtype: int64\n"
     ]
    }
   ],
   "source": [
    "print(dat2)\n",
    "print(dat3)\n",
    "print(dat4)\n",
    "print(dat5)\n",
    "print(dat6)\n",
    "print(dat7)"
   ],
   "metadata": {
    "collapsed": false
   }
  },
  {
   "cell_type": "markdown",
   "source": [
    "레이블 값 변경"
   ],
   "metadata": {
    "collapsed": false
   }
  },
  {
   "cell_type": "code",
   "execution_count": 19,
   "outputs": [
    {
     "name": "stdout",
     "output_type": "stream",
     "text": [
      "uno        1.0\n",
      "dus        3.0\n",
      "trois      NaN\n",
      "quatre    12.0\n",
      "dtype: float64\n"
     ]
    }
   ],
   "source": [
    "dat2.index = ['uno', 'dus', 'trois', 'quatre']\n",
    "print(dat2)"
   ],
   "metadata": {
    "collapsed": false
   }
  },
  {
   "cell_type": "markdown",
   "source": [
    "# DataFrame\n",
    "DataFrame은 레이블을 갖는 2차원 데이터 구조이다.\n",
    "NumPy로부터 2차원 ndarray를 그대로 입력하는 것이 가능하다.\n",
    "시리즈와 마찬가지로 레이블 입력이 가능하며, 2차원이므로 라인 레이블과 컬럼\n",
    "레이블을 지정할 수 있다"
   ],
   "metadata": {
    "collapsed": false
   }
  },
  {
   "cell_type": "code",
   "execution_count": 20,
   "outputs": [
    {
     "name": "stdout",
     "output_type": "stream",
     "text": [
      "        item1     item2\n",
      "1 1  0.317237  0.769399\n",
      "  2 -0.239462  0.247276\n",
      "2 1  0.686877 -1.139116\n",
      "  2  1.830998 -0.374574\n",
      "3 1  0.568349 -1.099587\n",
      "  2 -1.739699 -0.000714\n"
     ]
    }
   ],
   "source": [
    "df3=pd.DataFrame(np.random.randn(6,2),\n",
    "        index=[[1,1,2,2,3,3],[1,2,1,2,1,2]],\n",
    "        columns=['item1','item2'])\n",
    "print(df3)"
   ],
   "metadata": {
    "collapsed": false
   }
  },
  {
   "cell_type": "markdown",
   "source": [
    "head()와 tail()을 이용하여 데이터프레임의 내용을 확인할 수 있다."
   ],
   "metadata": {
    "collapsed": false
   }
  },
  {
   "cell_type": "code",
   "execution_count": 21,
   "outputs": [
    {
     "data": {
      "text/plain": "     PassengerId  Pclass                      Name   Sex  Age  SibSp  Parch  \\\n416         1308       3       Ware, Mr. Frederick  male  NaN      0      0   \n417         1309       3  Peter, Master. Michael J  male  NaN      1      1   \n\n     Ticket     Fare Cabin Embarked  \n416  359309   8.0500   NaN        S  \n417    2668  22.3583   NaN        C  ",
      "text/html": "<div>\n<style scoped>\n    .dataframe tbody tr th:only-of-type {\n        vertical-align: middle;\n    }\n\n    .dataframe tbody tr th {\n        vertical-align: top;\n    }\n\n    .dataframe thead th {\n        text-align: right;\n    }\n</style>\n<table border=\"1\" class=\"dataframe\">\n  <thead>\n    <tr style=\"text-align: right;\">\n      <th></th>\n      <th>PassengerId</th>\n      <th>Pclass</th>\n      <th>Name</th>\n      <th>Sex</th>\n      <th>Age</th>\n      <th>SibSp</th>\n      <th>Parch</th>\n      <th>Ticket</th>\n      <th>Fare</th>\n      <th>Cabin</th>\n      <th>Embarked</th>\n    </tr>\n  </thead>\n  <tbody>\n    <tr>\n      <th>416</th>\n      <td>1308</td>\n      <td>3</td>\n      <td>Ware, Mr. Frederick</td>\n      <td>male</td>\n      <td>NaN</td>\n      <td>0</td>\n      <td>0</td>\n      <td>359309</td>\n      <td>8.0500</td>\n      <td>NaN</td>\n      <td>S</td>\n    </tr>\n    <tr>\n      <th>417</th>\n      <td>1309</td>\n      <td>3</td>\n      <td>Peter, Master. Michael J</td>\n      <td>male</td>\n      <td>NaN</td>\n      <td>1</td>\n      <td>1</td>\n      <td>2668</td>\n      <td>22.3583</td>\n      <td>NaN</td>\n      <td>C</td>\n    </tr>\n  </tbody>\n</table>\n</div>"
     },
     "execution_count": 21,
     "metadata": {},
     "output_type": "execute_result"
    }
   ],
   "source": [
    "df.head(2) # 처음 2줄\n",
    "df.tail(2) # 마지막 2줄"
   ],
   "metadata": {
    "collapsed": false
   }
  },
  {
   "cell_type": "markdown",
   "source": [
    "describe()를 이용하여 데이터프레임의 요약 정보를 확인할 수 있다."
   ],
   "metadata": {
    "collapsed": false
   }
  },
  {
   "cell_type": "code",
   "execution_count": 22,
   "outputs": [
    {
     "data": {
      "text/plain": "       PassengerId      Pclass         Age       SibSp       Parch        Fare\ncount   418.000000  418.000000  332.000000  418.000000  418.000000  417.000000\nmean   1100.500000    2.265550   30.272590    0.447368    0.392344   35.627188\nstd     120.810458    0.841838   14.181209    0.896760    0.981429   55.907576\nmin     892.000000    1.000000    0.170000    0.000000    0.000000    0.000000\n25%     996.250000    1.000000   21.000000    0.000000    0.000000    7.895800\n50%    1100.500000    3.000000   27.000000    0.000000    0.000000   14.454200\n75%    1204.750000    3.000000   39.000000    1.000000    0.000000   31.500000\nmax    1309.000000    3.000000   76.000000    8.000000    9.000000  512.329200",
      "text/html": "<div>\n<style scoped>\n    .dataframe tbody tr th:only-of-type {\n        vertical-align: middle;\n    }\n\n    .dataframe tbody tr th {\n        vertical-align: top;\n    }\n\n    .dataframe thead th {\n        text-align: right;\n    }\n</style>\n<table border=\"1\" class=\"dataframe\">\n  <thead>\n    <tr style=\"text-align: right;\">\n      <th></th>\n      <th>PassengerId</th>\n      <th>Pclass</th>\n      <th>Age</th>\n      <th>SibSp</th>\n      <th>Parch</th>\n      <th>Fare</th>\n    </tr>\n  </thead>\n  <tbody>\n    <tr>\n      <th>count</th>\n      <td>418.000000</td>\n      <td>418.000000</td>\n      <td>332.000000</td>\n      <td>418.000000</td>\n      <td>418.000000</td>\n      <td>417.000000</td>\n    </tr>\n    <tr>\n      <th>mean</th>\n      <td>1100.500000</td>\n      <td>2.265550</td>\n      <td>30.272590</td>\n      <td>0.447368</td>\n      <td>0.392344</td>\n      <td>35.627188</td>\n    </tr>\n    <tr>\n      <th>std</th>\n      <td>120.810458</td>\n      <td>0.841838</td>\n      <td>14.181209</td>\n      <td>0.896760</td>\n      <td>0.981429</td>\n      <td>55.907576</td>\n    </tr>\n    <tr>\n      <th>min</th>\n      <td>892.000000</td>\n      <td>1.000000</td>\n      <td>0.170000</td>\n      <td>0.000000</td>\n      <td>0.000000</td>\n      <td>0.000000</td>\n    </tr>\n    <tr>\n      <th>25%</th>\n      <td>996.250000</td>\n      <td>1.000000</td>\n      <td>21.000000</td>\n      <td>0.000000</td>\n      <td>0.000000</td>\n      <td>7.895800</td>\n    </tr>\n    <tr>\n      <th>50%</th>\n      <td>1100.500000</td>\n      <td>3.000000</td>\n      <td>27.000000</td>\n      <td>0.000000</td>\n      <td>0.000000</td>\n      <td>14.454200</td>\n    </tr>\n    <tr>\n      <th>75%</th>\n      <td>1204.750000</td>\n      <td>3.000000</td>\n      <td>39.000000</td>\n      <td>1.000000</td>\n      <td>0.000000</td>\n      <td>31.500000</td>\n    </tr>\n    <tr>\n      <th>max</th>\n      <td>1309.000000</td>\n      <td>3.000000</td>\n      <td>76.000000</td>\n      <td>8.000000</td>\n      <td>9.000000</td>\n      <td>512.329200</td>\n    </tr>\n  </tbody>\n</table>\n</div>"
     },
     "execution_count": 22,
     "metadata": {},
     "output_type": "execute_result"
    }
   ],
   "source": [
    "df.describe()"
   ],
   "metadata": {
    "collapsed": false
   }
  },
  {
   "cell_type": "markdown",
   "source": [
    "데이터프레임의 차원을 확인합니다."
   ],
   "metadata": {
    "collapsed": false
   }
  },
  {
   "cell_type": "code",
   "execution_count": 23,
   "outputs": [
    {
     "name": "stdout",
     "output_type": "stream",
     "text": [
      "(418, 11)\n"
     ]
    }
   ],
   "source": [
    "print(df.shape)"
   ],
   "metadata": {
    "collapsed": false
   }
  },
  {
   "cell_type": "markdown",
   "source": [
    "loc나 iloc 메서드를 사용해 하나 이상의 행이나 값을 선택"
   ],
   "metadata": {
    "collapsed": false
   }
  },
  {
   "cell_type": "code",
   "execution_count": 24,
   "outputs": [
    {
     "name": "stdout",
     "output_type": "stream",
     "text": [
      "PassengerId                 892\n",
      "Pclass                        3\n",
      "Name           Kelly, Mr. James\n",
      "Sex                        male\n",
      "Age                        34.5\n",
      "SibSp                         0\n",
      "Parch                         0\n",
      "Ticket                   330911\n",
      "Fare                     7.8292\n",
      "Cabin                       NaN\n",
      "Embarked                      Q\n",
      "Name: 0, dtype: object\n",
      "   PassengerId  Pclass                              Name     Sex   Age  SibSp  \\\n",
      "1          893       3  Wilkes, Mrs. James (Ellen Needs)  female  47.0      1   \n",
      "2          894       2         Myles, Mr. Thomas Francis    male  62.0      0   \n",
      "3          895       3                  Wirz, Mr. Albert    male  27.0      0   \n",
      "\n",
      "   Parch  Ticket    Fare Cabin Embarked  \n",
      "1      0  363272  7.0000   NaN        S  \n",
      "2      0  240276  9.6875   NaN        Q  \n",
      "3      0  315154  8.6625   NaN        S  \n",
      "PassengerId                 892\n",
      "Pclass                        3\n",
      "Name           Kelly, Mr. James\n",
      "Sex                        male\n",
      "Age                        34.5\n",
      "SibSp                         0\n",
      "Parch                         0\n",
      "Ticket                   330911\n",
      "Fare                     7.8292\n",
      "Cabin                       NaN\n",
      "Embarked                      Q\n",
      "Name: 0, dtype: object\n",
      "   PassengerId  Pclass                                          Name     Sex  \\\n",
      "1          893       3              Wilkes, Mrs. James (Ellen Needs)  female   \n",
      "2          894       2                     Myles, Mr. Thomas Francis    male   \n",
      "3          895       3                              Wirz, Mr. Albert    male   \n",
      "4          896       3  Hirvonen, Mrs. Alexander (Helga E Lindqvist)  female   \n",
      "\n",
      "    Age  SibSp  Parch   Ticket     Fare Cabin Embarked  \n",
      "1  47.0      1      0   363272   7.0000   NaN        S  \n",
      "2  62.0      0      0   240276   9.6875   NaN        Q  \n",
      "3  27.0      0      0   315154   8.6625   NaN        S  \n",
      "4  22.0      1      1  3101298  12.2875   NaN        S  \n"
     ]
    }
   ],
   "source": [
    "print(df.iloc[0]) # 첫번째 행\n",
    "print(df.iloc[1:4]) # 두번째부터 네번째 행 총 3개\n",
    "\n",
    "# 마지막 행 포함\n",
    "print(df.loc[0]) # 첫번째 행\n",
    "print(df.loc[1:4]) # 두번째부터 네번째 행 총 4개"
   ],
   "metadata": {
    "collapsed": false
   }
  },
  {
   "cell_type": "markdown",
   "source": [
    "loc나 iloc 메서드를 사용해 하나 이상의 행이나 값을 선택"
   ],
   "metadata": {
    "collapsed": false
   }
  },
  {
   "cell_type": "code",
   "execution_count": 25,
   "outputs": [
    {
     "data": {
      "text/plain": "                                              PassengerId  Pclass  \\\nName                                                                \nKelly, Mr. James                                      892       3   \nWilkes, Mrs. James (Ellen Needs)                      893       3   \nMyles, Mr. Thomas Francis                             894       2   \nWirz, Mr. Albert                                      895       3   \nHirvonen, Mrs. Alexander (Helga E Lindqvist)          896       3   \n...                                                   ...     ...   \nSpector, Mr. Woolf                                   1305       3   \nOliva y Ocana, Dona. Fermina                         1306       1   \nSaether, Mr. Simon Sivertsen                         1307       3   \nWare, Mr. Frederick                                  1308       3   \nPeter, Master. Michael J                             1309       3   \n\n                                                                                      Name  \\\nName                                                                                         \nKelly, Mr. James                                                          Kelly, Mr. James   \nWilkes, Mrs. James (Ellen Needs)                          Wilkes, Mrs. James (Ellen Needs)   \nMyles, Mr. Thomas Francis                                        Myles, Mr. Thomas Francis   \nWirz, Mr. Albert                                                          Wirz, Mr. Albert   \nHirvonen, Mrs. Alexander (Helga E Lindqvist)  Hirvonen, Mrs. Alexander (Helga E Lindqvist)   \n...                                                                                    ...   \nSpector, Mr. Woolf                                                      Spector, Mr. Woolf   \nOliva y Ocana, Dona. Fermina                                  Oliva y Ocana, Dona. Fermina   \nSaether, Mr. Simon Sivertsen                                  Saether, Mr. Simon Sivertsen   \nWare, Mr. Frederick                                                    Ware, Mr. Frederick   \nPeter, Master. Michael J                                          Peter, Master. Michael J   \n\n                                                 Sex   Age  SibSp  Parch  \\\nName                                                                       \nKelly, Mr. James                                male  34.5      0      0   \nWilkes, Mrs. James (Ellen Needs)              female  47.0      1      0   \nMyles, Mr. Thomas Francis                       male  62.0      0      0   \nWirz, Mr. Albert                                male  27.0      0      0   \nHirvonen, Mrs. Alexander (Helga E Lindqvist)  female  22.0      1      1   \n...                                              ...   ...    ...    ...   \nSpector, Mr. Woolf                              male   NaN      0      0   \nOliva y Ocana, Dona. Fermina                  female  39.0      0      0   \nSaether, Mr. Simon Sivertsen                    male  38.5      0      0   \nWare, Mr. Frederick                             male   NaN      0      0   \nPeter, Master. Michael J                        male   NaN      1      1   \n\n                                                          Ticket      Fare  \\\nName                                                                         \nKelly, Mr. James                                          330911    7.8292   \nWilkes, Mrs. James (Ellen Needs)                          363272    7.0000   \nMyles, Mr. Thomas Francis                                 240276    9.6875   \nWirz, Mr. Albert                                          315154    8.6625   \nHirvonen, Mrs. Alexander (Helga E Lindqvist)             3101298   12.2875   \n...                                                          ...       ...   \nSpector, Mr. Woolf                                     A.5. 3236    8.0500   \nOliva y Ocana, Dona. Fermina                            PC 17758  108.9000   \nSaether, Mr. Simon Sivertsen                  SOTON/O.Q. 3101262    7.2500   \nWare, Mr. Frederick                                       359309    8.0500   \nPeter, Master. Michael J                                    2668   22.3583   \n\n                                             Cabin Embarked  \nName                                                         \nKelly, Mr. James                               NaN        Q  \nWilkes, Mrs. James (Ellen Needs)               NaN        S  \nMyles, Mr. Thomas Francis                      NaN        Q  \nWirz, Mr. Albert                               NaN        S  \nHirvonen, Mrs. Alexander (Helga E Lindqvist)   NaN        S  \n...                                            ...      ...  \nSpector, Mr. Woolf                             NaN        S  \nOliva y Ocana, Dona. Fermina                  C105        C  \nSaether, Mr. Simon Sivertsen                   NaN        S  \nWare, Mr. Frederick                            NaN        S  \nPeter, Master. Michael J                       NaN        C  \n\n[418 rows x 11 columns]",
      "text/html": "<div>\n<style scoped>\n    .dataframe tbody tr th:only-of-type {\n        vertical-align: middle;\n    }\n\n    .dataframe tbody tr th {\n        vertical-align: top;\n    }\n\n    .dataframe thead th {\n        text-align: right;\n    }\n</style>\n<table border=\"1\" class=\"dataframe\">\n  <thead>\n    <tr style=\"text-align: right;\">\n      <th></th>\n      <th>PassengerId</th>\n      <th>Pclass</th>\n      <th>Name</th>\n      <th>Sex</th>\n      <th>Age</th>\n      <th>SibSp</th>\n      <th>Parch</th>\n      <th>Ticket</th>\n      <th>Fare</th>\n      <th>Cabin</th>\n      <th>Embarked</th>\n    </tr>\n    <tr>\n      <th>Name</th>\n      <th></th>\n      <th></th>\n      <th></th>\n      <th></th>\n      <th></th>\n      <th></th>\n      <th></th>\n      <th></th>\n      <th></th>\n      <th></th>\n      <th></th>\n    </tr>\n  </thead>\n  <tbody>\n    <tr>\n      <th>Kelly, Mr. James</th>\n      <td>892</td>\n      <td>3</td>\n      <td>Kelly, Mr. James</td>\n      <td>male</td>\n      <td>34.5</td>\n      <td>0</td>\n      <td>0</td>\n      <td>330911</td>\n      <td>7.8292</td>\n      <td>NaN</td>\n      <td>Q</td>\n    </tr>\n    <tr>\n      <th>Wilkes, Mrs. James (Ellen Needs)</th>\n      <td>893</td>\n      <td>3</td>\n      <td>Wilkes, Mrs. James (Ellen Needs)</td>\n      <td>female</td>\n      <td>47.0</td>\n      <td>1</td>\n      <td>0</td>\n      <td>363272</td>\n      <td>7.0000</td>\n      <td>NaN</td>\n      <td>S</td>\n    </tr>\n    <tr>\n      <th>Myles, Mr. Thomas Francis</th>\n      <td>894</td>\n      <td>2</td>\n      <td>Myles, Mr. Thomas Francis</td>\n      <td>male</td>\n      <td>62.0</td>\n      <td>0</td>\n      <td>0</td>\n      <td>240276</td>\n      <td>9.6875</td>\n      <td>NaN</td>\n      <td>Q</td>\n    </tr>\n    <tr>\n      <th>Wirz, Mr. Albert</th>\n      <td>895</td>\n      <td>3</td>\n      <td>Wirz, Mr. Albert</td>\n      <td>male</td>\n      <td>27.0</td>\n      <td>0</td>\n      <td>0</td>\n      <td>315154</td>\n      <td>8.6625</td>\n      <td>NaN</td>\n      <td>S</td>\n    </tr>\n    <tr>\n      <th>Hirvonen, Mrs. Alexander (Helga E Lindqvist)</th>\n      <td>896</td>\n      <td>3</td>\n      <td>Hirvonen, Mrs. Alexander (Helga E Lindqvist)</td>\n      <td>female</td>\n      <td>22.0</td>\n      <td>1</td>\n      <td>1</td>\n      <td>3101298</td>\n      <td>12.2875</td>\n      <td>NaN</td>\n      <td>S</td>\n    </tr>\n    <tr>\n      <th>...</th>\n      <td>...</td>\n      <td>...</td>\n      <td>...</td>\n      <td>...</td>\n      <td>...</td>\n      <td>...</td>\n      <td>...</td>\n      <td>...</td>\n      <td>...</td>\n      <td>...</td>\n      <td>...</td>\n    </tr>\n    <tr>\n      <th>Spector, Mr. Woolf</th>\n      <td>1305</td>\n      <td>3</td>\n      <td>Spector, Mr. Woolf</td>\n      <td>male</td>\n      <td>NaN</td>\n      <td>0</td>\n      <td>0</td>\n      <td>A.5. 3236</td>\n      <td>8.0500</td>\n      <td>NaN</td>\n      <td>S</td>\n    </tr>\n    <tr>\n      <th>Oliva y Ocana, Dona. Fermina</th>\n      <td>1306</td>\n      <td>1</td>\n      <td>Oliva y Ocana, Dona. Fermina</td>\n      <td>female</td>\n      <td>39.0</td>\n      <td>0</td>\n      <td>0</td>\n      <td>PC 17758</td>\n      <td>108.9000</td>\n      <td>C105</td>\n      <td>C</td>\n    </tr>\n    <tr>\n      <th>Saether, Mr. Simon Sivertsen</th>\n      <td>1307</td>\n      <td>3</td>\n      <td>Saether, Mr. Simon Sivertsen</td>\n      <td>male</td>\n      <td>38.5</td>\n      <td>0</td>\n      <td>0</td>\n      <td>SOTON/O.Q. 3101262</td>\n      <td>7.2500</td>\n      <td>NaN</td>\n      <td>S</td>\n    </tr>\n    <tr>\n      <th>Ware, Mr. Frederick</th>\n      <td>1308</td>\n      <td>3</td>\n      <td>Ware, Mr. Frederick</td>\n      <td>male</td>\n      <td>NaN</td>\n      <td>0</td>\n      <td>0</td>\n      <td>359309</td>\n      <td>8.0500</td>\n      <td>NaN</td>\n      <td>S</td>\n    </tr>\n    <tr>\n      <th>Peter, Master. Michael J</th>\n      <td>1309</td>\n      <td>3</td>\n      <td>Peter, Master. Michael J</td>\n      <td>male</td>\n      <td>NaN</td>\n      <td>1</td>\n      <td>1</td>\n      <td>2668</td>\n      <td>22.3583</td>\n      <td>NaN</td>\n      <td>C</td>\n    </tr>\n  </tbody>\n</table>\n<p>418 rows × 11 columns</p>\n</div>"
     },
     "execution_count": 25,
     "metadata": {},
     "output_type": "execute_result"
    }
   ],
   "source": [
    "# 인덱스를 설정합니다.\n",
    "index_name_df=df.set_index(df['Name'])\n",
    "index_name_df"
   ],
   "metadata": {
    "collapsed": false
   }
  },
  {
   "cell_type": "code",
   "execution_count": 26,
   "outputs": [
    {
     "data": {
      "text/plain": "PassengerId                 895\nPclass                        3\nName           Wirz, Mr. Albert\nSex                        male\nAge                          27\nSibSp                         0\nParch                         0\nTicket                   315154\nFare                     8.6625\nCabin                       NaN\nEmbarked                      S\nName: Wirz, Mr. Albert, dtype: object"
     },
     "execution_count": 26,
     "metadata": {},
     "output_type": "execute_result"
    }
   ],
   "source": [
    "# 행을 확인합니다.\n",
    "index_name_df.loc['Wirz, Mr. Albert']"
   ],
   "metadata": {
    "collapsed": false
   }
  },
  {
   "cell_type": "code",
   "execution_count": 27,
   "outputs": [
    {
     "data": {
      "text/plain": "                                     Sex   Age\nName                                          \nKelly, Mr. James                    male  34.5\nWilkes, Mrs. James (Ellen Needs)  female  47.0\nMyles, Mr. Thomas Francis           male  62.0\nWirz, Mr. Albert                    male  27.0",
      "text/html": "<div>\n<style scoped>\n    .dataframe tbody tr th:only-of-type {\n        vertical-align: middle;\n    }\n\n    .dataframe tbody tr th {\n        vertical-align: top;\n    }\n\n    .dataframe thead th {\n        text-align: right;\n    }\n</style>\n<table border=\"1\" class=\"dataframe\">\n  <thead>\n    <tr style=\"text-align: right;\">\n      <th></th>\n      <th>Sex</th>\n      <th>Age</th>\n    </tr>\n    <tr>\n      <th>Name</th>\n      <th></th>\n      <th></th>\n    </tr>\n  </thead>\n  <tbody>\n    <tr>\n      <th>Kelly, Mr. James</th>\n      <td>male</td>\n      <td>34.5</td>\n    </tr>\n    <tr>\n      <th>Wilkes, Mrs. James (Ellen Needs)</th>\n      <td>female</td>\n      <td>47.0</td>\n    </tr>\n    <tr>\n      <th>Myles, Mr. Thomas Francis</th>\n      <td>male</td>\n      <td>62.0</td>\n    </tr>\n    <tr>\n      <th>Wirz, Mr. Albert</th>\n      <td>male</td>\n      <td>27.0</td>\n    </tr>\n  </tbody>\n</table>\n</div>"
     },
     "execution_count": 27,
     "metadata": {},
     "output_type": "execute_result"
    }
   ],
   "source": [
    "# Wirz, Mr. Albert 이전까지 Sex와 Age 열만 선택합니다.\n",
    "index_name_df.loc[:'Wirz, Mr. Albert','Sex':'Age']"
   ],
   "metadata": {
    "collapsed": false
   }
  },
  {
   "cell_type": "markdown",
   "source": [
    "데이터프레임 객체에 슬라이싱 사용하면 행을 선택. 인덱싱을 사용하면 열을 선택"
   ],
   "metadata": {
    "collapsed": false
   }
  },
  {
   "cell_type": "code",
   "execution_count": 28,
   "outputs": [
    {
     "data": {
      "text/plain": "                                  PassengerId  Pclass  \\\nName                                                    \nKelly, Mr. James                          892       3   \nWilkes, Mrs. James (Ellen Needs)          893       3   \nMyles, Mr. Thomas Francis                 894       2   \nWirz, Mr. Albert                          895       3   \n\n                                                              Name     Sex  \\\nName                                                                         \nKelly, Mr. James                                  Kelly, Mr. James    male   \nWilkes, Mrs. James (Ellen Needs)  Wilkes, Mrs. James (Ellen Needs)  female   \nMyles, Mr. Thomas Francis                Myles, Mr. Thomas Francis    male   \nWirz, Mr. Albert                                  Wirz, Mr. Albert    male   \n\n                                   Age  SibSp  Parch  Ticket    Fare Cabin  \\\nName                                                                         \nKelly, Mr. James                  34.5      0      0  330911  7.8292   NaN   \nWilkes, Mrs. James (Ellen Needs)  47.0      1      0  363272  7.0000   NaN   \nMyles, Mr. Thomas Francis         62.0      0      0  240276  9.6875   NaN   \nWirz, Mr. Albert                  27.0      0      0  315154  8.6625   NaN   \n\n                                 Embarked  \nName                                       \nKelly, Mr. James                        Q  \nWilkes, Mrs. James (Ellen Needs)        S  \nMyles, Mr. Thomas Francis               Q  \nWirz, Mr. Albert                        S  ",
      "text/html": "<div>\n<style scoped>\n    .dataframe tbody tr th:only-of-type {\n        vertical-align: middle;\n    }\n\n    .dataframe tbody tr th {\n        vertical-align: top;\n    }\n\n    .dataframe thead th {\n        text-align: right;\n    }\n</style>\n<table border=\"1\" class=\"dataframe\">\n  <thead>\n    <tr style=\"text-align: right;\">\n      <th></th>\n      <th>PassengerId</th>\n      <th>Pclass</th>\n      <th>Name</th>\n      <th>Sex</th>\n      <th>Age</th>\n      <th>SibSp</th>\n      <th>Parch</th>\n      <th>Ticket</th>\n      <th>Fare</th>\n      <th>Cabin</th>\n      <th>Embarked</th>\n    </tr>\n    <tr>\n      <th>Name</th>\n      <th></th>\n      <th></th>\n      <th></th>\n      <th></th>\n      <th></th>\n      <th></th>\n      <th></th>\n      <th></th>\n      <th></th>\n      <th></th>\n      <th></th>\n    </tr>\n  </thead>\n  <tbody>\n    <tr>\n      <th>Kelly, Mr. James</th>\n      <td>892</td>\n      <td>3</td>\n      <td>Kelly, Mr. James</td>\n      <td>male</td>\n      <td>34.5</td>\n      <td>0</td>\n      <td>0</td>\n      <td>330911</td>\n      <td>7.8292</td>\n      <td>NaN</td>\n      <td>Q</td>\n    </tr>\n    <tr>\n      <th>Wilkes, Mrs. James (Ellen Needs)</th>\n      <td>893</td>\n      <td>3</td>\n      <td>Wilkes, Mrs. James (Ellen Needs)</td>\n      <td>female</td>\n      <td>47.0</td>\n      <td>1</td>\n      <td>0</td>\n      <td>363272</td>\n      <td>7.0000</td>\n      <td>NaN</td>\n      <td>S</td>\n    </tr>\n    <tr>\n      <th>Myles, Mr. Thomas Francis</th>\n      <td>894</td>\n      <td>2</td>\n      <td>Myles, Mr. Thomas Francis</td>\n      <td>male</td>\n      <td>62.0</td>\n      <td>0</td>\n      <td>0</td>\n      <td>240276</td>\n      <td>9.6875</td>\n      <td>NaN</td>\n      <td>Q</td>\n    </tr>\n    <tr>\n      <th>Wirz, Mr. Albert</th>\n      <td>895</td>\n      <td>3</td>\n      <td>Wirz, Mr. Albert</td>\n      <td>male</td>\n      <td>27.0</td>\n      <td>0</td>\n      <td>0</td>\n      <td>315154</td>\n      <td>8.6625</td>\n      <td>NaN</td>\n      <td>S</td>\n    </tr>\n  </tbody>\n</table>\n</div>"
     },
     "execution_count": 28,
     "metadata": {},
     "output_type": "execute_result"
    }
   ],
   "source": [
    "# df[:4]와 동일합니다.\n",
    "index_name_df[:'Wirz, Mr. Albert']"
   ],
   "metadata": {
    "collapsed": false
   }
  },
  {
   "cell_type": "code",
   "execution_count": 29,
   "outputs": [
    {
     "data": {
      "text/plain": "                                     Sex   Age\nName                                          \nKelly, Mr. James                    male  34.5\nWilkes, Mrs. James (Ellen Needs)  female  47.0",
      "text/html": "<div>\n<style scoped>\n    .dataframe tbody tr th:only-of-type {\n        vertical-align: middle;\n    }\n\n    .dataframe tbody tr th {\n        vertical-align: top;\n    }\n\n    .dataframe thead th {\n        text-align: right;\n    }\n</style>\n<table border=\"1\" class=\"dataframe\">\n  <thead>\n    <tr style=\"text-align: right;\">\n      <th></th>\n      <th>Sex</th>\n      <th>Age</th>\n    </tr>\n    <tr>\n      <th>Name</th>\n      <th></th>\n      <th></th>\n    </tr>\n  </thead>\n  <tbody>\n    <tr>\n      <th>Kelly, Mr. James</th>\n      <td>male</td>\n      <td>34.5</td>\n    </tr>\n    <tr>\n      <th>Wilkes, Mrs. James (Ellen Needs)</th>\n      <td>female</td>\n      <td>47.0</td>\n    </tr>\n  </tbody>\n</table>\n</div>"
     },
     "execution_count": 29,
     "metadata": {},
     "output_type": "execute_result"
    }
   ],
   "source": [
    "index_name_df[['Sex','Age']].head(2)"
   ],
   "metadata": {
    "collapsed": false
   }
  },
  {
   "cell_type": "markdown",
   "source": [
    "## 조건에 따라 행선택"
   ],
   "metadata": {
    "collapsed": false
   }
  },
  {
   "cell_type": "code",
   "execution_count": 30,
   "outputs": [
    {
     "data": {
      "text/plain": "                                              PassengerId  Pclass  \\\nName                                                                \nWilkes, Mrs. James (Ellen Needs)                      893       3   \nHirvonen, Mrs. Alexander (Helga E Lindqvist)          896       3   \n\n                                                                                      Name  \\\nName                                                                                         \nWilkes, Mrs. James (Ellen Needs)                          Wilkes, Mrs. James (Ellen Needs)   \nHirvonen, Mrs. Alexander (Helga E Lindqvist)  Hirvonen, Mrs. Alexander (Helga E Lindqvist)   \n\n                                                 Sex   Age  SibSp  Parch  \\\nName                                                                       \nWilkes, Mrs. James (Ellen Needs)              female  47.0      1      0   \nHirvonen, Mrs. Alexander (Helga E Lindqvist)  female  22.0      1      1   \n\n                                               Ticket     Fare Cabin Embarked  \nName                                                                           \nWilkes, Mrs. James (Ellen Needs)               363272   7.0000   NaN        S  \nHirvonen, Mrs. Alexander (Helga E Lindqvist)  3101298  12.2875   NaN        S  ",
      "text/html": "<div>\n<style scoped>\n    .dataframe tbody tr th:only-of-type {\n        vertical-align: middle;\n    }\n\n    .dataframe tbody tr th {\n        vertical-align: top;\n    }\n\n    .dataframe thead th {\n        text-align: right;\n    }\n</style>\n<table border=\"1\" class=\"dataframe\">\n  <thead>\n    <tr style=\"text-align: right;\">\n      <th></th>\n      <th>PassengerId</th>\n      <th>Pclass</th>\n      <th>Name</th>\n      <th>Sex</th>\n      <th>Age</th>\n      <th>SibSp</th>\n      <th>Parch</th>\n      <th>Ticket</th>\n      <th>Fare</th>\n      <th>Cabin</th>\n      <th>Embarked</th>\n    </tr>\n    <tr>\n      <th>Name</th>\n      <th></th>\n      <th></th>\n      <th></th>\n      <th></th>\n      <th></th>\n      <th></th>\n      <th></th>\n      <th></th>\n      <th></th>\n      <th></th>\n      <th></th>\n    </tr>\n  </thead>\n  <tbody>\n    <tr>\n      <th>Wilkes, Mrs. James (Ellen Needs)</th>\n      <td>893</td>\n      <td>3</td>\n      <td>Wilkes, Mrs. James (Ellen Needs)</td>\n      <td>female</td>\n      <td>47.0</td>\n      <td>1</td>\n      <td>0</td>\n      <td>363272</td>\n      <td>7.0000</td>\n      <td>NaN</td>\n      <td>S</td>\n    </tr>\n    <tr>\n      <th>Hirvonen, Mrs. Alexander (Helga E Lindqvist)</th>\n      <td>896</td>\n      <td>3</td>\n      <td>Hirvonen, Mrs. Alexander (Helga E Lindqvist)</td>\n      <td>female</td>\n      <td>22.0</td>\n      <td>1</td>\n      <td>1</td>\n      <td>3101298</td>\n      <td>12.2875</td>\n      <td>NaN</td>\n      <td>S</td>\n    </tr>\n  </tbody>\n</table>\n</div>"
     },
     "execution_count": 30,
     "metadata": {},
     "output_type": "execute_result"
    }
   ],
   "source": [
    "# sex 열이 female인 행을 선택합니다.\n",
    "index_name_df[index_name_df['Sex']=='female'].head(2)"
   ],
   "metadata": {
    "collapsed": false
   }
  },
  {
   "cell_type": "code",
   "execution_count": 31,
   "outputs": [
    {
     "data": {
      "text/plain": "                                                    PassengerId  Pclass  \\\nName                                                                      \nCavendish, Mrs. Tyrell William (Julia Florence ...          988       1   \n\n                                                                                                 Name  \\\nName                                                                                                    \nCavendish, Mrs. Tyrell William (Julia Florence ...  Cavendish, Mrs. Tyrell William (Julia Florence...   \n\n                                                       Sex   Age  SibSp  \\\nName                                                                      \nCavendish, Mrs. Tyrell William (Julia Florence ...  female  76.0      1   \n\n                                                    Parch Ticket   Fare Cabin  \\\nName                                                                            \nCavendish, Mrs. Tyrell William (Julia Florence ...      0  19877  78.85   C46   \n\n                                                   Embarked  \nName                                                         \nCavendish, Mrs. Tyrell William (Julia Florence ...        S  ",
      "text/html": "<div>\n<style scoped>\n    .dataframe tbody tr th:only-of-type {\n        vertical-align: middle;\n    }\n\n    .dataframe tbody tr th {\n        vertical-align: top;\n    }\n\n    .dataframe thead th {\n        text-align: right;\n    }\n</style>\n<table border=\"1\" class=\"dataframe\">\n  <thead>\n    <tr style=\"text-align: right;\">\n      <th></th>\n      <th>PassengerId</th>\n      <th>Pclass</th>\n      <th>Name</th>\n      <th>Sex</th>\n      <th>Age</th>\n      <th>SibSp</th>\n      <th>Parch</th>\n      <th>Ticket</th>\n      <th>Fare</th>\n      <th>Cabin</th>\n      <th>Embarked</th>\n    </tr>\n    <tr>\n      <th>Name</th>\n      <th></th>\n      <th></th>\n      <th></th>\n      <th></th>\n      <th></th>\n      <th></th>\n      <th></th>\n      <th></th>\n      <th></th>\n      <th></th>\n      <th></th>\n    </tr>\n  </thead>\n  <tbody>\n    <tr>\n      <th>Cavendish, Mrs. Tyrell William (Julia Florence Siegel)</th>\n      <td>988</td>\n      <td>1</td>\n      <td>Cavendish, Mrs. Tyrell William (Julia Florence...</td>\n      <td>female</td>\n      <td>76.0</td>\n      <td>1</td>\n      <td>0</td>\n      <td>19877</td>\n      <td>78.85</td>\n      <td>C46</td>\n      <td>S</td>\n    </tr>\n  </tbody>\n</table>\n</div>"
     },
     "execution_count": 31,
     "metadata": {},
     "output_type": "execute_result"
    }
   ],
   "source": [
    "# female이면서 Age가 65이상인 행을 선택합니다.\n",
    "index_name_df[(index_name_df['Sex']=='female') & (index_name_df['Age']>=65)]"
   ],
   "metadata": {
    "collapsed": false
   }
  },
  {
   "cell_type": "markdown",
   "source": [
    "문자열 다룰 때는 str 메서드 이용\n",
    "str.find는 특정 문자 포함하는 열 추출. 문자열 포함되어있으면 열 인덱스 반환.\n",
    "포함되어 있지 않을 경우 -1 반환"
   ],
   "metadata": {
    "collapsed": false
   }
  },
  {
   "cell_type": "code",
   "execution_count": 32,
   "outputs": [
    {
     "data": {
      "text/plain": "Name\nKelly, Mr. James                                7\nWilkes, Mrs. James (Ellen Needs)               -1\nMyles, Mr. Thomas Francis                       7\nWirz, Mr. Albert                                6\nHirvonen, Mrs. Alexander (Helga E Lindqvist)   -1\n                                               ..\nSpector, Mr. Woolf                              9\nOliva y Ocana, Dona. Fermina                   -1\nSaether, Mr. Simon Sivertsen                    9\nWare, Mr. Frederick                             6\nPeter, Master. Michael J                       -1\nName: Name, Length: 418, dtype: int64"
     },
     "execution_count": 32,
     "metadata": {},
     "output_type": "execute_result"
    }
   ],
   "source": [
    "# Mr. 포함된 행을 선택합니다.\n",
    "index_name_df['Name'].str.find('Mr.')"
   ],
   "metadata": {
    "collapsed": false
   }
  },
  {
   "cell_type": "code",
   "execution_count": 33,
   "outputs": [
    {
     "data": {
      "text/plain": "                           PassengerId  Pclass                       Name  \\\nName                                                                        \nKelly, Mr. James                   892       3           Kelly, Mr. James   \nMyles, Mr. Thomas Francis          894       2  Myles, Mr. Thomas Francis   \nWirz, Mr. Albert                   895       3           Wirz, Mr. Albert   \n\n                            Sex   Age  SibSp  Parch  Ticket    Fare Cabin  \\\nName                                                                        \nKelly, Mr. James           male  34.5      0      0  330911  7.8292   NaN   \nMyles, Mr. Thomas Francis  male  62.0      0      0  240276  9.6875   NaN   \nWirz, Mr. Albert           male  27.0      0      0  315154  8.6625   NaN   \n\n                          Embarked  \nName                                \nKelly, Mr. James                 Q  \nMyles, Mr. Thomas Francis        Q  \nWirz, Mr. Albert                 S  ",
      "text/html": "<div>\n<style scoped>\n    .dataframe tbody tr th:only-of-type {\n        vertical-align: middle;\n    }\n\n    .dataframe tbody tr th {\n        vertical-align: top;\n    }\n\n    .dataframe thead th {\n        text-align: right;\n    }\n</style>\n<table border=\"1\" class=\"dataframe\">\n  <thead>\n    <tr style=\"text-align: right;\">\n      <th></th>\n      <th>PassengerId</th>\n      <th>Pclass</th>\n      <th>Name</th>\n      <th>Sex</th>\n      <th>Age</th>\n      <th>SibSp</th>\n      <th>Parch</th>\n      <th>Ticket</th>\n      <th>Fare</th>\n      <th>Cabin</th>\n      <th>Embarked</th>\n    </tr>\n    <tr>\n      <th>Name</th>\n      <th></th>\n      <th></th>\n      <th></th>\n      <th></th>\n      <th></th>\n      <th></th>\n      <th></th>\n      <th></th>\n      <th></th>\n      <th></th>\n      <th></th>\n    </tr>\n  </thead>\n  <tbody>\n    <tr>\n      <th>Kelly, Mr. James</th>\n      <td>892</td>\n      <td>3</td>\n      <td>Kelly, Mr. James</td>\n      <td>male</td>\n      <td>34.5</td>\n      <td>0</td>\n      <td>0</td>\n      <td>330911</td>\n      <td>7.8292</td>\n      <td>NaN</td>\n      <td>Q</td>\n    </tr>\n    <tr>\n      <th>Myles, Mr. Thomas Francis</th>\n      <td>894</td>\n      <td>2</td>\n      <td>Myles, Mr. Thomas Francis</td>\n      <td>male</td>\n      <td>62.0</td>\n      <td>0</td>\n      <td>0</td>\n      <td>240276</td>\n      <td>9.6875</td>\n      <td>NaN</td>\n      <td>Q</td>\n    </tr>\n    <tr>\n      <th>Wirz, Mr. Albert</th>\n      <td>895</td>\n      <td>3</td>\n      <td>Wirz, Mr. Albert</td>\n      <td>male</td>\n      <td>27.0</td>\n      <td>0</td>\n      <td>0</td>\n      <td>315154</td>\n      <td>8.6625</td>\n      <td>NaN</td>\n      <td>S</td>\n    </tr>\n  </tbody>\n</table>\n</div>"
     },
     "execution_count": 33,
     "metadata": {},
     "output_type": "execute_result"
    }
   ],
   "source": [
    "index_name_df[index_name_df['Name'].str.find('Mr.')>-1].head(3)"
   ],
   "metadata": {
    "collapsed": false
   }
  },
  {
   "cell_type": "markdown",
   "source": [
    "## 값 치환\n",
    "Sex열이 female인 행의 Sex열 값을 Woman로 변경합니다."
   ],
   "metadata": {
    "collapsed": false
   }
  },
  {
   "cell_type": "code",
   "execution_count": 34,
   "outputs": [
    {
     "data": {
      "text/plain": "Name\nKelly, Mr. James                     male\nWilkes, Mrs. James (Ellen Needs)    Woman\nName: Sex, dtype: object"
     },
     "execution_count": 34,
     "metadata": {},
     "output_type": "execute_result"
    }
   ],
   "source": [
    "# 값을 치환하고 두개의 행을 출력합니다.\n",
    "index_name_df[\"Sex\"].replace(\"female\",\"Woman\").head(2)"
   ],
   "metadata": {
    "collapsed": false
   }
  },
  {
   "cell_type": "markdown",
   "source": [
    "Sex열이 female인 행의 Sex열 값을 Woman로 변경합니다."
   ],
   "metadata": {
    "collapsed": false
   }
  },
  {
   "cell_type": "code",
   "execution_count": 35,
   "outputs": [
    {
     "data": {
      "text/plain": "Name\nKelly, Mr. James                                  Man\nWilkes, Mrs. James (Ellen Needs)                Woman\nMyles, Mr. Thomas Francis                         Man\nWirz, Mr. Albert                                  Man\nHirvonen, Mrs. Alexander (Helga E Lindqvist)    Woman\nName: Sex, dtype: object"
     },
     "execution_count": 35,
     "metadata": {},
     "output_type": "execute_result"
    }
   ],
   "source": [
    "# female 과 male 을 woman과 man으로 치환합니다.\n",
    "index_name_df[\"Sex\"].replace([\"female\",\"male\"],[\"Woman\",\"Man\"]).head(5)"
   ],
   "metadata": {
    "collapsed": false
   }
  },
  {
   "cell_type": "markdown",
   "source": [
    "데이터 프레임 전체에서 값 변경"
   ],
   "metadata": {
    "collapsed": false
   }
  },
  {
   "cell_type": "code",
   "execution_count": 36,
   "outputs": [
    {
     "data": {
      "text/plain": "                                  PassengerId  Pclass  \\\nName                                                    \nKelly, Mr. James                          892       3   \nWilkes, Mrs. James (Ellen Needs)          893       3   \n\n                                                              Name     Sex  \\\nName                                                                         \nKelly, Mr. James                                  Kelly, Mr. James    male   \nWilkes, Mrs. James (Ellen Needs)  Wilkes, Mrs. James (Ellen Needs)  female   \n\n                                   Age SibSp Parch  Ticket    Fare Cabin  \\\nName                                                                       \nKelly, Mr. James                  34.5  Zero  Zero  330911  7.8292   NaN   \nWilkes, Mrs. James (Ellen Needs)  47.0     1  Zero  363272       7   NaN   \n\n                                 Embarked  \nName                                       \nKelly, Mr. James                        Q  \nWilkes, Mrs. James (Ellen Needs)        S  ",
      "text/html": "<div>\n<style scoped>\n    .dataframe tbody tr th:only-of-type {\n        vertical-align: middle;\n    }\n\n    .dataframe tbody tr th {\n        vertical-align: top;\n    }\n\n    .dataframe thead th {\n        text-align: right;\n    }\n</style>\n<table border=\"1\" class=\"dataframe\">\n  <thead>\n    <tr style=\"text-align: right;\">\n      <th></th>\n      <th>PassengerId</th>\n      <th>Pclass</th>\n      <th>Name</th>\n      <th>Sex</th>\n      <th>Age</th>\n      <th>SibSp</th>\n      <th>Parch</th>\n      <th>Ticket</th>\n      <th>Fare</th>\n      <th>Cabin</th>\n      <th>Embarked</th>\n    </tr>\n    <tr>\n      <th>Name</th>\n      <th></th>\n      <th></th>\n      <th></th>\n      <th></th>\n      <th></th>\n      <th></th>\n      <th></th>\n      <th></th>\n      <th></th>\n      <th></th>\n      <th></th>\n    </tr>\n  </thead>\n  <tbody>\n    <tr>\n      <th>Kelly, Mr. James</th>\n      <td>892</td>\n      <td>3</td>\n      <td>Kelly, Mr. James</td>\n      <td>male</td>\n      <td>34.5</td>\n      <td>Zero</td>\n      <td>Zero</td>\n      <td>330911</td>\n      <td>7.8292</td>\n      <td>NaN</td>\n      <td>Q</td>\n    </tr>\n    <tr>\n      <th>Wilkes, Mrs. James (Ellen Needs)</th>\n      <td>893</td>\n      <td>3</td>\n      <td>Wilkes, Mrs. James (Ellen Needs)</td>\n      <td>female</td>\n      <td>47.0</td>\n      <td>1</td>\n      <td>Zero</td>\n      <td>363272</td>\n      <td>7</td>\n      <td>NaN</td>\n      <td>S</td>\n    </tr>\n  </tbody>\n</table>\n</div>"
     },
     "execution_count": 36,
     "metadata": {},
     "output_type": "execute_result"
    }
   ],
   "source": [
    "# 값을 치환하고 두개의 행을 출력합니다.\n",
    "index_name_df.replace(0,\"Zero\").head(2)"
   ],
   "metadata": {
    "collapsed": false
   }
  },
  {
   "cell_type": "markdown",
   "source": [
    "한번에 여러 개의 값을 동일하게 변경"
   ],
   "metadata": {
    "collapsed": false
   }
  },
  {
   "cell_type": "code",
   "execution_count": 37,
   "outputs": [
    {
     "data": {
      "text/plain": "                                              PassengerId  Pclass  \\\nName                                                                \nKelly, Mr. James                                      892       3   \nWilkes, Mrs. James (Ellen Needs)                      893       3   \nMyles, Mr. Thomas Francis                             894       2   \nWirz, Mr. Albert                                      895       3   \nHirvonen, Mrs. Alexander (Helga E Lindqvist)          896       3   \n\n                                                                                      Name  \\\nName                                                                                         \nKelly, Mr. James                                                          Kelly, Mr. James   \nWilkes, Mrs. James (Ellen Needs)                          Wilkes, Mrs. James (Ellen Needs)   \nMyles, Mr. Thomas Francis                                        Myles, Mr. Thomas Francis   \nWirz, Mr. Albert                                                          Wirz, Mr. Albert   \nHirvonen, Mrs. Alexander (Helga E Lindqvist)  Hirvonen, Mrs. Alexander (Helga E Lindqvist)   \n\n                                                 Sex   Age  SibSp  Parch  \\\nName                                                                       \nKelly, Mr. James                              person  34.5      0      0   \nWilkes, Mrs. James (Ellen Needs)              person  47.0      1      0   \nMyles, Mr. Thomas Francis                     person  62.0      0      0   \nWirz, Mr. Albert                              person  27.0      0      0   \nHirvonen, Mrs. Alexander (Helga E Lindqvist)  person  22.0      1      1   \n\n                                               Ticket     Fare Cabin Embarked  \nName                                                                           \nKelly, Mr. James                               330911   7.8292   NaN        Q  \nWilkes, Mrs. James (Ellen Needs)               363272   7.0000   NaN        S  \nMyles, Mr. Thomas Francis                      240276   9.6875   NaN        Q  \nWirz, Mr. Albert                               315154   8.6625   NaN        S  \nHirvonen, Mrs. Alexander (Helga E Lindqvist)  3101298  12.2875   NaN        S  ",
      "text/html": "<div>\n<style scoped>\n    .dataframe tbody tr th:only-of-type {\n        vertical-align: middle;\n    }\n\n    .dataframe tbody tr th {\n        vertical-align: top;\n    }\n\n    .dataframe thead th {\n        text-align: right;\n    }\n</style>\n<table border=\"1\" class=\"dataframe\">\n  <thead>\n    <tr style=\"text-align: right;\">\n      <th></th>\n      <th>PassengerId</th>\n      <th>Pclass</th>\n      <th>Name</th>\n      <th>Sex</th>\n      <th>Age</th>\n      <th>SibSp</th>\n      <th>Parch</th>\n      <th>Ticket</th>\n      <th>Fare</th>\n      <th>Cabin</th>\n      <th>Embarked</th>\n    </tr>\n    <tr>\n      <th>Name</th>\n      <th></th>\n      <th></th>\n      <th></th>\n      <th></th>\n      <th></th>\n      <th></th>\n      <th></th>\n      <th></th>\n      <th></th>\n      <th></th>\n      <th></th>\n    </tr>\n  </thead>\n  <tbody>\n    <tr>\n      <th>Kelly, Mr. James</th>\n      <td>892</td>\n      <td>3</td>\n      <td>Kelly, Mr. James</td>\n      <td>person</td>\n      <td>34.5</td>\n      <td>0</td>\n      <td>0</td>\n      <td>330911</td>\n      <td>7.8292</td>\n      <td>NaN</td>\n      <td>Q</td>\n    </tr>\n    <tr>\n      <th>Wilkes, Mrs. James (Ellen Needs)</th>\n      <td>893</td>\n      <td>3</td>\n      <td>Wilkes, Mrs. James (Ellen Needs)</td>\n      <td>person</td>\n      <td>47.0</td>\n      <td>1</td>\n      <td>0</td>\n      <td>363272</td>\n      <td>7.0000</td>\n      <td>NaN</td>\n      <td>S</td>\n    </tr>\n    <tr>\n      <th>Myles, Mr. Thomas Francis</th>\n      <td>894</td>\n      <td>2</td>\n      <td>Myles, Mr. Thomas Francis</td>\n      <td>person</td>\n      <td>62.0</td>\n      <td>0</td>\n      <td>0</td>\n      <td>240276</td>\n      <td>9.6875</td>\n      <td>NaN</td>\n      <td>Q</td>\n    </tr>\n    <tr>\n      <th>Wirz, Mr. Albert</th>\n      <td>895</td>\n      <td>3</td>\n      <td>Wirz, Mr. Albert</td>\n      <td>person</td>\n      <td>27.0</td>\n      <td>0</td>\n      <td>0</td>\n      <td>315154</td>\n      <td>8.6625</td>\n      <td>NaN</td>\n      <td>S</td>\n    </tr>\n    <tr>\n      <th>Hirvonen, Mrs. Alexander (Helga E Lindqvist)</th>\n      <td>896</td>\n      <td>3</td>\n      <td>Hirvonen, Mrs. Alexander (Helga E Lindqvist)</td>\n      <td>person</td>\n      <td>22.0</td>\n      <td>1</td>\n      <td>1</td>\n      <td>3101298</td>\n      <td>12.2875</td>\n      <td>NaN</td>\n      <td>S</td>\n    </tr>\n  </tbody>\n</table>\n</div>"
     },
     "execution_count": 37,
     "metadata": {},
     "output_type": "execute_result"
    }
   ],
   "source": [
    "# female 과 male을 person으로 치환합니다.\n",
    "index_name_df.replace([\"female\",\"male\"],\"person\").head(5)"
   ],
   "metadata": {
    "collapsed": false
   }
  },
  {
   "cell_type": "markdown",
   "source": [
    "딕셔너리로 바꿀 값을 각각 매핑하여 전달 가능"
   ],
   "metadata": {
    "collapsed": false
   }
  },
  {
   "cell_type": "code",
   "execution_count": 38,
   "outputs": [
    {
     "data": {
      "text/plain": "                                              PassengerId  Pclass  \\\nName                                                                \nKelly, Mr. James                                      892       3   \nWilkes, Mrs. James (Ellen Needs)                      893       3   \nMyles, Mr. Thomas Francis                             894       2   \nWirz, Mr. Albert                                      895       3   \nHirvonen, Mrs. Alexander (Helga E Lindqvist)          896       3   \n\n                                                                                      Name  \\\nName                                                                                         \nKelly, Mr. James                                                          Kelly, Mr. James   \nWilkes, Mrs. James (Ellen Needs)                          Wilkes, Mrs. James (Ellen Needs)   \nMyles, Mr. Thomas Francis                                        Myles, Mr. Thomas Francis   \nWirz, Mr. Albert                                                          Wirz, Mr. Albert   \nHirvonen, Mrs. Alexander (Helga E Lindqvist)  Hirvonen, Mrs. Alexander (Helga E Lindqvist)   \n\n                                              Sex   Age  SibSp  Parch  \\\nName                                                                    \nKelly, Mr. James                                0  34.5      0      0   \nWilkes, Mrs. James (Ellen Needs)                1  47.0      1      0   \nMyles, Mr. Thomas Francis                       0  62.0      0      0   \nWirz, Mr. Albert                                0  27.0      0      0   \nHirvonen, Mrs. Alexander (Helga E Lindqvist)    1  22.0      1      1   \n\n                                               Ticket     Fare Cabin Embarked  \nName                                                                           \nKelly, Mr. James                               330911   7.8292   NaN        Q  \nWilkes, Mrs. James (Ellen Needs)               363272   7.0000   NaN        S  \nMyles, Mr. Thomas Francis                      240276   9.6875   NaN        Q  \nWirz, Mr. Albert                               315154   8.6625   NaN        S  \nHirvonen, Mrs. Alexander (Helga E Lindqvist)  3101298  12.2875   NaN        S  ",
      "text/html": "<div>\n<style scoped>\n    .dataframe tbody tr th:only-of-type {\n        vertical-align: middle;\n    }\n\n    .dataframe tbody tr th {\n        vertical-align: top;\n    }\n\n    .dataframe thead th {\n        text-align: right;\n    }\n</style>\n<table border=\"1\" class=\"dataframe\">\n  <thead>\n    <tr style=\"text-align: right;\">\n      <th></th>\n      <th>PassengerId</th>\n      <th>Pclass</th>\n      <th>Name</th>\n      <th>Sex</th>\n      <th>Age</th>\n      <th>SibSp</th>\n      <th>Parch</th>\n      <th>Ticket</th>\n      <th>Fare</th>\n      <th>Cabin</th>\n      <th>Embarked</th>\n    </tr>\n    <tr>\n      <th>Name</th>\n      <th></th>\n      <th></th>\n      <th></th>\n      <th></th>\n      <th></th>\n      <th></th>\n      <th></th>\n      <th></th>\n      <th></th>\n      <th></th>\n      <th></th>\n    </tr>\n  </thead>\n  <tbody>\n    <tr>\n      <th>Kelly, Mr. James</th>\n      <td>892</td>\n      <td>3</td>\n      <td>Kelly, Mr. James</td>\n      <td>0</td>\n      <td>34.5</td>\n      <td>0</td>\n      <td>0</td>\n      <td>330911</td>\n      <td>7.8292</td>\n      <td>NaN</td>\n      <td>Q</td>\n    </tr>\n    <tr>\n      <th>Wilkes, Mrs. James (Ellen Needs)</th>\n      <td>893</td>\n      <td>3</td>\n      <td>Wilkes, Mrs. James (Ellen Needs)</td>\n      <td>1</td>\n      <td>47.0</td>\n      <td>1</td>\n      <td>0</td>\n      <td>363272</td>\n      <td>7.0000</td>\n      <td>NaN</td>\n      <td>S</td>\n    </tr>\n    <tr>\n      <th>Myles, Mr. Thomas Francis</th>\n      <td>894</td>\n      <td>2</td>\n      <td>Myles, Mr. Thomas Francis</td>\n      <td>0</td>\n      <td>62.0</td>\n      <td>0</td>\n      <td>0</td>\n      <td>240276</td>\n      <td>9.6875</td>\n      <td>NaN</td>\n      <td>Q</td>\n    </tr>\n    <tr>\n      <th>Wirz, Mr. Albert</th>\n      <td>895</td>\n      <td>3</td>\n      <td>Wirz, Mr. Albert</td>\n      <td>0</td>\n      <td>27.0</td>\n      <td>0</td>\n      <td>0</td>\n      <td>315154</td>\n      <td>8.6625</td>\n      <td>NaN</td>\n      <td>S</td>\n    </tr>\n    <tr>\n      <th>Hirvonen, Mrs. Alexander (Helga E Lindqvist)</th>\n      <td>896</td>\n      <td>3</td>\n      <td>Hirvonen, Mrs. Alexander (Helga E Lindqvist)</td>\n      <td>1</td>\n      <td>22.0</td>\n      <td>1</td>\n      <td>1</td>\n      <td>3101298</td>\n      <td>12.2875</td>\n      <td>NaN</td>\n      <td>S</td>\n    </tr>\n  </tbody>\n</table>\n</div>"
     },
     "execution_count": 38,
     "metadata": {},
     "output_type": "execute_result"
    }
   ],
   "source": [
    "# female 을 1을 바꾸고 male을 0으로 바꿉니다.\n",
    "index_name_df.replace({\"female\":1,\"male\":0}).head(5)"
   ],
   "metadata": {
    "collapsed": false
   }
  },
  {
   "cell_type": "markdown",
   "source": [
    "## 열이름 바꾸기"
   ],
   "metadata": {
    "collapsed": false
   }
  },
  {
   "cell_type": "code",
   "execution_count": 40,
   "outputs": [
    {
     "data": {
      "text/plain": "                                  PassengerId  Passenger Class  \\\nName                                                             \nKelly, Mr. James                          892                3   \nWilkes, Mrs. James (Ellen Needs)          893                3   \n\n                                                              Name     Sex  \\\nName                                                                         \nKelly, Mr. James                                  Kelly, Mr. James    male   \nWilkes, Mrs. James (Ellen Needs)  Wilkes, Mrs. James (Ellen Needs)  female   \n\n                                   Age  SibSp  Parch  Ticket    Fare Cabin  \\\nName                                                                         \nKelly, Mr. James                  34.5      0      0  330911  7.8292   NaN   \nWilkes, Mrs. James (Ellen Needs)  47.0      1      0  363272  7.0000   NaN   \n\n                                 Embarked  \nName                                       \nKelly, Mr. James                        Q  \nWilkes, Mrs. James (Ellen Needs)        S  ",
      "text/html": "<div>\n<style scoped>\n    .dataframe tbody tr th:only-of-type {\n        vertical-align: middle;\n    }\n\n    .dataframe tbody tr th {\n        vertical-align: top;\n    }\n\n    .dataframe thead th {\n        text-align: right;\n    }\n</style>\n<table border=\"1\" class=\"dataframe\">\n  <thead>\n    <tr style=\"text-align: right;\">\n      <th></th>\n      <th>PassengerId</th>\n      <th>Passenger Class</th>\n      <th>Name</th>\n      <th>Sex</th>\n      <th>Age</th>\n      <th>SibSp</th>\n      <th>Parch</th>\n      <th>Ticket</th>\n      <th>Fare</th>\n      <th>Cabin</th>\n      <th>Embarked</th>\n    </tr>\n    <tr>\n      <th>Name</th>\n      <th></th>\n      <th></th>\n      <th></th>\n      <th></th>\n      <th></th>\n      <th></th>\n      <th></th>\n      <th></th>\n      <th></th>\n      <th></th>\n      <th></th>\n    </tr>\n  </thead>\n  <tbody>\n    <tr>\n      <th>Kelly, Mr. James</th>\n      <td>892</td>\n      <td>3</td>\n      <td>Kelly, Mr. James</td>\n      <td>male</td>\n      <td>34.5</td>\n      <td>0</td>\n      <td>0</td>\n      <td>330911</td>\n      <td>7.8292</td>\n      <td>NaN</td>\n      <td>Q</td>\n    </tr>\n    <tr>\n      <th>Wilkes, Mrs. James (Ellen Needs)</th>\n      <td>893</td>\n      <td>3</td>\n      <td>Wilkes, Mrs. James (Ellen Needs)</td>\n      <td>female</td>\n      <td>47.0</td>\n      <td>1</td>\n      <td>0</td>\n      <td>363272</td>\n      <td>7.0000</td>\n      <td>NaN</td>\n      <td>S</td>\n    </tr>\n  </tbody>\n</table>\n</div>"
     },
     "execution_count": 40,
     "metadata": {},
     "output_type": "execute_result"
    }
   ],
   "source": [
    "# 열이름을 바꾸고 두개의 행을 출력합니다.\n",
    "index_name_df.rename(columns={'Pclass':'Passenger Class'}).head(2)"
   ],
   "metadata": {
    "collapsed": false
   }
  },
  {
   "cell_type": "code",
   "execution_count": 41,
   "outputs": [
    {
     "data": {
      "text/plain": "                                  PassengerId  Passenger Class  \\\nName                                                             \nKelly, Mr. James                          892                3   \nWilkes, Mrs. James (Ellen Needs)          893                3   \n\n                                                              Name  Gender  \\\nName                                                                         \nKelly, Mr. James                                  Kelly, Mr. James    male   \nWilkes, Mrs. James (Ellen Needs)  Wilkes, Mrs. James (Ellen Needs)  female   \n\n                                   Age  SibSp  Parch  Ticket    Fare Cabin  \\\nName                                                                         \nKelly, Mr. James                  34.5      0      0  330911  7.8292   NaN   \nWilkes, Mrs. James (Ellen Needs)  47.0      1      0  363272  7.0000   NaN   \n\n                                 Embarked  \nName                                       \nKelly, Mr. James                        Q  \nWilkes, Mrs. James (Ellen Needs)        S  ",
      "text/html": "<div>\n<style scoped>\n    .dataframe tbody tr th:only-of-type {\n        vertical-align: middle;\n    }\n\n    .dataframe tbody tr th {\n        vertical-align: top;\n    }\n\n    .dataframe thead th {\n        text-align: right;\n    }\n</style>\n<table border=\"1\" class=\"dataframe\">\n  <thead>\n    <tr style=\"text-align: right;\">\n      <th></th>\n      <th>PassengerId</th>\n      <th>Passenger Class</th>\n      <th>Name</th>\n      <th>Gender</th>\n      <th>Age</th>\n      <th>SibSp</th>\n      <th>Parch</th>\n      <th>Ticket</th>\n      <th>Fare</th>\n      <th>Cabin</th>\n      <th>Embarked</th>\n    </tr>\n    <tr>\n      <th>Name</th>\n      <th></th>\n      <th></th>\n      <th></th>\n      <th></th>\n      <th></th>\n      <th></th>\n      <th></th>\n      <th></th>\n      <th></th>\n      <th></th>\n      <th></th>\n    </tr>\n  </thead>\n  <tbody>\n    <tr>\n      <th>Kelly, Mr. James</th>\n      <td>892</td>\n      <td>3</td>\n      <td>Kelly, Mr. James</td>\n      <td>male</td>\n      <td>34.5</td>\n      <td>0</td>\n      <td>0</td>\n      <td>330911</td>\n      <td>7.8292</td>\n      <td>NaN</td>\n      <td>Q</td>\n    </tr>\n    <tr>\n      <th>Wilkes, Mrs. James (Ellen Needs)</th>\n      <td>893</td>\n      <td>3</td>\n      <td>Wilkes, Mrs. James (Ellen Needs)</td>\n      <td>female</td>\n      <td>47.0</td>\n      <td>1</td>\n      <td>0</td>\n      <td>363272</td>\n      <td>7.0000</td>\n      <td>NaN</td>\n      <td>S</td>\n    </tr>\n  </tbody>\n</table>\n</div>"
     },
     "execution_count": 41,
     "metadata": {},
     "output_type": "execute_result"
    }
   ],
   "source": [
    "# 열의 이름을 2개 바꾸고 두개의 행을 출력합니다.\n",
    "index_name_df.rename(columns={'Pclass':'Passenger Class','Sex':'Gender'}).head(2)"
   ],
   "metadata": {
    "collapsed": false
   }
  },
  {
   "cell_type": "code",
   "execution_count": 46,
   "outputs": [
    {
     "data": {
      "text/plain": "                                  PassengerId  Pclass  \\\nName                                                    \nKelly, Mr. James                          892       3   \nWilkes, Mrs. James (Ellen Needs)          893       3   \n\n                                                              Name     Sex  \\\nName                                                                         \nKelly, Mr. James                                  Kelly, Mr. James    male   \nWilkes, Mrs. James (Ellen Needs)  Wilkes, Mrs. James (Ellen Needs)  female   \n\n                                   Age  SibSp  Parch  Ticket    Fare Cabin  \\\nName                                                                         \nKelly, Mr. James                  34.5      0      0  330911  7.8292   NaN   \nWilkes, Mrs. James (Ellen Needs)  47.0      1      0  363272  7.0000   NaN   \n\n                                 Embarked  \nName                                       \nKelly, Mr. James                        Q  \nWilkes, Mrs. James (Ellen Needs)        S  ",
      "text/html": "<div>\n<style scoped>\n    .dataframe tbody tr th:only-of-type {\n        vertical-align: middle;\n    }\n\n    .dataframe tbody tr th {\n        vertical-align: top;\n    }\n\n    .dataframe thead th {\n        text-align: right;\n    }\n</style>\n<table border=\"1\" class=\"dataframe\">\n  <thead>\n    <tr style=\"text-align: right;\">\n      <th></th>\n      <th>PassengerId</th>\n      <th>Pclass</th>\n      <th>Name</th>\n      <th>Sex</th>\n      <th>Age</th>\n      <th>SibSp</th>\n      <th>Parch</th>\n      <th>Ticket</th>\n      <th>Fare</th>\n      <th>Cabin</th>\n      <th>Embarked</th>\n    </tr>\n    <tr>\n      <th>Name</th>\n      <th></th>\n      <th></th>\n      <th></th>\n      <th></th>\n      <th></th>\n      <th></th>\n      <th></th>\n      <th></th>\n      <th></th>\n      <th></th>\n      <th></th>\n    </tr>\n  </thead>\n  <tbody>\n    <tr>\n      <th>Kelly, Mr. James</th>\n      <td>892</td>\n      <td>3</td>\n      <td>Kelly, Mr. James</td>\n      <td>male</td>\n      <td>34.5</td>\n      <td>0</td>\n      <td>0</td>\n      <td>330911</td>\n      <td>7.8292</td>\n      <td>NaN</td>\n      <td>Q</td>\n    </tr>\n    <tr>\n      <th>Wilkes, Mrs. James (Ellen Needs)</th>\n      <td>893</td>\n      <td>3</td>\n      <td>Wilkes, Mrs. James (Ellen Needs)</td>\n      <td>female</td>\n      <td>47.0</td>\n      <td>1</td>\n      <td>0</td>\n      <td>363272</td>\n      <td>7.0000</td>\n      <td>NaN</td>\n      <td>S</td>\n    </tr>\n  </tbody>\n</table>\n</div>"
     },
     "execution_count": 46,
     "metadata": {},
     "output_type": "execute_result"
    }
   ],
   "source": [
    "# columns 속성값 변경 가능\n",
    "index_name_df.columns=['PassengerId', 'Pclass', 'Name', 'Sex', 'Age', 'SibSp', 'Parch',\n",
    "       'Ticket', 'Fare', 'Cabin', 'Embarked']\n",
    "index_name_df.head(2)"
   ],
   "metadata": {
    "collapsed": false
   }
  },
  {
   "cell_type": "markdown",
   "source": [
    "## 행이름 바꾸기"
   ],
   "metadata": {
    "collapsed": false
   }
  },
  {
   "cell_type": "code",
   "execution_count": 49,
   "outputs": [
    {
     "data": {
      "text/plain": "                                  PassengerId  Pclass  \\\nName                                                    \nKelly, Mr. James                          892       3   \nWilkes, Mrs. James (Ellen Needs)          893       3   \n\n                                                              Name     Sex  \\\nName                                                                         \nKelly, Mr. James                                  Kelly, Mr. James    male   \nWilkes, Mrs. James (Ellen Needs)  Wilkes, Mrs. James (Ellen Needs)  female   \n\n                                   Age  SibSp  Parch  Ticket    Fare Cabin  \\\nName                                                                         \nKelly, Mr. James                  34.5      0      0  330911  7.8292   NaN   \nWilkes, Mrs. James (Ellen Needs)  47.0      1      0  363272  7.0000   NaN   \n\n                                 Embarked  \nName                                       \nKelly, Mr. James                        Q  \nWilkes, Mrs. James (Ellen Needs)        S  ",
      "text/html": "<div>\n<style scoped>\n    .dataframe tbody tr th:only-of-type {\n        vertical-align: middle;\n    }\n\n    .dataframe tbody tr th {\n        vertical-align: top;\n    }\n\n    .dataframe thead th {\n        text-align: right;\n    }\n</style>\n<table border=\"1\" class=\"dataframe\">\n  <thead>\n    <tr style=\"text-align: right;\">\n      <th></th>\n      <th>PassengerId</th>\n      <th>Pclass</th>\n      <th>Name</th>\n      <th>Sex</th>\n      <th>Age</th>\n      <th>SibSp</th>\n      <th>Parch</th>\n      <th>Ticket</th>\n      <th>Fare</th>\n      <th>Cabin</th>\n      <th>Embarked</th>\n    </tr>\n    <tr>\n      <th>Name</th>\n      <th></th>\n      <th></th>\n      <th></th>\n      <th></th>\n      <th></th>\n      <th></th>\n      <th></th>\n      <th></th>\n      <th></th>\n      <th></th>\n      <th></th>\n    </tr>\n  </thead>\n  <tbody>\n    <tr>\n      <th>Kelly, Mr. James</th>\n      <td>892</td>\n      <td>3</td>\n      <td>Kelly, Mr. James</td>\n      <td>male</td>\n      <td>34.5</td>\n      <td>0</td>\n      <td>0</td>\n      <td>330911</td>\n      <td>7.8292</td>\n      <td>NaN</td>\n      <td>Q</td>\n    </tr>\n    <tr>\n      <th>Wilkes, Mrs. James (Ellen Needs)</th>\n      <td>893</td>\n      <td>3</td>\n      <td>Wilkes, Mrs. James (Ellen Needs)</td>\n      <td>female</td>\n      <td>47.0</td>\n      <td>1</td>\n      <td>0</td>\n      <td>363272</td>\n      <td>7.0000</td>\n      <td>NaN</td>\n      <td>S</td>\n    </tr>\n  </tbody>\n</table>\n</div>"
     },
     "execution_count": 49,
     "metadata": {},
     "output_type": "execute_result"
    }
   ],
   "source": [
    "# 인덱스 0을 -1로 바꿉니다.\n",
    "index_name_df.rename(index={0:-1}).head(2)"
   ],
   "metadata": {
    "collapsed": false
   }
  },
  {
   "cell_type": "code",
   "execution_count": 50,
   "outputs": [
    {
     "data": {
      "text/plain": "                                  passengerid  pclass  \\\nName                                                    \nKelly, Mr. James                          892       3   \nWilkes, Mrs. James (Ellen Needs)          893       3   \n\n                                                              name     sex  \\\nName                                                                         \nKelly, Mr. James                                  Kelly, Mr. James    male   \nWilkes, Mrs. James (Ellen Needs)  Wilkes, Mrs. James (Ellen Needs)  female   \n\n                                   age  sibsp  parch  ticket    fare cabin  \\\nName                                                                         \nKelly, Mr. James                  34.5      0      0  330911  7.8292   NaN   \nWilkes, Mrs. James (Ellen Needs)  47.0      1      0  363272  7.0000   NaN   \n\n                                 embarked  \nName                                       \nKelly, Mr. James                        Q  \nWilkes, Mrs. James (Ellen Needs)        S  ",
      "text/html": "<div>\n<style scoped>\n    .dataframe tbody tr th:only-of-type {\n        vertical-align: middle;\n    }\n\n    .dataframe tbody tr th {\n        vertical-align: top;\n    }\n\n    .dataframe thead th {\n        text-align: right;\n    }\n</style>\n<table border=\"1\" class=\"dataframe\">\n  <thead>\n    <tr style=\"text-align: right;\">\n      <th></th>\n      <th>passengerid</th>\n      <th>pclass</th>\n      <th>name</th>\n      <th>sex</th>\n      <th>age</th>\n      <th>sibsp</th>\n      <th>parch</th>\n      <th>ticket</th>\n      <th>fare</th>\n      <th>cabin</th>\n      <th>embarked</th>\n    </tr>\n    <tr>\n      <th>Name</th>\n      <th></th>\n      <th></th>\n      <th></th>\n      <th></th>\n      <th></th>\n      <th></th>\n      <th></th>\n      <th></th>\n      <th></th>\n      <th></th>\n      <th></th>\n    </tr>\n  </thead>\n  <tbody>\n    <tr>\n      <th>Kelly, Mr. James</th>\n      <td>892</td>\n      <td>3</td>\n      <td>Kelly, Mr. James</td>\n      <td>male</td>\n      <td>34.5</td>\n      <td>0</td>\n      <td>0</td>\n      <td>330911</td>\n      <td>7.8292</td>\n      <td>NaN</td>\n      <td>Q</td>\n    </tr>\n    <tr>\n      <th>Wilkes, Mrs. James (Ellen Needs)</th>\n      <td>893</td>\n      <td>3</td>\n      <td>Wilkes, Mrs. James (Ellen Needs)</td>\n      <td>female</td>\n      <td>47.0</td>\n      <td>1</td>\n      <td>0</td>\n      <td>363272</td>\n      <td>7.0000</td>\n      <td>NaN</td>\n      <td>S</td>\n    </tr>\n  </tbody>\n</table>\n</div>"
     },
     "execution_count": 50,
     "metadata": {},
     "output_type": "execute_result"
    }
   ],
   "source": [
    "# 열이름을 소문자로 바꿉니다.\n",
    "index_name_df.rename(str.lower, axis='columns').head(2)"
   ],
   "metadata": {
    "collapsed": false
   }
  },
  {
   "cell_type": "markdown",
   "source": [
    "# 기초통계 구하기\n",
    "최댓값, 최솟값, 평균, 합계싼 및 개수 세기"
   ],
   "metadata": {
    "collapsed": false
   }
  },
  {
   "cell_type": "code",
   "execution_count": 51,
   "outputs": [
    {
     "name": "stdout",
     "output_type": "stream",
     "text": [
      "최댓값 76.0\n",
      "최솟값 0.17\n",
      "평균 30.272590361445783\n",
      "합계 10050.5\n",
      "개수 332\n",
      "분산 201.10669538455943\n",
      "표준편차 14.181209235624422\n",
      "첨도 0.08378335153796135\n",
      "왜도 0.4573612871503845\n",
      "평균의 표준오차 0.7782949687536385\n",
      "최빈값 0    21.0\n",
      "1    24.0\n",
      "dtype: float64\n",
      "중간값 27.0\n"
     ]
    }
   ],
   "source": [
    "print(\"최댓값\", index_name_df['Age'].max())\n",
    "print(\"최솟값\", index_name_df['Age'].min())\n",
    "print(\"평균\", index_name_df['Age'].mean())\n",
    "print(\"합계\", index_name_df['Age'].sum())\n",
    "print(\"개수\", index_name_df['Age'].count())\n",
    "\n",
    "print(\"분산\", index_name_df['Age'].var())\n",
    "print(\"표준편차\", index_name_df['Age'].std())\n",
    "print(\"첨도\", index_name_df['Age'].kurt())\n",
    "print(\"왜도\", index_name_df['Age'].skew())\n",
    "print(\"평균의 표준오차\", index_name_df['Age'].sem())\n",
    "print(\"최빈값\", index_name_df['Age'].mode())\n",
    "print(\"중간값\", index_name_df['Age'].median())"
   ],
   "metadata": {
    "collapsed": false
   }
  },
  {
   "cell_type": "code",
   "execution_count": 52,
   "outputs": [
    {
     "data": {
      "text/plain": "              PassengerId     Pclass         Age     SibSp      Parch  \\\nPassengerId  14595.166667  -2.720624  -59.369047  0.413669   5.107914   \nPclass          -2.720624   0.708690   -5.906358  0.000820   0.015467   \nAge            -59.369047  -5.906358  201.106695 -1.135270  -0.704115   \nSibSp            0.413669   0.000820   -1.135270  0.804178   0.270100   \nParch            5.107914   0.015467   -0.704115  0.270100   0.963203   \nFare            55.514238 -27.171232  291.838610  8.607981  12.635175   \n\n                    Fare  \nPassengerId    55.514238  \nPclass        -27.171232  \nAge           291.838610  \nSibSp           8.607981  \nParch          12.635175  \nFare         3125.657074  ",
      "text/html": "<div>\n<style scoped>\n    .dataframe tbody tr th:only-of-type {\n        vertical-align: middle;\n    }\n\n    .dataframe tbody tr th {\n        vertical-align: top;\n    }\n\n    .dataframe thead th {\n        text-align: right;\n    }\n</style>\n<table border=\"1\" class=\"dataframe\">\n  <thead>\n    <tr style=\"text-align: right;\">\n      <th></th>\n      <th>PassengerId</th>\n      <th>Pclass</th>\n      <th>Age</th>\n      <th>SibSp</th>\n      <th>Parch</th>\n      <th>Fare</th>\n    </tr>\n  </thead>\n  <tbody>\n    <tr>\n      <th>PassengerId</th>\n      <td>14595.166667</td>\n      <td>-2.720624</td>\n      <td>-59.369047</td>\n      <td>0.413669</td>\n      <td>5.107914</td>\n      <td>55.514238</td>\n    </tr>\n    <tr>\n      <th>Pclass</th>\n      <td>-2.720624</td>\n      <td>0.708690</td>\n      <td>-5.906358</td>\n      <td>0.000820</td>\n      <td>0.015467</td>\n      <td>-27.171232</td>\n    </tr>\n    <tr>\n      <th>Age</th>\n      <td>-59.369047</td>\n      <td>-5.906358</td>\n      <td>201.106695</td>\n      <td>-1.135270</td>\n      <td>-0.704115</td>\n      <td>291.838610</td>\n    </tr>\n    <tr>\n      <th>SibSp</th>\n      <td>0.413669</td>\n      <td>0.000820</td>\n      <td>-1.135270</td>\n      <td>0.804178</td>\n      <td>0.270100</td>\n      <td>8.607981</td>\n    </tr>\n    <tr>\n      <th>Parch</th>\n      <td>5.107914</td>\n      <td>0.015467</td>\n      <td>-0.704115</td>\n      <td>0.270100</td>\n      <td>0.963203</td>\n      <td>12.635175</td>\n    </tr>\n    <tr>\n      <th>Fare</th>\n      <td>55.514238</td>\n      <td>-27.171232</td>\n      <td>291.838610</td>\n      <td>8.607981</td>\n      <td>12.635175</td>\n      <td>3125.657074</td>\n    </tr>\n  </tbody>\n</table>\n</div>"
     },
     "execution_count": 52,
     "metadata": {},
     "output_type": "execute_result"
    }
   ],
   "source": [
    "# 수치형 열의 공분산을 계산합니다.\n",
    "index_name_df.cov()"
   ],
   "metadata": {
    "collapsed": false
   }
  },
  {
   "cell_type": "code",
   "execution_count": 53,
   "outputs": [
    {
     "data": {
      "text/plain": "             PassengerId    Pclass       Age     SibSp     Parch      Fare\nPassengerId     1.000000 -0.026751 -0.034102  0.003818  0.043080  0.008211\nPclass         -0.026751  1.000000 -0.492143  0.001087  0.018721 -0.577147\nAge            -0.034102 -0.492143  1.000000 -0.091587 -0.061249  0.337932\nSibSp           0.003818  0.001087 -0.091587  1.000000  0.306895  0.171539\nParch           0.043080  0.018721 -0.061249  0.306895  1.000000  0.230046\nFare            0.008211 -0.577147  0.337932  0.171539  0.230046  1.000000",
      "text/html": "<div>\n<style scoped>\n    .dataframe tbody tr th:only-of-type {\n        vertical-align: middle;\n    }\n\n    .dataframe tbody tr th {\n        vertical-align: top;\n    }\n\n    .dataframe thead th {\n        text-align: right;\n    }\n</style>\n<table border=\"1\" class=\"dataframe\">\n  <thead>\n    <tr style=\"text-align: right;\">\n      <th></th>\n      <th>PassengerId</th>\n      <th>Pclass</th>\n      <th>Age</th>\n      <th>SibSp</th>\n      <th>Parch</th>\n      <th>Fare</th>\n    </tr>\n  </thead>\n  <tbody>\n    <tr>\n      <th>PassengerId</th>\n      <td>1.000000</td>\n      <td>-0.026751</td>\n      <td>-0.034102</td>\n      <td>0.003818</td>\n      <td>0.043080</td>\n      <td>0.008211</td>\n    </tr>\n    <tr>\n      <th>Pclass</th>\n      <td>-0.026751</td>\n      <td>1.000000</td>\n      <td>-0.492143</td>\n      <td>0.001087</td>\n      <td>0.018721</td>\n      <td>-0.577147</td>\n    </tr>\n    <tr>\n      <th>Age</th>\n      <td>-0.034102</td>\n      <td>-0.492143</td>\n      <td>1.000000</td>\n      <td>-0.091587</td>\n      <td>-0.061249</td>\n      <td>0.337932</td>\n    </tr>\n    <tr>\n      <th>SibSp</th>\n      <td>0.003818</td>\n      <td>0.001087</td>\n      <td>-0.091587</td>\n      <td>1.000000</td>\n      <td>0.306895</td>\n      <td>0.171539</td>\n    </tr>\n    <tr>\n      <th>Parch</th>\n      <td>0.043080</td>\n      <td>0.018721</td>\n      <td>-0.061249</td>\n      <td>0.306895</td>\n      <td>1.000000</td>\n      <td>0.230046</td>\n    </tr>\n    <tr>\n      <th>Fare</th>\n      <td>0.008211</td>\n      <td>-0.577147</td>\n      <td>0.337932</td>\n      <td>0.171539</td>\n      <td>0.230046</td>\n      <td>1.000000</td>\n    </tr>\n  </tbody>\n</table>\n</div>"
     },
     "execution_count": 53,
     "metadata": {},
     "output_type": "execute_result"
    }
   ],
   "source": [
    "# 수치형 열의 상관계수를 계산합니다.\n",
    "index_name_df.corr()"
   ],
   "metadata": {
    "collapsed": false
   }
  },
  {
   "cell_type": "code",
   "execution_count": null,
   "outputs": [],
   "source": [],
   "metadata": {
    "collapsed": false
   }
  }
 ],
 "metadata": {
  "kernelspec": {
   "display_name": "Python 3",
   "language": "python",
   "name": "python3"
  },
  "language_info": {
   "codemirror_mode": {
    "name": "ipython",
    "version": 2
   },
   "file_extension": ".py",
   "mimetype": "text/x-python",
   "name": "python",
   "nbconvert_exporter": "python",
   "pygments_lexer": "ipython2",
   "version": "2.7.6"
  }
 },
 "nbformat": 4,
 "nbformat_minor": 0
}
