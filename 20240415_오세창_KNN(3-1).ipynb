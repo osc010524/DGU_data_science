{
 "cells": [
  {
   "cell_type": "code",
   "execution_count": 2,
   "metadata": {
    "collapsed": true
   },
   "outputs": [
    {
     "name": "stdout",
     "output_type": "stream",
     "text": [
      "1.0\n"
     ]
    },
    {
     "data": {
      "text/plain": "<Figure size 432x288 with 1 Axes>",
      "image/png": "[encoded data removed]"
     },
     "metadata": {
      "needs_background": "light"
     },
     "output_type": "display_data"
    }
   ],
   "source": [
    "# 35 개 도미 (bream) 데이터\n",
    "bream_length = [25.4, 26.3, 26.5, 29.0, 29.0, 29.7, 29.7, 30.0, 30.0, 30.7, 31.0, 31.0,\n",
    "                31.5, 32.0, 32.0, 32.0, 33.0, 33.0, 33.5, 33.5, 34.0, 34.0, 34.5, 35.0,\n",
    "                35.0, 35.0, 35.0, 36.0, 36.0, 37.0, 38.5, 38.5, 39.5, 41.0, 41.0]\n",
    "bream_weight = [242.0, 290.0, 340.0, 363.0, 430.0, 450.0, 500.0, 390.0, 450.0, 500.0, 475.0, 500.0,\n",
    "                500.0, 340.0, 600.0, 600.0, 700.0, 700.0, 610.0, 650.0, 575.0, 685.0, 620.0, 680.0,\n",
    "                700.0, 725.0, 720.0, 714.0, 850.0, 1000.0, 920.0, 955.0, 925.0, 975.0, 950.0]\n",
    "# 14개 빙어(smelt) 데이터\n",
    "smelt_length = [9.8, 10.5, 10.6, 11.0, 11.2, 11.3, 11.8, 11.8, 12.0, 12.2, 12.4, 13.0, 14.3, 15.0]\n",
    "smelt_weight = [6.7, 7.5, 7.0, 9.7, 9.8, 8.7, 10.0, 9.9, 9.8, 12.2, 13.4, 12.2, 19.7, 19.9]\n",
    "\n",
    "fish_length = bream_length + smelt_length\n",
    "fish_weight = bream_weight + smelt_weight\n",
    "\n",
    "import numpy as np\n",
    "from sklearn.model_selection import train_test_split\n",
    "from sklearn.neighbors import KNeighborsClassifier\n",
    "import matplotlib.pyplot as plt\n",
    "\n",
    "fish_data = np.column_stack((fish_length, fish_weight))\n",
    "fish_target = np.concatenate((np.ones(35),np.zeros(14)))\n",
    "\n",
    "# 훈련세트 나눔\n",
    "# 편향 있음\n",
    "train_input, test_input, train_target, test_target = train_test_split(fish_data,fish_target,random_state=42)\n",
    "\n",
    "# 편향제거\n",
    "train_input, test_input, train_target, test_target = train_test_split(fish_data,fish_target,stratify=fish_target,random_state=42)\n",
    "\n",
    "# 수상한 도미 한마리\n",
    "kn = KNeighborsClassifier()\n",
    "kn.fit(train_input,train_target)\n",
    "kn.score(train_input,train_target)\n",
    "# print(kn.predict([[25,150]])) # 예측 불가?\n",
    "\n",
    "# 스케일이 다른 그래프 1\n",
    "plt.scatter(train_input[:,0],train_input[:,1])\n",
    "plt.scatter(25,150,marker=\"^\")\n",
    "plt.xlabel(\"length\")\n",
    "plt.ylabel(\"weight\")\n",
    "# plt.show()\n",
    "\n",
    "# k = 5 knn\n",
    "distances, indexes = kn.kneighbors([[25,150]])\n",
    "\n",
    "# 스케일이 다른 그래프 2\n",
    "# 기준확인 필요\n",
    "plt.scatter(train_input[:,0],train_input[:,1])\n",
    "plt.scatter(25,150,marker=\"^\")\n",
    "plt.scatter(train_input[indexes,0],train_input[indexes,1],marker='D')\n",
    "plt.xlim(0,1000)\n",
    "plt.xlabel(\"lenght\")\n",
    "plt.ylabel(\"weight\")\n",
    "# plt.show()\n",
    "\n",
    "# 표준 점수로 값을 맞춤 (전처리)\n",
    "mean = np.mean(train_input, axis=0)\n",
    "std = np.std(train_input, axis= 0)\n",
    "train_scaled = (train_input - mean) / std\n",
    "\n",
    "# 전처리 모델 훈련\n",
    "plt.scatter(train_scaled[:,0], train_scaled[:,0])\n",
    "plt.scatter(25,150,marker=\"^\")\n",
    "plt.xlabel(\"lenght\")\n",
    "plt.ylabel(\"weight\")\n",
    "# plt.show()\n",
    "\n",
    "new = ([25,150] - mean) /std\n",
    "\n",
    "plt.scatter(train_scaled[:,0], train_scaled[:,0])\n",
    "plt.scatter(new[0],new[1],marker=\"D\")\n",
    "plt.scatter(25,150,marker=\"^\")\n",
    "plt.xlabel(\"lenght\")\n",
    "plt.ylabel(\"weight\")\n",
    "# plt.show()\n",
    "\n",
    "# 결과 확인\n",
    "kn.fit(train_scaled, train_target)\n",
    "test_scaled = (test_input - mean) / std\n",
    "score =kn.score(test_scaled, test_target)\n",
    "\n",
    "print(score) # 1이 나옴\n",
    "\n",
    "# 그래프 확인\n",
    "\n",
    "distances, indexes = kn.kneighbors([new])\n",
    "plt.scatter(train_scaled[:,0], train_scaled[:,1])\n",
    "plt.scatter(25,150,marker=\"^\")\n",
    "plt.scatter(train_scaled[indexes,0],train_scaled[indexes,1], marker=\"D\")\n",
    "plt.xlabel(\"lenght\")\n",
    "plt.ylabel(\"weight\")\n",
    "plt.show()\n"
   ]
  },
  {
   "cell_type": "code",
   "execution_count": null,
   "outputs": [],
   "source": [],
   "metadata": {
    "collapsed": false
   }
  }
 ],
 "metadata": {
  "kernelspec": {
   "display_name": "Python 3",
   "language": "python",
   "name": "python3"
  },
  "language_info": {
   "codemirror_mode": {
    "name": "ipython",
    "version": 2
   },
   "file_extension": ".py",
   "mimetype": "text/x-python",
   "name": "python",
   "nbconvert_exporter": "python",
   "pygments_lexer": "ipython2",
   "version": "2.7.6"
  }
 },
 "nbformat": 4,
 "nbformat_minor": 0
}
