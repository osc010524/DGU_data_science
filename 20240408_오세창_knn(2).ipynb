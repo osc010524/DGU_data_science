{
 "cells": [
  {
   "cell_type": "markdown",
   "source": [
    "# 20240408 KNN(2)\n",
    "## 지도학습\n",
    "입력(데이터) ---- 타겟(정답) : 훈련데이터가 필요함"
   ],
   "metadata": {
    "collapsed": false
   }
  },
  {
   "cell_type": "code",
   "execution_count": 311,
   "outputs": [
    {
     "name": "stdout",
     "output_type": "stream",
     "text": [
      "49 49\n"
     ]
    }
   ],
   "source": [
    "# 35 개 도미 (bream) 데이터\n",
    "bream_length = [25.4, 26.3, 26.5, 29.0, 29.0, 29.7, 29.7, 30.0, 30.0, 30.7, 31.0, 31.0,\n",
    "                31.5, 32.0, 32.0, 32.0, 33.0, 33.0, 33.5, 33.5, 34.0, 34.0, 34.5, 35.0,\n",
    "                35.0, 35.0, 35.0, 36.0, 36.0, 37.0, 38.5, 38.5, 39.5, 41.0, 41.0]\n",
    "bream_weight = [242.0, 290.0, 340.0, 363.0, 430.0, 450.0, 500.0, 390.0, 450.0, 500.0, 475.0, 500.0,\n",
    "                500.0, 340.0, 600.0, 600.0, 700.0, 700.0, 610.0, 650.0, 575.0, 685.0, 620.0, 680.0,\n",
    "                700.0, 725.0, 720.0, 714.0, 850.0, 1000.0, 920.0, 955.0, 925.0, 975.0, 950.0]\n",
    "# 14개 빙어(smelt) 데이터\n",
    "smelt_length = [9.8, 10.5, 10.6, 11.0, 11.2, 11.3, 11.8, 11.8, 12.0, 12.2, 12.4, 13.0, 14.3, 15.0]\n",
    "smelt_weight = [6.7, 7.5, 7.0, 9.7, 9.8, 8.7, 10.0, 9.9, 9.8, 12.2, 13.4, 12.2, 19.7, 19.9]\n",
    "\n",
    "# 도미와 빙어 데이터 합치기\n",
    "fish_length = bream_length + smelt_length\n",
    "fish_weight = bream_weight + smelt_weight\n",
    "\n",
    "# 한마리 씩 데이터 출력\n",
    "# list(zip(fish_length, fish_weight))\n",
    "\n",
    "# 갯수 출력\n",
    "count_fw = len(fish_weight)\n",
    "count_fl = len(fish_length)\n",
    "print(count_fw, count_fl)"
   ],
   "metadata": {
    "collapsed": false
   }
  },
  {
   "cell_type": "code",
   "execution_count": 312,
   "outputs": [],
   "source": [
    "import matplotlib.pyplot as plt"
   ],
   "metadata": {
    "collapsed": false
   }
  },
  {
   "cell_type": "markdown",
   "source": [
    "### 도미 산점도 시각화 코딩"
   ],
   "metadata": {
    "collapsed": false
   }
  },
  {
   "cell_type": "code",
   "execution_count": 313,
   "outputs": [
    {
     "data": {
      "text/plain": "<Figure size 432x288 with 1 Axes>",
      "image/png": "[encoded data removed]"
     },
     "metadata": {
      "needs_background": "light"
     },
     "output_type": "display_data"
    }
   ],
   "source": [
    "plt.scatter(bream_length, bream_weight)\n",
    "plt.xlabel('length')\n",
    "plt.ylabel('weight')\n",
    "plt.show()"
   ],
   "metadata": {
    "collapsed": false
   }
  },
  {
   "cell_type": "markdown",
   "source": [
    "### 빙어 산점도 시각화 코딩"
   ],
   "metadata": {
    "collapsed": false
   }
  },
  {
   "cell_type": "code",
   "execution_count": 314,
   "outputs": [
    {
     "data": {
      "text/plain": "<Figure size 432x288 with 1 Axes>",
      "image/png": "[encoded data removed]"
     },
     "metadata": {
      "needs_background": "light"
     },
     "output_type": "display_data"
    }
   ],
   "source": [
    "plt.scatter(smelt_length, smelt_weight)\n",
    "plt.xlabel('length')\n",
    "plt.ylabel('weight')\n",
    "plt.show()"
   ],
   "metadata": {
    "collapsed": false
   }
  },
  {
   "cell_type": "markdown",
   "source": [
    "### 도미와 빙어 데이터 합쳐서 산점도 시각화 코딩"
   ],
   "metadata": {
    "collapsed": false
   }
  },
  {
   "cell_type": "code",
   "execution_count": 315,
   "outputs": [
    {
     "data": {
      "text/plain": "<Figure size 432x288 with 1 Axes>",
      "image/png": "[encoded data removed]"
     },
     "metadata": {
      "needs_background": "light"
     },
     "output_type": "display_data"
    }
   ],
   "source": [
    "plt.scatter(bream_length, bream_weight)\n",
    "plt.scatter(smelt_length, smelt_weight, color = 'red')\n",
    "\n",
    "plt.show()"
   ],
   "metadata": {
    "collapsed": false
   }
  },
  {
   "cell_type": "markdown",
   "source": [
    "도미 빙어 2차원 리스트 만들기"
   ],
   "metadata": {
    "collapsed": false
   }
  },
  {
   "cell_type": "code",
   "execution_count": 316,
   "outputs": [
    {
     "data": {
      "text/plain": "array([[  25.4,  242. ],\n       [  26.3,  290. ],\n       [  26.5,  340. ],\n       [  29. ,  363. ],\n       [  29. ,  430. ],\n       [  29.7,  450. ],\n       [  29.7,  500. ],\n       [  30. ,  390. ],\n       [  30. ,  450. ],\n       [  30.7,  500. ],\n       [  31. ,  475. ],\n       [  31. ,  500. ],\n       [  31.5,  500. ],\n       [  32. ,  340. ],\n       [  32. ,  600. ],\n       [  32. ,  600. ],\n       [  33. ,  700. ],\n       [  33. ,  700. ],\n       [  33.5,  610. ],\n       [  33.5,  650. ],\n       [  34. ,  575. ],\n       [  34. ,  685. ],\n       [  34.5,  620. ],\n       [  35. ,  680. ],\n       [  35. ,  700. ],\n       [  35. ,  725. ],\n       [  35. ,  720. ],\n       [  36. ,  714. ],\n       [  36. ,  850. ],\n       [  37. , 1000. ],\n       [  38.5,  920. ],\n       [  38.5,  955. ],\n       [  39.5,  925. ],\n       [  41. ,  975. ],\n       [  41. ,  950. ],\n       [   9.8,    6.7],\n       [  10.5,    7.5],\n       [  10.6,    7. ],\n       [  11. ,    9.7],\n       [  11.2,    9.8],\n       [  11.3,    8.7],\n       [  11.8,   10. ],\n       [  11.8,    9.9],\n       [  12. ,    9.8],\n       [  12.2,   12.2],\n       [  12.4,   13.4],\n       [  13. ,   12.2],\n       [  14.3,   19.7],\n       [  15. ,   19.9]])"
     },
     "execution_count": 316,
     "metadata": {},
     "output_type": "execute_result"
    }
   ],
   "source": [
    "# fish_data = [[l, w] for l, w in zip(fish_length, fish_weight)]\n",
    "# 넌파이 사용\n",
    "import numpy as np\n",
    "fish_data = np.column_stack((fish_length, fish_weight))\n",
    "fish_data"
   ],
   "metadata": {
    "collapsed": false
   }
  },
  {
   "cell_type": "code",
   "execution_count": 317,
   "outputs": [
    {
     "name": "stdout",
     "output_type": "stream",
     "text": [
      "49\n"
     ]
    }
   ],
   "source": [
    "# 데이터 개수 출력\n",
    "print(len(fish_data))"
   ],
   "metadata": {
    "collapsed": false
   }
  },
  {
   "cell_type": "markdown",
   "source": [
    " ## 정답 데이터 만들기"
   ],
   "metadata": {
    "collapsed": false
   }
  },
  {
   "cell_type": "code",
   "execution_count": 318,
   "outputs": [
    {
     "name": "stdout",
     "output_type": "stream",
     "text": [
      "[1, 1, 1, 1, 1, 1, 1, 1, 1, 1, 1, 1, 1, 1, 1, 1, 1, 1, 1, 1, 1, 1, 1, 1, 1, 1, 1, 1, 1, 1, 1, 1, 1, 1, 1, 0, 0, 0, 0, 0, 0, 0, 0, 0, 0, 0, 0, 0, 0]\n"
     ]
    }
   ],
   "source": [
    "fish_target = [1]*35 + [0]*14\n",
    "print(fish_target)"
   ],
   "metadata": {
    "collapsed": false
   }
  },
  {
   "cell_type": "markdown",
   "source": [
    "## K-최근접 사이캇런 패키지에서 객체 만들기"
   ],
   "metadata": {
    "collapsed": false
   }
  },
  {
   "cell_type": "code",
   "execution_count": 319,
   "outputs": [],
   "source": [
    "from sklearn.neighbors import KNeighborsClassifier\n",
    "\n",
    "kn = KNeighborsClassifier()"
   ],
   "metadata": {
    "collapsed": false
   }
  },
  {
   "cell_type": "code",
   "execution_count": 320,
   "outputs": [
    {
     "name": "stdout",
     "output_type": "stream",
     "text": [
      "[ 29. 430.]\n"
     ]
    }
   ],
   "source": [
    "print(fish_data[4]) # 5번째 데이터"
   ],
   "metadata": {
    "collapsed": false
   }
  },
  {
   "cell_type": "code",
   "execution_count": 321,
   "outputs": [
    {
     "name": "stdout",
     "output_type": "stream",
     "text": [
      "[[ 25.4 242. ]\n",
      " [ 26.3 290. ]\n",
      " [ 26.5 340. ]\n",
      " [ 29.  363. ]\n",
      " [ 29.  430. ]]\n"
     ]
    }
   ],
   "source": [
    "print(fish_data[0:5]) # 1~5번째 데이터"
   ],
   "metadata": {
    "collapsed": false
   }
  },
  {
   "cell_type": "code",
   "execution_count": 322,
   "outputs": [
    {
     "name": "stdout",
     "output_type": "stream",
     "text": [
      "[[ 25.4 242. ]\n",
      " [ 26.3 290. ]\n",
      " [ 26.5 340. ]\n",
      " [ 29.  363. ]\n",
      " [ 29.  430. ]]\n"
     ]
    }
   ],
   "source": [
    "print(fish_data[:5]) # 처음부터~5번째 데이터"
   ],
   "metadata": {
    "collapsed": false
   }
  },
  {
   "cell_type": "code",
   "execution_count": 323,
   "outputs": [
    {
     "name": "stdout",
     "output_type": "stream",
     "text": [
      "[[12.2 12.2]\n",
      " [12.4 13.4]\n",
      " [13.  12.2]\n",
      " [14.3 19.7]\n",
      " [15.  19.9]]\n"
     ]
    }
   ],
   "source": [
    "print(fish_data[44:]) # 45번째부터 끝까지 데이터"
   ],
   "metadata": {
    "collapsed": false
   }
  },
  {
   "cell_type": "markdown",
   "source": [
    "## 훈련 데이터 / 테스트 데이터 나누기"
   ],
   "metadata": {
    "collapsed": false
   }
  },
  {
   "cell_type": "code",
   "execution_count": 324,
   "outputs": [],
   "source": [
    "# 훈련 세트(train set)로 입력값 중 0~34번째 인덱스 사용\n",
    "train_input = fish_data[:35]\n",
    "# 훈련 세트(train set)로 타깃값 중 0~34번째 인덱스 사용\n",
    "train_target = fish_target[:35]\n",
    "\n",
    "# 테스트 세트(test set)로 입력값 중 35~끝까지 인덱스 사용\n",
    "test_input = fish_data[35:]\n",
    "# 테스트 세트(test set)로 타깃값 중 35~끝까지 인덱스 사용\n",
    "test_target = fish_target[35:]"
   ],
   "metadata": {
    "collapsed": false
   }
  },
  {
   "cell_type": "markdown",
   "source": [
    "## 샘플링 편향 = smapling bias\n",
    "( 훈련 데이터가 모두 도미이고 테스트 데이터가 모두 빙어인 경우 = 0%)"
   ],
   "metadata": {
    "collapsed": false
   }
  },
  {
   "cell_type": "code",
   "execution_count": 325,
   "outputs": [
    {
     "data": {
      "text/plain": "0.0"
     },
     "execution_count": 325,
     "metadata": {},
     "output_type": "execute_result"
    }
   ],
   "source": [
    "kn = kn.fit(train_input, train_target)\n",
    "kn.score(test_input, test_target)"
   ],
   "metadata": {
    "collapsed": false
   }
  },
  {
   "cell_type": "markdown",
   "source": [
    "numpy 배열을 섞어주는 함수를 이용하여 데이터 섞기"
   ],
   "metadata": {
    "collapsed": false
   }
  },
  {
   "cell_type": "code",
   "execution_count": 326,
   "outputs": [],
   "source": [
    "input_arr = np.array(fish_data)\n",
    "target_arr = np.array(fish_target)\n",
    "# target_arr = fish_target"
   ],
   "metadata": {
    "collapsed": false
   }
  },
  {
   "cell_type": "code",
   "execution_count": 327,
   "outputs": [
    {
     "data": {
      "text/plain": "array([[  25.4,  242. ],\n       [  26.3,  290. ],\n       [  26.5,  340. ],\n       [  29. ,  363. ],\n       [  29. ,  430. ],\n       [  29.7,  450. ],\n       [  29.7,  500. ],\n       [  30. ,  390. ],\n       [  30. ,  450. ],\n       [  30.7,  500. ],\n       [  31. ,  475. ],\n       [  31. ,  500. ],\n       [  31.5,  500. ],\n       [  32. ,  340. ],\n       [  32. ,  600. ],\n       [  32. ,  600. ],\n       [  33. ,  700. ],\n       [  33. ,  700. ],\n       [  33.5,  610. ],\n       [  33.5,  650. ],\n       [  34. ,  575. ],\n       [  34. ,  685. ],\n       [  34.5,  620. ],\n       [  35. ,  680. ],\n       [  35. ,  700. ],\n       [  35. ,  725. ],\n       [  35. ,  720. ],\n       [  36. ,  714. ],\n       [  36. ,  850. ],\n       [  37. , 1000. ],\n       [  38.5,  920. ],\n       [  38.5,  955. ],\n       [  39.5,  925. ],\n       [  41. ,  975. ],\n       [  41. ,  950. ],\n       [   9.8,    6.7],\n       [  10.5,    7.5],\n       [  10.6,    7. ],\n       [  11. ,    9.7],\n       [  11.2,    9.8],\n       [  11.3,    8.7],\n       [  11.8,   10. ],\n       [  11.8,    9.9],\n       [  12. ,    9.8],\n       [  12.2,   12.2],\n       [  12.4,   13.4],\n       [  13. ,   12.2],\n       [  14.3,   19.7],\n       [  15. ,   19.9]])"
     },
     "execution_count": 327,
     "metadata": {},
     "output_type": "execute_result"
    }
   ],
   "source": [
    "input_arr"
   ],
   "metadata": {
    "collapsed": false
   }
  },
  {
   "cell_type": "code",
   "execution_count": 328,
   "outputs": [
    {
     "name": "stdout",
     "output_type": "stream",
     "text": [
      "(49, 2)\n"
     ]
    }
   ],
   "source": [
    "print(input_arr.shape)"
   ],
   "metadata": {
    "collapsed": false
   }
  },
  {
   "cell_type": "code",
   "execution_count": 329,
   "outputs": [
    {
     "name": "stdout",
     "output_type": "stream",
     "text": [
      "[1 1 1 1 1 1 1 1 1 1 1 1 1 1 1 1 1 1 1 1 1 1 1 1 1 1 1 1 1 1 1 1 1 1 1 0 0\n",
      " 0 0 0 0 0 0 0 0 0 0 0 0]\n"
     ]
    }
   ],
   "source": [
    "print(target_arr)"
   ],
   "metadata": {
    "collapsed": false
   }
  },
  {
   "cell_type": "code",
   "execution_count": 330,
   "outputs": [
    {
     "name": "stdout",
     "output_type": "stream",
     "text": [
      "[13 45 47 44 17 27 26 25 31 19 12  4 34  8  3  6 40 41 46 15  9 16 24 33\n",
      " 30  0 43 32  5 29 11 36  1 21  2 37 35 23 39 10 22 18 48 20  7 42 14 28\n",
      " 38]\n"
     ]
    }
   ],
   "source": [
    "# 다른사람이 나이 데이터를 가지고 동일한 데이터를 얻기 위하려 seed의 수를 지정한다.\n",
    "np.random.seed(42) # 일정한 결과를 얻기위해서 최기에 랜덤시드를 지정\n",
    "index = np.arange(49) # 0~48까지 49개의 배열을 만듬\n",
    "np.random.shuffle(index) # index 배열을 섞음\n",
    "\n",
    "print(index)"
   ],
   "metadata": {
    "collapsed": false
   }
  },
  {
   "cell_type": "code",
   "execution_count": 331,
   "outputs": [
    {
     "name": "stdout",
     "output_type": "stream",
     "text": [
      "[[ 25.4 242. ]\n",
      " [ 26.3 290. ]\n",
      " [ 26.5 340. ]\n",
      " [ 29.  363. ]\n",
      " [ 29.  430. ]\n",
      " [ 29.7 450. ]\n",
      " [ 29.7 500. ]\n",
      " [ 30.  390. ]\n",
      " [ 30.  450. ]\n",
      " [ 30.7 500. ]\n",
      " [ 31.  475. ]]\n"
     ]
    }
   ],
   "source": [
    "print(input_arr[[0,1,2,3,4,5,6,7,8,9,10]])"
   ],
   "metadata": {
    "collapsed": false
   }
  },
  {
   "cell_type": "code",
   "execution_count": 332,
   "outputs": [
    {
     "name": "stdout",
     "output_type": "stream",
     "text": [
      "[[ 25.4 242. ]\n",
      " [ 26.3 290. ]]\n"
     ]
    }
   ],
   "source": [
    "print(input_arr[[0,1]])"
   ],
   "metadata": {
    "collapsed": false
   }
  },
  {
   "cell_type": "code",
   "execution_count": 333,
   "outputs": [
    {
     "name": "stdout",
     "output_type": "stream",
     "text": [
      "[[ 26.3 290. ]\n",
      " [ 26.5 340. ]]\n"
     ]
    }
   ],
   "source": [
    "print(input_arr[[1,2]])"
   ],
   "metadata": {
    "collapsed": false
   }
  },
  {
   "cell_type": "markdown",
   "source": [
    "index 배열의 처음 5개를 input_arr, target_arr에 전달하여, 랜덤하게 5개의 샘플을 훈련세트로 만듬\n",
    "\n",
    "나머지 14개로 테스트 세트를 만듦"
   ],
   "metadata": {
    "collapsed": false
   }
  },
  {
   "cell_type": "code",
   "execution_count": 334,
   "outputs": [
    {
     "name": "stdout",
     "output_type": "stream",
     "text": [
      "[ 32. 340.] [ 32. 340.]\n"
     ]
    }
   ],
   "source": [
    "train_input = input_arr[index[:35]]\n",
    "train_target = target_arr[index[:35]]\n",
    "\n",
    "print(input_arr[13], train_input[0])"
   ],
   "metadata": {
    "collapsed": false
   }
  },
  {
   "cell_type": "code",
   "execution_count": 335,
   "outputs": [
    {
     "name": "stdout",
     "output_type": "stream",
     "text": [
      "[15.  19.9] [ 32. 340.]\n"
     ]
    }
   ],
   "source": [
    "test_input = input_arr[index[35:]]\n",
    "test_target = target_arr[index[35:]]\n",
    "\n",
    "print(input_arr[48], train_input[0])"
   ],
   "metadata": {
    "collapsed": false
   }
  },
  {
   "cell_type": "markdown",
   "source": [
    "훈련, 테스트가 잘 섞여 있는지 산점도로 확인 (파랑 : 훈련, 주활: 테스트)"
   ],
   "metadata": {
    "collapsed": false
   }
  },
  {
   "cell_type": "code",
   "execution_count": 336,
   "outputs": [
    {
     "data": {
      "text/plain": "<Figure size 432x288 with 1 Axes>",
      "image/png": "[encoded data removed]"
     },
     "metadata": {
      "needs_background": "light"
     },
     "output_type": "display_data"
    }
   ],
   "source": [
    "import matplotlib.pyplot as plt\n",
    "\n",
    "plt.scatter(train_input[:,0], train_input[:,1], color = 'blue')\n",
    "plt.scatter(test_input[:,0], test_input[:,1], color = 'orange')\n",
    "plt.xlabel('length')\n",
    "plt.ylabel('weight')\n",
    "plt.show()"
   ],
   "metadata": {
    "collapsed": false
   }
  },
  {
   "cell_type": "markdown",
   "source": [
    "두번쨰 머신러닝 프로그램 ( 훈련세트, 테스트 세트 -> KNN모델 훈련)"
   ],
   "metadata": {
    "collapsed": false
   }
  },
  {
   "cell_type": "code",
   "execution_count": 337,
   "outputs": [],
   "source": [
    "kn = kn.fit(train_input, train_target)"
   ],
   "metadata": {
    "collapsed": false
   }
  },
  {
   "cell_type": "code",
   "execution_count": 338,
   "outputs": [
    {
     "data": {
      "text/plain": "1.0"
     },
     "execution_count": 338,
     "metadata": {},
     "output_type": "execute_result"
    }
   ],
   "source": [
    "kn.score(test_input, test_target)"
   ],
   "metadata": {
    "collapsed": false
   }
  },
  {
   "cell_type": "code",
   "execution_count": 339,
   "outputs": [
    {
     "data": {
      "text/plain": "array([0, 0, 1, 0, 1, 1, 1, 0, 1, 1, 0, 1, 1, 0])"
     },
     "execution_count": 339,
     "metadata": {},
     "output_type": "execute_result"
    }
   ],
   "source": [
    "kn.predict(test_input)"
   ],
   "metadata": {
    "collapsed": false
   }
  },
  {
   "cell_type": "code",
   "execution_count": 340,
   "outputs": [
    {
     "data": {
      "text/plain": "array([0, 0, 1, 0, 1, 1, 1, 0, 1, 1, 0, 1, 1, 0])"
     },
     "execution_count": 340,
     "metadata": {},
     "output_type": "execute_result"
    }
   ],
   "source": [
    "test_target"
   ],
   "metadata": {
    "collapsed": false
   }
  },
  {
   "cell_type": "code",
   "execution_count": 341,
   "outputs": [
    {
     "name": "stdout",
     "output_type": "stream",
     "text": [
      "[0 0 1 0 1 1 1 0 1 1 0 1 1 0]\n"
     ]
    }
   ],
   "source": [
    "print(test_target)"
   ],
   "metadata": {
    "collapsed": false
   }
  },
  {
   "cell_type": "code",
   "execution_count": 341,
   "outputs": [],
   "source": [],
   "metadata": {
    "collapsed": false
   }
  }
 ],
 "metadata": {
  "kernelspec": {
   "display_name": "Python 3",
   "language": "python",
   "name": "python3"
  },
  "language_info": {
   "codemirror_mode": {
    "name": "ipython",
    "version": 2
   },
   "file_extension": ".py",
   "mimetype": "text/x-python",
   "name": "python",
   "nbconvert_exporter": "python",
   "pygments_lexer": "ipython2",
   "version": "2.7.6"
  }
 },
 "nbformat": 4,
 "nbformat_minor": 0
}
